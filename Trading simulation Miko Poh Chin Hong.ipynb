{
 "cells": [
  {
   "attachments": {},
   "cell_type": "markdown",
   "metadata": {},
   "source": [
    "# 1. Back testing of 2022 STI data with classification model and LSTM model"
   ]
  },
  {
   "attachments": {},
   "cell_type": "markdown",
   "metadata": {},
   "source": [
    "## 1.1 Load libraries"
   ]
  },
  {
   "cell_type": "code",
   "execution_count": 27,
   "metadata": {},
   "outputs": [],
   "source": [
    "# Importing libraries\n",
    "import yfinance as yf\n",
    "import numpy as np\n",
    "import pandas as pd\n",
    "import matplotlib.pyplot as plt\n",
    "import seaborn as sns\n",
    "from keras.models import load_model\n",
    "from sklearn.preprocessing import MinMaxScaler\n",
    "from sklearn.preprocessing import StandardScaler\n",
    "from sklearn.model_selection import train_test_split\n",
    "from sklearn.metrics import confusion_matrix\n",
    "import plotly.graph_objs as go\n",
    "import plotly.offline as offline\n",
    "import xgboost as xgb"
   ]
  },
  {
   "attachments": {},
   "cell_type": "markdown",
   "metadata": {},
   "source": [
    "## 1.2 Load previously learnt models from classification and LSTM"
   ]
  },
  {
   "cell_type": "code",
   "execution_count": 28,
   "metadata": {},
   "outputs": [],
   "source": [
    "# Load previously learnt models\n",
    "LSTM_univariate = load_model('LSTM_univariate.h5')\n",
    "LSTM_multivariate = load_model('LSTM_multivariate.h5')\n",
    "\n",
    "# Only work with these indicators: 'ema_period_5_diff', 'stochastic_period_5', 'force_index_5', 'macd_diff', 'stochastic_period_10'\n",
    "# clf_stack = pickle.load(open(\"classification_stacked_model\",\"rb\"))\n",
    "clf_xgb = xgb.XGBClassifier()\n",
    "clf_xgb.load_model(\"clf_xgb.json\")\n"
   ]
  },
  {
   "attachments": {},
   "cell_type": "markdown",
   "metadata": {},
   "source": [
    "## 1.3 Extract data from 2021 onwards and add necessary technical indicators"
   ]
  },
  {
   "cell_type": "code",
   "execution_count": 29,
   "metadata": {},
   "outputs": [],
   "source": [
    "# Data from 2021 onwards to be use for back testing\n",
    "# Loading STI's history into a dataframe\n",
    "sti= yf.Ticker(\"^sti\")\n",
    "sti_df = sti.history(period='max')\n",
    "sti_df.drop([\"Dividends\",\"Stock Splits\"], axis=1, inplace=True)\n",
    "back_testing_df = sti_df[sti_df.index.year>=2021]"
   ]
  },
  {
   "cell_type": "code",
   "execution_count": 30,
   "metadata": {},
   "outputs": [],
   "source": [
    "def ema(file_name, period, price, smoothing = 2, column_name=\"ema_period\"):\n",
    "    \n",
    "    \"\"\"\n",
    "    Calculation of EMA is as follows:\n",
    "\n",
    "    EMA = (price * (smoothing / (1 + duration)) + previous_ema * (1 - (smoothing / (1 + duration)))\n",
    "\n",
    "    \"\"\"\n",
    "    previous_ema = file_name.loc[:period, price].mean() #Getting average to be use as first ema\n",
    "    \n",
    "    ema_list = [previous_ema] # Storing first ema as a list and to store other ema values\n",
    "\n",
    "    for i in range(period-1):\n",
    "        #Insert 0 into elements before first EMA as first number period of values will not have ema values\n",
    "        ema_list.insert(0, 0)\n",
    "    \n",
    "    # Calculating EMA for the rest\n",
    "    for row_num in range(period, len(file_name[price])):\n",
    "        current_price = file_name.loc[row_num, price]\n",
    "        ema_temp = current_price * (smoothing / (1 + period)) + previous_ema * (1 - (smoothing / (1 + period)))\n",
    "        previous_ema = ema_temp\n",
    "        ema_list.append(ema_temp) # Appending of ema into list\n",
    "\n",
    "    # Adding new column and add ema to it    \n",
    "    file_name[f\"{column_name}_{period}\"] = ema_list\n",
    "\n",
    "def macd(file_name):\n",
    "    \"\"\"\n",
    "    Calculation for MACD as follows:\n",
    "    MACD = ema_period_12 - ema_period_26\n",
    "    Signal = ema_period_9 of MACD\n",
    "    MACD_histogram = MACD - Signal\n",
    "\n",
    "    Make sure dataframe has column \"ema_period_26\" and \"ema_period_12\"\n",
    "    \"\"\"\n",
    "\n",
    "    file_name[\"macd\"] = file_name[\"ema_period_12\"] - file_name[\"ema_period_26\"]\n",
    "    ema(file_name, period=9, price=\"macd\", column_name=\"signal_of_macd\")\n",
    "    file_name[\"macd_histogram\"] = file_name[\"macd\"] - file_name[\"signal_of_macd_9\"]\n",
    "\n",
    "\n",
    "def stochastic(file_name, period = 14, price = \"Close\"):\n",
    "    \"\"\"\n",
    "    Calculation for stochastic is ((Closing_price - period_low) / (period_high - period_low)) * 100\n",
    "    Period is define by user, default setting is 14\n",
    "    Additional 2 columns will be created to show the high and low of the defined period\n",
    "    \"\"\"\n",
    "    file_name[f\"high_period_{period}\"] = file_name[price].rolling(period).max()\n",
    "    file_name[f\"low_period_{period}\"] = file_name[price].rolling(period).min()\n",
    "\n",
    "    file_name[f\"stochastic_period_{period}\"] = ((file_name[price] - file_name[f\"low_period_{period}\"]) / (file_name[f\"high_period_{period}\"] - file_name[f\"low_period_{period}\"])) * 100\n",
    "\n",
    "def force_index(file_name, period = 1, price = \"Close\"):\n",
    "    \"\"\"\n",
    "    Default price use is \"Close\"\n",
    "    Force Index(1) = {Close (current period)  -  Close (prior period)} x Volume\n",
    "    Force Index(13) = 13-period EMA of Force Index(1)\n",
    "    Change from yesterday close and today close will be calculate into a new column \"close_diff\"\n",
    "    \"\"\"\n",
    "    file_name[\"close_diff\"] = file_name[price].diff()\n",
    "    file_name[f\"force_index_period_{period}\"] = file_name[\"close_diff\"] * file_name[\"Volume\"]\n"
   ]
  },
  {
   "cell_type": "code",
   "execution_count": 31,
   "metadata": {},
   "outputs": [],
   "source": [
    "# Calculating ema\n",
    "sti_df.reset_index(inplace=True) # Reset index for easier ema calculation\n",
    "ema(sti_df,5,\"Close\")\n",
    "\n",
    "# Calculating stochastic \n",
    "for i in [5, 10]:\n",
    "    stochastic(sti_df, period = i)\n",
    "\n",
    "# Adding force index period 1 feature into data\n",
    "force_index(sti_df) # Default for force index, period 1 has to be calculated first before calculating other periods\n",
    "\n",
    "# Calcuation of force index for period 5 by using ema on force index period 1\n",
    "ema(sti_df,5,\"force_index_period_1\",column_name=\"force_index\")\n",
    "\n",
    "# Calculating ema for 12 and 26 periods to calculate macd\n",
    "ema(sti_df,12,\"Close\")\n",
    "ema(sti_df,26,\"Close\")\n",
    "macd(sti_df)"
   ]
  },
  {
   "cell_type": "code",
   "execution_count": 32,
   "metadata": {},
   "outputs": [],
   "source": [
    "# Change in force index period 5\n",
    "sti_df[\"force_index_5_diff\"] = sti_df[\"force_index_5\"].diff()\n",
    "\n",
    "# Calculating change of ema period 5\n",
    "sti_df[\"ema_period_5_diff\"] = sti_df[\"ema_period_5\"].diff()\n",
    "\n",
    "# Calculate the change from previous to current macd\n",
    "sti_df[\"macd_diff\"] = sti_df[\"macd\"].diff()\n",
    "\n",
    "# Classification based on change in ema period of 5 days, 1 for positive change and 0 for negative change\n",
    "sti_df.loc[sti_df['ema_period_5_diff'] > 0, ['Next_day_movement']] = 1\n",
    "sti_df.loc[sti_df['ema_period_5_diff'] <= 0, ['Next_day_movement']] = 0\n",
    "\n",
    "# Shifting the current day movement to previous day to put it as label\n",
    "sti_df['Next_day_movement'] = sti_df['Next_day_movement'].shift(-1)\n",
    "\n",
    "# Removing first 25 data as ema calculation could not be done\n",
    "sti_df = sti_df.iloc[25:]\n",
    "\n",
    "# Remove data that has no volume/ no trades for classification model and reset index\n",
    "sti_df.dropna(axis=0)# Dropna is to remove current day record which have no next day movement\n",
    "sti_clf_df = sti_df[sti_df[\"Volume\"] > 0] # Data to be use for classification model\n",
    "\n",
    "# Set date to be index\n",
    "sti_df.index = sti_df[\"Date\"]\n",
    "sti_clf_df.index = sti_clf_df[\"Date\"]"
   ]
  },
  {
   "attachments": {},
   "cell_type": "markdown",
   "metadata": {},
   "source": [
    "# 1.4 Backtest of data\n",
    "Data from 2022 onwards have not been seen by any of the model yet<br>\n",
    "Classification model and LSTM model will be combined to give a final prediction<br>\n",
    "Backtest will be done on 2022 date with the following strategy and assumption<br>\n",
    "-If currently no position in market, will take up the first prediction direction(long/short)<br>\n",
    "-If currently position is in market, will check next prediction whether is it the same as currently position(buy prediction with current long position)<br>\n",
    "-If next prediction is not in favour of current position(sell prediction with current long position), will exit current position and take up the prediction direction(sell current long position and sell again to take up a short position)<br>\n",
    "-Assuming buy and sell price is exactly at closing price of the prediction appear"
   ]
  },
  {
   "attachments": {},
   "cell_type": "markdown",
   "metadata": {},
   "source": [
    "## 1.4.1 Peparing of the data by separating into before and after 2022 data and scaling"
   ]
  },
  {
   "cell_type": "code",
   "execution_count": 33,
   "metadata": {},
   "outputs": [],
   "source": [
    "# Serparating data into before and after 2022\n",
    "sti_clf_df_before_2022 = sti_clf_df.loc[sti_clf_df.index.year < 2022]\n",
    "sti_clf_df_2022 = sti_clf_df.loc[sti_clf_df.index.year == 2022]\n",
    "sti_df_before_2022 = sti_df.loc[sti_df.index.year < 2022]\n",
    "sti_df_2022 = sti_df.loc[sti_df.index.year == 2022]\n",
    "\n",
    "# Slice data before 2022 into X for fitting into scaling for classification\n",
    "clf_X_before_2022 = sti_clf_df_before_2022[['ema_period_5_diff', 'stochastic_period_5', 'force_index_5', 'macd_diff', 'stochastic_period_10']]\n",
    "\n",
    "# Separating 2022 data into x and y for classification\n",
    "clf_X_2022 = sti_clf_df_2022[['ema_period_5_diff', 'stochastic_period_5', 'force_index_5', 'macd_diff', 'stochastic_period_10']]\n",
    "clf_y_2022 = sti_clf_df_2022[\"Next_day_movement\"]\n",
    "\n",
    "# Extract Closing price as array for date before and after 2022 for univariate LSTM\n",
    "univariate_lstm_before_2022 = sti_df_before_2022[[\"Close\"]].values # Array need to be in 2D\n",
    "univariate_lstm_2022 = sti_df_2022[[\"Close\"]].values\n",
    "\n",
    "# Extract Closing price as array for date before and after 2022 for multivariate LSTM\n",
    "multivariate_lstm_before_2022 = sti_df_before_2022[[\"ema_period_5_diff\", \"stochastic_period_5\", \"macd_diff\", \"stochastic_period_10\", \"Close\"]].values\n",
    "multivariate_lstm_2022 = sti_df_2022[[\"ema_period_5_diff\", \"stochastic_period_5\", \"macd_diff\", \"stochastic_period_10\", \"Close\"]].values"
   ]
  },
  {
   "cell_type": "code",
   "execution_count": 34,
   "metadata": {},
   "outputs": [],
   "source": [
    "# Perform scaling to trasform data between zero and one\n",
    "mmc_clf = MinMaxScaler()\n",
    "mmc_lstm = MinMaxScaler()\n",
    "mmc_lstm_multi = MinMaxScaler()\n",
    "\n",
    "# Fitting data before 2022 and then transform 2022 classification data into scaled data\n",
    "mmc_clf.fit(clf_X_before_2022)\n",
    "testing_set_scaled = mmc_clf.transform(clf_X_2022)\n",
    "\n",
    "# Fitting closing price before 2022 and then transform 2022 classification closing price into scaled data\n",
    "univariate_lstm_before_2022_scaled = mmc_lstm.fit_transform(univariate_lstm_before_2022)\n",
    "univariate_lstm_2022_scaled = mmc_lstm.transform(univariate_lstm_2022)\n",
    "\n",
    "# Fitting closing price before 2022 and then transform 2022 classification closing price into scaled data\n",
    "multivariate_lstm_before_2022_scaled = mmc_lstm_multi.fit_transform(multivariate_lstm_before_2022)\n",
    "multivariate_lstm_2022_scaled = mmc_lstm_multi.transform(multivariate_lstm_2022)"
   ]
  },
  {
   "cell_type": "code",
   "execution_count": 35,
   "metadata": {},
   "outputs": [],
   "source": [
    "# Restructure input to have a certain a amount of steps to one output for univariate\n",
    "X_lstm = []\n",
    "\n",
    "# Combine last 50 training data from before 2022 with 2022 data\n",
    "closing_price_2022_scaled = np.vstack((univariate_lstm_before_2022_scaled[-50:], univariate_lstm_2022_scaled))\n",
    "\n",
    "# 50 price/steps for one input\n",
    "for i in range(50, len(closing_price_2022_scaled)):\n",
    "    X_lstm.append(closing_price_2022_scaled[i-50:i, 0])\n",
    "\n",
    "X_lstm = np.array(X_lstm)"
   ]
  },
  {
   "cell_type": "code",
   "execution_count": 36,
   "metadata": {},
   "outputs": [],
   "source": [
    "# Restructure input to have a certain a amount of steps to one output for multivariate\n",
    "X_lstm_multivariate = []\n",
    "\n",
    "# Combine last 50 training data before 2022 with 2022 data\n",
    "multi_closing_price_2022_scaled = np.vstack((multivariate_lstm_before_2022_scaled[-50:], multivariate_lstm_2022_scaled))\n",
    "\n",
    "# 50 price/steps for one input\n",
    "for i in range(50, len(multi_closing_price_2022_scaled)):\n",
    "    X_lstm_multivariate.append(multi_closing_price_2022_scaled[i-50:i,:])\n",
    "\n",
    "X_lstm_multivariate = np.array(X_lstm_multivariate)"
   ]
  },
  {
   "attachments": {},
   "cell_type": "markdown",
   "metadata": {},
   "source": [
    "## 1.4.2 Predicting 2022 movement or prices with classification and lstm models"
   ]
  },
  {
   "cell_type": "code",
   "execution_count": 37,
   "metadata": {},
   "outputs": [],
   "source": [
    "# Predict classification label with the validation data\n",
    "clf_predict = clf_xgb.predict(testing_set_scaled)"
   ]
  },
  {
   "cell_type": "code",
   "execution_count": 38,
   "metadata": {},
   "outputs": [
    {
     "name": "stdout",
     "output_type": "stream",
     "text": [
      "8/8 [==============================] - 3s 14ms/step\n"
     ]
    }
   ],
   "source": [
    "# Predict next day closing price with LSTM model\n",
    "# Finding the predictions and inverse transform for plotting\n",
    "prediction = LSTM_univariate.predict(X_lstm)\n",
    "prediction_inverse = mmc_lstm.inverse_transform(prediction)"
   ]
  },
  {
   "cell_type": "code",
   "execution_count": 39,
   "metadata": {},
   "outputs": [
    {
     "data": {
      "text/plain": [
       "<matplotlib.legend.Legend at 0x26bf6215090>"
      ]
     },
     "execution_count": 39,
     "metadata": {},
     "output_type": "execute_result"
    },
    {
     "data": {
      "image/png": "[encoded data removed]",
      "text/plain": [
       "<Figure size 1000x700 with 1 Axes>"
      ]
     },
     "metadata": {},
     "output_type": "display_data"
    }
   ],
   "source": [
    "# Combine actual and prediction as dataframe for plotting\n",
    "actual_predict_df = sti_df[sti_df.index.year == 2022][[\"Close\"]]\n",
    "actual_predict_df[\"prediction\"] = prediction_inverse\n",
    "\n",
    "# Plotting prediction with actual values\n",
    "plt.figure(figsize = (10,7))\n",
    "plt.plot(actual_predict_df, label=[\"Actual\",\"Prediction\"])\n",
    "plt.xlim(pd.to_datetime(2022, format=\"%Y\"),pd.to_datetime(2023, format=\"%Y\") )\n",
    "plt.title(\"Univariate LSTM prediction against actual\")\n",
    "plt.xlabel(\"Date\")\n",
    "plt.ylabel(\"Price\")\n",
    "plt.legend()"
   ]
  },
  {
   "attachments": {},
   "cell_type": "markdown",
   "metadata": {},
   "source": [
    "## 1.4.3 Predicting 2022 movement by using multivariate lstm model"
   ]
  },
  {
   "cell_type": "code",
   "execution_count": 40,
   "metadata": {},
   "outputs": [
    {
     "name": "stdout",
     "output_type": "stream",
     "text": [
      "8/8 [==============================] - 1s 14ms/step\n"
     ]
    }
   ],
   "source": [
    "# Predict next day closing price with LSTM model\n",
    "# Finding the predictions and inverse transform for plotting\n",
    "multi_lstm_prediction = LSTM_multivariate.predict(X_lstm_multivariate)\n",
    "multi_lstm_prediction = np.concatenate((multi_closing_price_2022_scaled[50:,0:4], multi_lstm_prediction), axis=1)\n",
    "multi_lstm_prediction_inverse = mmc_lstm_multi.inverse_transform(multi_lstm_prediction)"
   ]
  },
  {
   "cell_type": "code",
   "execution_count": 41,
   "metadata": {},
   "outputs": [
    {
     "data": {
      "text/plain": [
       "<matplotlib.legend.Legend at 0x26bf750e830>"
      ]
     },
     "execution_count": 41,
     "metadata": {},
     "output_type": "execute_result"
    },
    {
     "data": {
      "image/png": "[encoded data removed]",
      "text/plain": [
       "<Figure size 1000x700 with 1 Axes>"
      ]
     },
     "metadata": {},
     "output_type": "display_data"
    }
   ],
   "source": [
    "# Combine actual and prediction as dataframe for plotting\n",
    "actual_predict_df = sti_df[sti_df.index.year == 2022][[\"Close\"]]\n",
    "actual_predict_df[\"prediction\"] = multi_lstm_prediction_inverse[:,-1]\n",
    "\n",
    "# Plotting prediction with actual values\n",
    "plt.figure(figsize = (10,7))\n",
    "plt.plot(actual_predict_df, label=[\"Actual\",\"Prediction\"])\n",
    "plt.xlim(pd.to_datetime(2022, format=\"%Y\"),pd.to_datetime(2023, format=\"%Y\"))\n",
    "plt.title(\"Multivariate LSTM prediction against actual\")\n",
    "plt.xlabel(\"Date\")\n",
    "plt.ylabel(\"Price\")\n",
    "plt.legend()"
   ]
  },
  {
   "attachments": {},
   "cell_type": "markdown",
   "metadata": {},
   "source": [
    "# 2. Trading simulation with 2022 data"
   ]
  },
  {
   "attachments": {},
   "cell_type": "markdown",
   "metadata": {},
   "source": [
    "## 2.1 Combining all models predictions with actual labels and closing prices"
   ]
  },
  {
   "cell_type": "code",
   "execution_count": 42,
   "metadata": {},
   "outputs": [],
   "source": [
    "# Slice closing price and next day movement for back test\n",
    "back_test_df = sti_df[sti_df.index.year == 2022][[\"Close\",\"Next_day_movement\",\"Date\"]]\n",
    "back_test_df.index = back_test_df[\"Date\"]\n",
    "back_test_df.drop(\"Date\", axis=1, inplace=True)"
   ]
  },
  {
   "cell_type": "code",
   "execution_count": 43,
   "metadata": {},
   "outputs": [],
   "source": [
    "# Insert predictions into dataframe\n",
    "back_test_df[\"clf_prediction\"] = clf_predict\n",
    "back_test_df[\"lstm_univariate_prediction\"] = prediction_inverse\n",
    "back_test_df[\"lstm_multivariate_prediction\"]= multi_lstm_prediction_inverse[:,-1]\n",
    "\n",
    "# Convert multivariate LSTM prediction into 1 or 0\n",
    "back_test_df[\"lstm_multivariate_prediction\"] = back_test_df[\"lstm_multivariate_prediction\"].diff() # Calculate from yesterday prediction\n",
    "back_test_df[\"lstm_multivariate_prediction\"].shift(-1)\n",
    "back_test_df.loc[back_test_df[\"lstm_multivariate_prediction\"] < 0, [\"lstm_multivariate_prediction\"]] = 0\n",
    "back_test_df.loc[back_test_df[\"lstm_multivariate_prediction\"] > 0, [\"lstm_multivariate_prediction\"]] = 1\n",
    "\n",
    "# Convert LSTM prediction into into 1 or 0\n",
    "back_test_df[\"lstm_univariate_prediction\"] = back_test_df[\"lstm_univariate_prediction\"].diff() # Calculate from yesterday prediction\n",
    "back_test_df[\"lstm_univariate_prediction\"].shift(-1)\n",
    "back_test_df.loc[back_test_df[\"lstm_univariate_prediction\"] < 0, [\"lstm_univariate_prediction\"]] = 0\n",
    "back_test_df.loc[back_test_df[\"lstm_univariate_prediction\"] > 0, [\"lstm_univariate_prediction\"]] = 1\n",
    "\n",
    "# Drop na\n",
    "back_test_df.dropna(inplace = True)"
   ]
  },
  {
   "cell_type": "code",
   "execution_count": 61,
   "metadata": {},
   "outputs": [
    {
     "data": {
      "text/html": [
       "<div>\n",
       "<style scoped>\n",
       "    .dataframe tbody tr th:only-of-type {\n",
       "        vertical-align: middle;\n",
       "    }\n",
       "\n",
       "    .dataframe tbody tr th {\n",
       "        vertical-align: top;\n",
       "    }\n",
       "\n",
       "    .dataframe thead th {\n",
       "        text-align: right;\n",
       "    }\n",
       "</style>\n",
       "<table border=\"1\" class=\"dataframe\">\n",
       "  <thead>\n",
       "    <tr style=\"text-align: right;\">\n",
       "      <th></th>\n",
       "      <th>Close</th>\n",
       "      <th>Next_day_movement</th>\n",
       "      <th>Classification</th>\n",
       "      <th>Univariate</th>\n",
       "      <th>Multivariate</th>\n",
       "      <th>Univariate + Multivariate</th>\n",
       "      <th>Classification + Univariate</th>\n",
       "      <th>Classification + Multivariate</th>\n",
       "      <th>Combine</th>\n",
       "    </tr>\n",
       "    <tr>\n",
       "      <th>Date</th>\n",
       "      <th></th>\n",
       "      <th></th>\n",
       "      <th></th>\n",
       "      <th></th>\n",
       "      <th></th>\n",
       "      <th></th>\n",
       "      <th></th>\n",
       "      <th></th>\n",
       "      <th></th>\n",
       "    </tr>\n",
       "  </thead>\n",
       "  <tbody>\n",
       "    <tr>\n",
       "      <th>2022-01-04</th>\n",
       "      <td>3181.129883</td>\n",
       "      <td>1.0</td>\n",
       "      <td>1</td>\n",
       "      <td>1.0</td>\n",
       "      <td>1.0</td>\n",
       "      <td>1.0</td>\n",
       "      <td>1.0</td>\n",
       "      <td>1.0</td>\n",
       "      <td>1.0</td>\n",
       "    </tr>\n",
       "    <tr>\n",
       "      <th>2022-01-05</th>\n",
       "      <td>3163.439941</td>\n",
       "      <td>1.0</td>\n",
       "      <td>1</td>\n",
       "      <td>1.0</td>\n",
       "      <td>1.0</td>\n",
       "      <td>1.0</td>\n",
       "      <td>1.0</td>\n",
       "      <td>1.0</td>\n",
       "      <td>1.0</td>\n",
       "    </tr>\n",
       "    <tr>\n",
       "      <th>2022-01-06</th>\n",
       "      <td>3184.300049</td>\n",
       "      <td>1.0</td>\n",
       "      <td>1</td>\n",
       "      <td>0.0</td>\n",
       "      <td>0.0</td>\n",
       "      <td>0.0</td>\n",
       "      <td>no_prediction</td>\n",
       "      <td>no_prediction</td>\n",
       "      <td>no_prediction</td>\n",
       "    </tr>\n",
       "    <tr>\n",
       "      <th>2022-01-07</th>\n",
       "      <td>3205.260010</td>\n",
       "      <td>1.0</td>\n",
       "      <td>1</td>\n",
       "      <td>1.0</td>\n",
       "      <td>1.0</td>\n",
       "      <td>1.0</td>\n",
       "      <td>1.0</td>\n",
       "      <td>1.0</td>\n",
       "      <td>1.0</td>\n",
       "    </tr>\n",
       "    <tr>\n",
       "      <th>2022-01-10</th>\n",
       "      <td>3227.050049</td>\n",
       "      <td>1.0</td>\n",
       "      <td>1</td>\n",
       "      <td>1.0</td>\n",
       "      <td>1.0</td>\n",
       "      <td>1.0</td>\n",
       "      <td>1.0</td>\n",
       "      <td>1.0</td>\n",
       "      <td>1.0</td>\n",
       "    </tr>\n",
       "    <tr>\n",
       "      <th>...</th>\n",
       "      <td>...</td>\n",
       "      <td>...</td>\n",
       "      <td>...</td>\n",
       "      <td>...</td>\n",
       "      <td>...</td>\n",
       "      <td>...</td>\n",
       "      <td>...</td>\n",
       "      <td>...</td>\n",
       "      <td>...</td>\n",
       "    </tr>\n",
       "    <tr>\n",
       "      <th>2022-12-23</th>\n",
       "      <td>3257.699951</td>\n",
       "      <td>1.0</td>\n",
       "      <td>0</td>\n",
       "      <td>1.0</td>\n",
       "      <td>1.0</td>\n",
       "      <td>1.0</td>\n",
       "      <td>no_prediction</td>\n",
       "      <td>no_prediction</td>\n",
       "      <td>no_prediction</td>\n",
       "    </tr>\n",
       "    <tr>\n",
       "      <th>2022-12-27</th>\n",
       "      <td>3266.379883</td>\n",
       "      <td>1.0</td>\n",
       "      <td>0</td>\n",
       "      <td>0.0</td>\n",
       "      <td>0.0</td>\n",
       "      <td>0.0</td>\n",
       "      <td>0.0</td>\n",
       "      <td>0.0</td>\n",
       "      <td>0.0</td>\n",
       "    </tr>\n",
       "    <tr>\n",
       "      <th>2022-12-28</th>\n",
       "      <td>3266.969971</td>\n",
       "      <td>0.0</td>\n",
       "      <td>0</td>\n",
       "      <td>1.0</td>\n",
       "      <td>1.0</td>\n",
       "      <td>1.0</td>\n",
       "      <td>no_prediction</td>\n",
       "      <td>no_prediction</td>\n",
       "      <td>no_prediction</td>\n",
       "    </tr>\n",
       "    <tr>\n",
       "      <th>2022-12-29</th>\n",
       "      <td>3249.239990</td>\n",
       "      <td>0.0</td>\n",
       "      <td>0</td>\n",
       "      <td>1.0</td>\n",
       "      <td>1.0</td>\n",
       "      <td>1.0</td>\n",
       "      <td>no_prediction</td>\n",
       "      <td>no_prediction</td>\n",
       "      <td>no_prediction</td>\n",
       "    </tr>\n",
       "    <tr>\n",
       "      <th>2022-12-30</th>\n",
       "      <td>3251.320068</td>\n",
       "      <td>0.0</td>\n",
       "      <td>0</td>\n",
       "      <td>0.0</td>\n",
       "      <td>0.0</td>\n",
       "      <td>0.0</td>\n",
       "      <td>0.0</td>\n",
       "      <td>0.0</td>\n",
       "      <td>0.0</td>\n",
       "    </tr>\n",
       "  </tbody>\n",
       "</table>\n",
       "<p>249 rows × 9 columns</p>\n",
       "</div>"
      ],
      "text/plain": [
       "                  Close  Next_day_movement  Classification  Univariate  \\\n",
       "Date                                                                     \n",
       "2022-01-04  3181.129883                1.0               1         1.0   \n",
       "2022-01-05  3163.439941                1.0               1         1.0   \n",
       "2022-01-06  3184.300049                1.0               1         0.0   \n",
       "2022-01-07  3205.260010                1.0               1         1.0   \n",
       "2022-01-10  3227.050049                1.0               1         1.0   \n",
       "...                 ...                ...             ...         ...   \n",
       "2022-12-23  3257.699951                1.0               0         1.0   \n",
       "2022-12-27  3266.379883                1.0               0         0.0   \n",
       "2022-12-28  3266.969971                0.0               0         1.0   \n",
       "2022-12-29  3249.239990                0.0               0         1.0   \n",
       "2022-12-30  3251.320068                0.0               0         0.0   \n",
       "\n",
       "            Multivariate Univariate + Multivariate  \\\n",
       "Date                                                 \n",
       "2022-01-04           1.0                       1.0   \n",
       "2022-01-05           1.0                       1.0   \n",
       "2022-01-06           0.0                       0.0   \n",
       "2022-01-07           1.0                       1.0   \n",
       "2022-01-10           1.0                       1.0   \n",
       "...                  ...                       ...   \n",
       "2022-12-23           1.0                       1.0   \n",
       "2022-12-27           0.0                       0.0   \n",
       "2022-12-28           1.0                       1.0   \n",
       "2022-12-29           1.0                       1.0   \n",
       "2022-12-30           0.0                       0.0   \n",
       "\n",
       "           Classification + Univariate Classification + Multivariate  \\\n",
       "Date                                                                   \n",
       "2022-01-04                         1.0                           1.0   \n",
       "2022-01-05                         1.0                           1.0   \n",
       "2022-01-06               no_prediction                 no_prediction   \n",
       "2022-01-07                         1.0                           1.0   \n",
       "2022-01-10                         1.0                           1.0   \n",
       "...                                ...                           ...   \n",
       "2022-12-23               no_prediction                 no_prediction   \n",
       "2022-12-27                         0.0                           0.0   \n",
       "2022-12-28               no_prediction                 no_prediction   \n",
       "2022-12-29               no_prediction                 no_prediction   \n",
       "2022-12-30                         0.0                           0.0   \n",
       "\n",
       "                  Combine  \n",
       "Date                       \n",
       "2022-01-04            1.0  \n",
       "2022-01-05            1.0  \n",
       "2022-01-06  no_prediction  \n",
       "2022-01-07            1.0  \n",
       "2022-01-10            1.0  \n",
       "...                   ...  \n",
       "2022-12-23  no_prediction  \n",
       "2022-12-27            0.0  \n",
       "2022-12-28  no_prediction  \n",
       "2022-12-29  no_prediction  \n",
       "2022-12-30            0.0  \n",
       "\n",
       "[249 rows x 9 columns]"
      ]
     },
     "execution_count": 61,
     "metadata": {},
     "output_type": "execute_result"
    }
   ],
   "source": [
    "# Combining different models predictions\n",
    "back_test_df.loc[(back_test_df[\"lstm_univariate_prediction\"] == back_test_df[\"lstm_multivariate_prediction\"]) & (back_test_df[\"lstm_univariate_prediction\"] == 1), [\"combine_lstm_prediction\"]] = 1\n",
    "back_test_df.loc[(back_test_df[\"lstm_univariate_prediction\"] == back_test_df[\"lstm_multivariate_prediction\"]) & (back_test_df[\"lstm_univariate_prediction\"] == 0), [\"combine_lstm_prediction\"]] = 0\n",
    "\n",
    "back_test_df.loc[(back_test_df[\"lstm_univariate_prediction\"] == back_test_df[\"clf_prediction\"]) & (back_test_df[\"lstm_univariate_prediction\"] == 1), [\"univariate_clf_prediction\"]] = 1\n",
    "back_test_df.loc[(back_test_df[\"lstm_univariate_prediction\"] == back_test_df[\"clf_prediction\"]) & (back_test_df[\"lstm_univariate_prediction\"] == 0), [\"univariate_clf_prediction\"]] = 0\n",
    "\n",
    "back_test_df.loc[(back_test_df[\"lstm_multivariate_prediction\"] == back_test_df[\"clf_prediction\"]) & (back_test_df[\"lstm_multivariate_prediction\"] == 1), [\"multivariate_clf_prediction\"]] = 1\n",
    "back_test_df.loc[(back_test_df[\"lstm_multivariate_prediction\"] == back_test_df[\"clf_prediction\"]) & (back_test_df[\"lstm_multivariate_prediction\"] == 0), [\"multivariate_clf_prediction\"]] = 0\n",
    "\n",
    "back_test_df.loc[(back_test_df[\"lstm_multivariate_prediction\"] == back_test_df[\"clf_prediction\"]) & (back_test_df[\"clf_prediction\"] == back_test_df[\"lstm_univariate_prediction\"]) & (back_test_df[\"lstm_multivariate_prediction\"] == 1), [\"combine_prediction\"]] = 1\n",
    "back_test_df.loc[(back_test_df[\"lstm_multivariate_prediction\"] == back_test_df[\"clf_prediction\"]) & (back_test_df[\"clf_prediction\"] == back_test_df[\"lstm_univariate_prediction\"]) & (back_test_df[\"lstm_multivariate_prediction\"] == 0), [\"combine_prediction\"]] = 0\n",
    "\n",
    "# Change column names\n",
    "back_test_df.columns = [\"Close\", \"Next_day_movement\", \"Classification\", \"Univariate\", \"Multivariate\", \"Univariate + Multivariate\", \"Classification + Univariate\", \"Classification + Multivariate\", \"Combine\"]\n",
    "\n",
    "# Data with no predictions will be filled with no_predictions\n",
    "back_test_df.fillna(\"no_prediction\")"
   ]
  },
  {
   "attachments": {},
   "cell_type": "markdown",
   "metadata": {},
   "source": [
    "## 2.2 Plotting of confusion matrix of classification and LSTM models"
   ]
  },
  {
   "cell_type": "code",
   "execution_count": 63,
   "metadata": {},
   "outputs": [
    {
     "data": {
      "text/plain": [
       "Text(0.5, 1.0, 'Heatmap for lstm multivariate prediction')"
      ]
     },
     "execution_count": 63,
     "metadata": {},
     "output_type": "execute_result"
    },
    {
     "data": {
      "image/png": "[encoded data removed]",
      "text/plain": [
       "<Figure size 800x500 with 2 Axes>"
      ]
     },
     "metadata": {},
     "output_type": "display_data"
    },
    {
     "data": {
      "image/png": "[encoded data removed]",
      "text/plain": [
       "<Figure size 800x500 with 2 Axes>"
      ]
     },
     "metadata": {},
     "output_type": "display_data"
    },
    {
     "data": {
      "image/png": "[encoded data removed]",
      "text/plain": [
       "<Figure size 800x500 with 2 Axes>"
      ]
     },
     "metadata": {},
     "output_type": "display_data"
    }
   ],
   "source": [
    "\n",
    "# Plotting confusion matrix heatmap for classification prediction\n",
    "cm = confusion_matrix(back_test_df[\"Classification\"], back_test_df[\"Next_day_movement\"])\n",
    "fig, heatmap_cm = plt.subplots(figsize=(8,5))\n",
    "sns.heatmap(cm, annot=True, fmt=\".1f\",  ax=heatmap_cm, annot_kws={\"fontsize\":20})\n",
    "heatmap_cm.set(xlabel=\"Predicted movement\", ylabel=\"Actual movement\")\n",
    "heatmap_cm.set_title(\"Heatmap for classification prediction\", fontsize=15)\n",
    "\n",
    "# Plotting confusion matrix heatmap for LSTM prediction\n",
    "cm = confusion_matrix(back_test_df[\"Univariate\"], back_test_df[\"Next_day_movement\"])\n",
    "fig, heatmap_cm = plt.subplots(figsize=(8,5))\n",
    "sns.heatmap(cm, annot=True, fmt=\".1f\",  ax=heatmap_cm, annot_kws={\"fontsize\":20})\n",
    "heatmap_cm.set(xlabel=\"Predicted movement\", ylabel=\"Actual movement\")\n",
    "heatmap_cm.set_title(\"Heatmap for lstm univariate prediction\", fontsize=15)\n",
    "\n",
    "cm = confusion_matrix(back_test_df[\"Multivariate\"], back_test_df[\"Next_day_movement\"])\n",
    "fig, heatmap_cm = plt.subplots(figsize=(8,5))\n",
    "sns.heatmap(cm, annot=True, fmt=\".1f\",  ax=heatmap_cm, annot_kws={\"fontsize\":20})\n",
    "heatmap_cm.set(xlabel=\"Predicted movement\", ylabel=\"Actual movement\")\n",
    "heatmap_cm.set_title(\"Heatmap for lstm multivariate prediction\", fontsize=15)\n"
   ]
  },
  {
   "attachments": {},
   "cell_type": "markdown",
   "metadata": {},
   "source": [
    "## 2.3 Trading simulation based on model predictions"
   ]
  },
  {
   "cell_type": "code",
   "execution_count": 64,
   "metadata": {},
   "outputs": [],
   "source": [
    "def trading_simulation(df, predictions):\n",
    "    \"\"\"\n",
    "    Predictions generated by models be use as trading simulation. Predictions for the period must be either 1 for predicting up \n",
    "    or 0 for predicting down or no_prediction for no prediction generated and no actions to be taken. This simulation will adopt\n",
    "    a strategy of always having either a buy or a short position at one time in the market. When the trading simulation start, it \n",
    "    will use the first prediction of buy or sell to enter the market.\n",
    "\n",
    "    If the next prediction is the same as current position, position is hold. If the next prediction is against current position, \n",
    "    current position is closed and new position to be taken with the next prediction.\n",
    "\n",
    "    The simulation also assume all trading prices occurs at closing price where the prediction appear.\n",
    "\n",
    "    Buy prices, buy dates, sell prices and sell dates are stored into different lists and return as two dataframes of short and long\n",
    "\n",
    "    \"\"\"\n",
    "    # Simulate buy or sell scenario with prediction from model on 2022 data\n",
    "    current_position = 0 # Start off with no position in market\n",
    "    long_position_prices = [] # To store buy prices and exit prices\n",
    "    short_position_prices = [] # To store sell prices and exit prices\n",
    "    long_position_date = [] # To store buy and exit dates\n",
    "    short_position_date =[] # To store buy and exit dates\n",
    "\n",
    "    for prediction, price, date in zip(df[predictions], df[\"Close\"], df.index):\n",
    "        if current_position == 0 and prediction == 0: # No position with sell prediction\n",
    "            current_position = -1\n",
    "            short_position_prices.append(price)\n",
    "            short_position_date.append(date)\n",
    "\n",
    "        elif current_position == 0 and prediction == 1: # No position with buy prediction\n",
    "            current_position = 1\n",
    "            long_position_prices.append(price)\n",
    "            long_position_date.append(date)\n",
    "\n",
    "        elif current_position == 1 and prediction == 0: # Currently with long position with sell prediction\n",
    "            current_position = -1\n",
    "            long_position_prices.append(price) # Sell current long position\n",
    "            long_position_prices.append(np.nan)\n",
    "            long_position_date.append(date)\n",
    "            long_position_date.append(np.nan)\n",
    "            short_position_prices.append(price) # Enter new short position\n",
    "            short_position_date.append(date)\n",
    "\n",
    "        elif current_position == -1 and prediction == 1: # Currently with short position with buy prediction\n",
    "            current_position = 1\n",
    "            short_position_prices.append(price) # Buy back current short position\n",
    "            short_position_prices.append(np.nan) \n",
    "            short_position_date.append(date)\n",
    "            short_position_date.append(np.nan)\n",
    "            long_position_prices.append(price) # Enter new long position\n",
    "            long_position_date.append(date)\n",
    "    short_position = pd.DataFrame(short_position_date,columns=[\"Date\"])\n",
    "    long_position = pd.DataFrame(long_position_date,columns=[\"Date\"]) \n",
    "    short_position[\"Price\"] = short_position_prices\n",
    "    long_position[\"Price\"] = long_position_prices\n",
    "    return long_position, short_position"
   ]
  },
  {
   "attachments": {},
   "cell_type": "markdown",
   "metadata": {},
   "source": [
    "## 2.4 Plotting of trading simulation"
   ]
  },
  {
   "cell_type": "code",
   "execution_count": 65,
   "metadata": {},
   "outputs": [],
   "source": [
    "def trading_simulation_plot(df, long_position_df, short_position_df, model):\n",
    "    # Trace for short positions\n",
    "    trace0 = go.Scatter(\n",
    "        \n",
    "        x = short_position_df[\"Date\"],\n",
    "        y = short_position_df[\"Price\"],\n",
    "        \n",
    "        name = 'Short positions',\n",
    "        \n",
    "        line = dict(color = ('red'),\n",
    "                    width = 2)\n",
    "    )\n",
    "\n",
    "    # Trace for long positions\n",
    "    trace1 = go.Scatter(\n",
    "        \n",
    "        x = long_position_df[\"Date\"],\n",
    "        y = long_position_df[\"Price\"],\n",
    "        \n",
    "        name = 'Long positions',\n",
    "        \n",
    "        line = dict(color = ('blue'),\n",
    "                    width = 2)\n",
    "    )\n",
    "\n",
    "    # Trace for closing price\n",
    "    trace2 = go.Scatter(\n",
    "        \n",
    "        x = df.index,\n",
    "        y = df[\"Close\"],\n",
    "        \n",
    "        name = 'Closing price',\n",
    "        \n",
    "        line = dict(color = ('green'),\n",
    "                    width = 1),\n",
    "    )\n",
    "\n",
    "    # Plotting out entry and exits done\n",
    "    data = [trace0, trace1, trace2]\n",
    "\n",
    "    layout = dict(title = f\"Trading simulation plot of {model} predictions\",\n",
    "                font=dict(size=18),\n",
    "                xaxis = dict(title = 'Date'),\n",
    "                yaxis = dict(title = 'Price'),\n",
    "                )\n",
    "\n",
    "    fig = dict(data=data, layout=layout)\n",
    "\n",
    "    offline.iplot(fig)"
   ]
  },
  {
   "cell_type": "code",
   "execution_count": 66,
   "metadata": {},
   "outputs": [
    {
     "data": {
      "application/vnd.plotly.v1+json": {
       "config": {
        "linkText": "Export to plotly.com",
        "plotlyServerURL": "https://plotly.com",
        "showLink": false
       },
       "data": [
        {
         "line": {
          "color": "red",
          "width": 2
         },
         "name": "Short positions",
         "type": "scatter",
         "x": [
          "2022-01-24T00:00:00",
          "2022-02-03T00:00:00",
          null,
          "2022-02-22T00:00:00",
          "2022-03-10T00:00:00",
          null,
          "2022-03-31T00:00:00",
          "2022-04-01T00:00:00",
          null,
          "2022-04-04T00:00:00",
          "2022-04-05T00:00:00",
          null,
          "2022-04-06T00:00:00",
          "2022-04-20T00:00:00",
          null,
          "2022-04-25T00:00:00",
          "2022-04-28T00:00:00",
          null,
          "2022-05-06T00:00:00",
          "2022-05-20T00:00:00",
          null,
          "2022-05-23T00:00:00",
          "2022-05-26T00:00:00",
          null,
          "2022-06-02T00:00:00",
          "2022-06-07T00:00:00",
          null,
          "2022-06-08T00:00:00",
          "2022-06-21T00:00:00",
          null,
          "2022-06-22T00:00:00",
          "2022-06-24T00:00:00",
          null,
          "2022-06-30T00:00:00",
          "2022-07-04T00:00:00",
          null,
          "2022-07-14T00:00:00",
          "2022-07-18T00:00:00",
          null,
          "2022-07-19T00:00:00",
          "2022-07-20T00:00:00",
          null,
          "2022-07-21T00:00:00",
          "2022-07-22T00:00:00",
          null,
          "2022-08-12T00:00:00",
          "2022-08-17T00:00:00",
          null,
          "2022-08-18T00:00:00",
          "2022-08-22T00:00:00",
          null,
          "2022-08-23T00:00:00",
          "2022-08-25T00:00:00",
          null,
          "2022-08-29T00:00:00",
          "2022-08-30T00:00:00",
          null,
          "2022-08-31T00:00:00",
          "2022-09-01T00:00:00",
          null,
          "2022-09-02T00:00:00",
          "2022-09-08T00:00:00",
          null,
          "2022-09-14T00:00:00",
          "2022-09-15T00:00:00",
          null,
          "2022-09-19T00:00:00",
          "2022-09-22T00:00:00",
          null,
          "2022-09-23T00:00:00",
          "2022-10-04T00:00:00",
          null,
          "2022-10-10T00:00:00",
          "2022-10-26T00:00:00",
          null,
          "2022-11-21T00:00:00",
          "2022-11-22T00:00:00",
          null,
          "2022-11-23T00:00:00",
          "2022-11-29T00:00:00",
          null,
          "2022-12-02T00:00:00",
          "2022-12-09T00:00:00",
          null,
          "2022-12-12T00:00:00",
          "2022-12-13T00:00:00",
          null,
          "2022-12-16T00:00:00",
          "2022-12-19T00:00:00",
          null,
          "2022-12-20T00:00:00",
          "2022-12-22T00:00:00",
          null,
          "2022-12-23T00:00:00"
         ],
         "y": [
          3283.35009765625,
          3315.989990234375,
          null,
          3400.580078125,
          3240.72998046875,
          null,
          3408.52001953125,
          3419.110107421875,
          null,
          3416.969970703125,
          3445.010009765625,
          null,
          3422.949951171875,
          3335.320068359375,
          null,
          3339.590087890625,
          3335.090087890625,
          null,
          3291.889892578125,
          3240.580078125,
          null,
          3213.64990234375,
          3209.179931640625,
          null,
          3226.719970703125,
          3231.5400390625,
          null,
          3225.800048828125,
          3117.47998046875,
          null,
          3093.31005859375,
          3111.64990234375,
          null,
          3102.2099609375,
          3120.239990234375,
          null,
          3090.6298828125,
          3121.760009765625,
          null,
          3117.7900390625,
          3170.2900390625,
          null,
          3152.300048828125,
          3181.340087890625,
          null,
          3269.27001953125,
          3262.760009765625,
          null,
          3273.47998046875,
          3262.570068359375,
          null,
          3246.2099609375,
          3247.800048828125,
          null,
          3222.260009765625,
          3239.330078125,
          null,
          3221.669921875,
          3224.080078125,
          null,
          3205.68994140625,
          3233.610107421875,
          null,
          3258.02001953125,
          3267.97998046875,
          null,
          3256.31005859375,
          3263.070068359375,
          null,
          3227.10009765625,
          3138.89990234375,
          null,
          3107.469970703125,
          3008.3798828125,
          null,
          3250.6201171875,
          3259.56005859375,
          null,
          3255.989990234375,
          3276.360107421875,
          null,
          3259.139892578125,
          3245.969970703125,
          null,
          3239.659912109375,
          3271.280029296875,
          null,
          3240.81005859375,
          3256.610107421875,
          null,
          3253.969970703125,
          3269.530029296875,
          null,
          3257.699951171875
         ]
        },
        {
         "line": {
          "color": "blue",
          "width": 2
         },
         "name": "Long positions",
         "type": "scatter",
         "x": [
          "2022-01-04T00:00:00",
          "2022-01-24T00:00:00",
          null,
          "2022-02-03T00:00:00",
          "2022-02-22T00:00:00",
          null,
          "2022-03-10T00:00:00",
          "2022-03-31T00:00:00",
          null,
          "2022-04-01T00:00:00",
          "2022-04-04T00:00:00",
          null,
          "2022-04-05T00:00:00",
          "2022-04-06T00:00:00",
          null,
          "2022-04-20T00:00:00",
          "2022-04-25T00:00:00",
          null,
          "2022-04-28T00:00:00",
          "2022-05-06T00:00:00",
          null,
          "2022-05-20T00:00:00",
          "2022-05-23T00:00:00",
          null,
          "2022-05-26T00:00:00",
          "2022-06-02T00:00:00",
          null,
          "2022-06-07T00:00:00",
          "2022-06-08T00:00:00",
          null,
          "2022-06-21T00:00:00",
          "2022-06-22T00:00:00",
          null,
          "2022-06-24T00:00:00",
          "2022-06-30T00:00:00",
          null,
          "2022-07-04T00:00:00",
          "2022-07-14T00:00:00",
          null,
          "2022-07-18T00:00:00",
          "2022-07-19T00:00:00",
          null,
          "2022-07-20T00:00:00",
          "2022-07-21T00:00:00",
          null,
          "2022-07-22T00:00:00",
          "2022-08-12T00:00:00",
          null,
          "2022-08-17T00:00:00",
          "2022-08-18T00:00:00",
          null,
          "2022-08-22T00:00:00",
          "2022-08-23T00:00:00",
          null,
          "2022-08-25T00:00:00",
          "2022-08-29T00:00:00",
          null,
          "2022-08-30T00:00:00",
          "2022-08-31T00:00:00",
          null,
          "2022-09-01T00:00:00",
          "2022-09-02T00:00:00",
          null,
          "2022-09-08T00:00:00",
          "2022-09-14T00:00:00",
          null,
          "2022-09-15T00:00:00",
          "2022-09-19T00:00:00",
          null,
          "2022-09-22T00:00:00",
          "2022-09-23T00:00:00",
          null,
          "2022-10-04T00:00:00",
          "2022-10-10T00:00:00",
          null,
          "2022-10-26T00:00:00",
          "2022-11-21T00:00:00",
          null,
          "2022-11-22T00:00:00",
          "2022-11-23T00:00:00",
          null,
          "2022-11-29T00:00:00",
          "2022-12-02T00:00:00",
          null,
          "2022-12-09T00:00:00",
          "2022-12-12T00:00:00",
          null,
          "2022-12-13T00:00:00",
          "2022-12-16T00:00:00",
          null,
          "2022-12-19T00:00:00",
          "2022-12-20T00:00:00",
          null,
          "2022-12-22T00:00:00",
          "2022-12-23T00:00:00",
          null
         ],
         "y": [
          3181.1298828125,
          3283.35009765625,
          null,
          3315.989990234375,
          3400.580078125,
          null,
          3240.72998046875,
          3408.52001953125,
          null,
          3419.110107421875,
          3416.969970703125,
          null,
          3445.010009765625,
          3422.949951171875,
          null,
          3335.320068359375,
          3339.590087890625,
          null,
          3335.090087890625,
          3291.889892578125,
          null,
          3240.580078125,
          3213.64990234375,
          null,
          3209.179931640625,
          3226.719970703125,
          null,
          3231.5400390625,
          3225.800048828125,
          null,
          3117.47998046875,
          3093.31005859375,
          null,
          3111.64990234375,
          3102.2099609375,
          null,
          3120.239990234375,
          3090.6298828125,
          null,
          3121.760009765625,
          3117.7900390625,
          null,
          3170.2900390625,
          3152.300048828125,
          null,
          3181.340087890625,
          3269.27001953125,
          null,
          3262.760009765625,
          3273.47998046875,
          null,
          3262.570068359375,
          3246.2099609375,
          null,
          3247.800048828125,
          3222.260009765625,
          null,
          3239.330078125,
          3221.669921875,
          null,
          3224.080078125,
          3205.68994140625,
          null,
          3233.610107421875,
          3258.02001953125,
          null,
          3267.97998046875,
          3256.31005859375,
          null,
          3263.070068359375,
          3227.10009765625,
          null,
          3138.89990234375,
          3107.469970703125,
          null,
          3008.3798828125,
          3250.6201171875,
          null,
          3259.56005859375,
          3255.989990234375,
          null,
          3276.360107421875,
          3259.139892578125,
          null,
          3245.969970703125,
          3239.659912109375,
          null,
          3271.280029296875,
          3240.81005859375,
          null,
          3256.610107421875,
          3253.969970703125,
          null,
          3269.530029296875,
          3257.699951171875,
          null
         ]
        },
        {
         "line": {
          "color": "green",
          "width": 1
         },
         "name": "Closing price",
         "type": "scatter",
         "x": [
          "2022-01-04T00:00:00",
          "2022-01-05T00:00:00",
          "2022-01-06T00:00:00",
          "2022-01-07T00:00:00",
          "2022-01-10T00:00:00",
          "2022-01-11T00:00:00",
          "2022-01-12T00:00:00",
          "2022-01-13T00:00:00",
          "2022-01-14T00:00:00",
          "2022-01-17T00:00:00",
          "2022-01-18T00:00:00",
          "2022-01-19T00:00:00",
          "2022-01-20T00:00:00",
          "2022-01-21T00:00:00",
          "2022-01-24T00:00:00",
          "2022-01-25T00:00:00",
          "2022-01-26T00:00:00",
          "2022-01-27T00:00:00",
          "2022-01-28T00:00:00",
          "2022-01-31T00:00:00",
          "2022-02-03T00:00:00",
          "2022-02-04T00:00:00",
          "2022-02-07T00:00:00",
          "2022-02-08T00:00:00",
          "2022-02-09T00:00:00",
          "2022-02-10T00:00:00",
          "2022-02-11T00:00:00",
          "2022-02-14T00:00:00",
          "2022-02-15T00:00:00",
          "2022-02-16T00:00:00",
          "2022-02-17T00:00:00",
          "2022-02-18T00:00:00",
          "2022-02-21T00:00:00",
          "2022-02-22T00:00:00",
          "2022-02-23T00:00:00",
          "2022-02-24T00:00:00",
          "2022-02-25T00:00:00",
          "2022-02-28T00:00:00",
          "2022-03-01T00:00:00",
          "2022-03-02T00:00:00",
          "2022-03-03T00:00:00",
          "2022-03-04T00:00:00",
          "2022-03-07T00:00:00",
          "2022-03-08T00:00:00",
          "2022-03-09T00:00:00",
          "2022-03-10T00:00:00",
          "2022-03-11T00:00:00",
          "2022-03-14T00:00:00",
          "2022-03-15T00:00:00",
          "2022-03-16T00:00:00",
          "2022-03-17T00:00:00",
          "2022-03-18T00:00:00",
          "2022-03-21T00:00:00",
          "2022-03-22T00:00:00",
          "2022-03-23T00:00:00",
          "2022-03-24T00:00:00",
          "2022-03-25T00:00:00",
          "2022-03-28T00:00:00",
          "2022-03-29T00:00:00",
          "2022-03-30T00:00:00",
          "2022-03-31T00:00:00",
          "2022-04-01T00:00:00",
          "2022-04-04T00:00:00",
          "2022-04-05T00:00:00",
          "2022-04-06T00:00:00",
          "2022-04-07T00:00:00",
          "2022-04-08T00:00:00",
          "2022-04-11T00:00:00",
          "2022-04-12T00:00:00",
          "2022-04-13T00:00:00",
          "2022-04-14T00:00:00",
          "2022-04-18T00:00:00",
          "2022-04-19T00:00:00",
          "2022-04-20T00:00:00",
          "2022-04-21T00:00:00",
          "2022-04-22T00:00:00",
          "2022-04-25T00:00:00",
          "2022-04-26T00:00:00",
          "2022-04-27T00:00:00",
          "2022-04-28T00:00:00",
          "2022-04-29T00:00:00",
          "2022-05-04T00:00:00",
          "2022-05-05T00:00:00",
          "2022-05-06T00:00:00",
          "2022-05-09T00:00:00",
          "2022-05-10T00:00:00",
          "2022-05-11T00:00:00",
          "2022-05-12T00:00:00",
          "2022-05-13T00:00:00",
          "2022-05-17T00:00:00",
          "2022-05-18T00:00:00",
          "2022-05-19T00:00:00",
          "2022-05-20T00:00:00",
          "2022-05-23T00:00:00",
          "2022-05-24T00:00:00",
          "2022-05-25T00:00:00",
          "2022-05-26T00:00:00",
          "2022-05-27T00:00:00",
          "2022-05-30T00:00:00",
          "2022-05-31T00:00:00",
          "2022-06-01T00:00:00",
          "2022-06-02T00:00:00",
          "2022-06-03T00:00:00",
          "2022-06-06T00:00:00",
          "2022-06-07T00:00:00",
          "2022-06-08T00:00:00",
          "2022-06-09T00:00:00",
          "2022-06-10T00:00:00",
          "2022-06-13T00:00:00",
          "2022-06-14T00:00:00",
          "2022-06-15T00:00:00",
          "2022-06-16T00:00:00",
          "2022-06-17T00:00:00",
          "2022-06-20T00:00:00",
          "2022-06-21T00:00:00",
          "2022-06-22T00:00:00",
          "2022-06-23T00:00:00",
          "2022-06-24T00:00:00",
          "2022-06-27T00:00:00",
          "2022-06-28T00:00:00",
          "2022-06-29T00:00:00",
          "2022-06-30T00:00:00",
          "2022-07-01T00:00:00",
          "2022-07-04T00:00:00",
          "2022-07-05T00:00:00",
          "2022-07-06T00:00:00",
          "2022-07-07T00:00:00",
          "2022-07-08T00:00:00",
          "2022-07-12T00:00:00",
          "2022-07-13T00:00:00",
          "2022-07-14T00:00:00",
          "2022-07-15T00:00:00",
          "2022-07-18T00:00:00",
          "2022-07-19T00:00:00",
          "2022-07-20T00:00:00",
          "2022-07-21T00:00:00",
          "2022-07-22T00:00:00",
          "2022-07-25T00:00:00",
          "2022-07-26T00:00:00",
          "2022-07-27T00:00:00",
          "2022-07-28T00:00:00",
          "2022-07-29T00:00:00",
          "2022-08-01T00:00:00",
          "2022-08-02T00:00:00",
          "2022-08-03T00:00:00",
          "2022-08-04T00:00:00",
          "2022-08-05T00:00:00",
          "2022-08-08T00:00:00",
          "2022-08-10T00:00:00",
          "2022-08-11T00:00:00",
          "2022-08-12T00:00:00",
          "2022-08-15T00:00:00",
          "2022-08-16T00:00:00",
          "2022-08-17T00:00:00",
          "2022-08-18T00:00:00",
          "2022-08-19T00:00:00",
          "2022-08-22T00:00:00",
          "2022-08-23T00:00:00",
          "2022-08-24T00:00:00",
          "2022-08-25T00:00:00",
          "2022-08-26T00:00:00",
          "2022-08-29T00:00:00",
          "2022-08-30T00:00:00",
          "2022-08-31T00:00:00",
          "2022-09-01T00:00:00",
          "2022-09-02T00:00:00",
          "2022-09-05T00:00:00",
          "2022-09-06T00:00:00",
          "2022-09-07T00:00:00",
          "2022-09-08T00:00:00",
          "2022-09-09T00:00:00",
          "2022-09-12T00:00:00",
          "2022-09-13T00:00:00",
          "2022-09-14T00:00:00",
          "2022-09-15T00:00:00",
          "2022-09-16T00:00:00",
          "2022-09-19T00:00:00",
          "2022-09-20T00:00:00",
          "2022-09-21T00:00:00",
          "2022-09-22T00:00:00",
          "2022-09-23T00:00:00",
          "2022-09-26T00:00:00",
          "2022-09-27T00:00:00",
          "2022-09-28T00:00:00",
          "2022-09-29T00:00:00",
          "2022-09-30T00:00:00",
          "2022-10-03T00:00:00",
          "2022-10-04T00:00:00",
          "2022-10-05T00:00:00",
          "2022-10-06T00:00:00",
          "2022-10-07T00:00:00",
          "2022-10-10T00:00:00",
          "2022-10-11T00:00:00",
          "2022-10-12T00:00:00",
          "2022-10-13T00:00:00",
          "2022-10-14T00:00:00",
          "2022-10-17T00:00:00",
          "2022-10-18T00:00:00",
          "2022-10-19T00:00:00",
          "2022-10-20T00:00:00",
          "2022-10-21T00:00:00",
          "2022-10-25T00:00:00",
          "2022-10-26T00:00:00",
          "2022-10-27T00:00:00",
          "2022-10-28T00:00:00",
          "2022-10-31T00:00:00",
          "2022-11-01T00:00:00",
          "2022-11-02T00:00:00",
          "2022-11-03T00:00:00",
          "2022-11-04T00:00:00",
          "2022-11-07T00:00:00",
          "2022-11-08T00:00:00",
          "2022-11-09T00:00:00",
          "2022-11-10T00:00:00",
          "2022-11-11T00:00:00",
          "2022-11-14T00:00:00",
          "2022-11-15T00:00:00",
          "2022-11-16T00:00:00",
          "2022-11-17T00:00:00",
          "2022-11-18T00:00:00",
          "2022-11-21T00:00:00",
          "2022-11-22T00:00:00",
          "2022-11-23T00:00:00",
          "2022-11-24T00:00:00",
          "2022-11-25T00:00:00",
          "2022-11-28T00:00:00",
          "2022-11-29T00:00:00",
          "2022-11-30T00:00:00",
          "2022-12-01T00:00:00",
          "2022-12-02T00:00:00",
          "2022-12-05T00:00:00",
          "2022-12-06T00:00:00",
          "2022-12-07T00:00:00",
          "2022-12-08T00:00:00",
          "2022-12-09T00:00:00",
          "2022-12-12T00:00:00",
          "2022-12-13T00:00:00",
          "2022-12-14T00:00:00",
          "2022-12-15T00:00:00",
          "2022-12-16T00:00:00",
          "2022-12-19T00:00:00",
          "2022-12-20T00:00:00",
          "2022-12-21T00:00:00",
          "2022-12-22T00:00:00",
          "2022-12-23T00:00:00",
          "2022-12-27T00:00:00",
          "2022-12-28T00:00:00",
          "2022-12-29T00:00:00",
          "2022-12-30T00:00:00"
         ],
         "y": [
          3181.1298828125,
          3163.43994140625,
          3184.300048828125,
          3205.260009765625,
          3227.050048828125,
          3246.3701171875,
          3254.97998046875,
          3257.300048828125,
          3281.969970703125,
          3287.949951171875,
          3280.0400390625,
          3283.93994140625,
          3294.820068359375,
          3294.860107421875,
          3283.35009765625,
          3247.760009765625,
          3271.570068359375,
          3260.030029296875,
          3246.330078125,
          3249.590087890625,
          3315.989990234375,
          3331.409912109375,
          3366.47998046875,
          3401.739990234375,
          3420.0400390625,
          3428,
          3428.949951171875,
          3421.199951171875,
          3421.3798828125,
          3439.300048828125,
          3441.570068359375,
          3428.89990234375,
          3436.360107421875,
          3400.580078125,
          3393,
          3276.06005859375,
          3294.469970703125,
          3242.239990234375,
          3278.6298828125,
          3244.39990234375,
          3253.64990234375,
          3226.780029296875,
          3187.820068359375,
          3148.860107421875,
          3195.3798828125,
          3240.72998046875,
          3249.659912109375,
          3232.030029296875,
          3236.0400390625,
          3290.89990234375,
          3322.7099609375,
          3330.6298828125,
          3355.510009765625,
          3350.169921875,
          3364.260009765625,
          3399.699951171875,
          3413.68994140625,
          3431.989990234375,
          3433.89990234375,
          3442.610107421875,
          3408.52001953125,
          3419.110107421875,
          3416.969970703125,
          3445.010009765625,
          3422.949951171875,
          3404.22998046875,
          3383.280029296875,
          3363.56005859375,
          3330.25,
          3342.219970703125,
          3335.85009765625,
          3303.070068359375,
          3307.1298828125,
          3335.320068359375,
          3348.4599609375,
          3361.110107421875,
          3339.590087890625,
          3322.050048828125,
          3320.669921875,
          3335.090087890625,
          3356.89990234375,
          3349.27001953125,
          3343.570068359375,
          3291.889892578125,
          3275.070068359375,
          3234.18994140625,
          3226.070068359375,
          3165.179931640625,
          3191.159912109375,
          3201.889892578125,
          3225.35009765625,
          3190.7099609375,
          3240.580078125,
          3213.64990234375,
          3195.0400390625,
          3179.580078125,
          3209.179931640625,
          3230.550048828125,
          3238.919921875,
          3232.489990234375,
          3244,
          3226.719970703125,
          3231.969970703125,
          3226.6298828125,
          3231.5400390625,
          3225.800048828125,
          3209.6201171875,
          3181.72998046875,
          3139.35009765625,
          3108.889892578125,
          3105.85009765625,
          3097.429931640625,
          3098.090087890625,
          3096.39990234375,
          3117.47998046875,
          3093.31005859375,
          3092.800048828125,
          3111.64990234375,
          3137.5400390625,
          3140.2099609375,
          3134.8701171875,
          3102.2099609375,
          3095.590087890625,
          3120.239990234375,
          3104.110107421875,
          3103.659912109375,
          3129.39990234375,
          3131.260009765625,
          3145.77001953125,
          3128.68994140625,
          3090.6298828125,
          3099.14990234375,
          3121.760009765625,
          3117.7900390625,
          3170.2900390625,
          3152.300048828125,
          3181.340087890625,
          3180.469970703125,
          3192.1201171875,
          3205.139892578125,
          3220.64990234375,
          3211.56005859375,
          3238.75,
          3239.14990234375,
          3252.06005859375,
          3269.860107421875,
          3282.8798828125,
          3270.97998046875,
          3286.330078125,
          3301.9599609375,
          3269.27001953125,
          3256.820068359375,
          3253.7900390625,
          3262.760009765625,
          3273.47998046875,
          3246.510009765625,
          3262.570068359375,
          3246.2099609375,
          3233.47998046875,
          3247.800048828125,
          3249.530029296875,
          3222.260009765625,
          3239.330078125,
          3221.669921875,
          3224.080078125,
          3205.68994140625,
          3215.47998046875,
          3224.179931640625,
          3210.830078125,
          3233.610107421875,
          3262.949951171875,
          3274.719970703125,
          3290.080078125,
          3258.02001953125,
          3267.97998046875,
          3268.2900390625,
          3256.31005859375,
          3266.93994140625,
          3261.7900390625,
          3263.070068359375,
          3227.10009765625,
          3181.969970703125,
          3165.5,
          3116.31005859375,
          3115.080078125,
          3130.239990234375,
          3107.090087890625,
          3138.89990234375,
          3153.22998046875,
          3151.56005859375,
          3145.81005859375,
          3107.469970703125,
          3105,
          3083.18994140625,
          3040.449951171875,
          3039.610107421875,
          3015.75,
          3025.8798828125,
          3022.800048828125,
          3022.699951171875,
          2969.949951171875,
          2984.14990234375,
          3008.3798828125,
          3015.239990234375,
          3059.18994140625,
          3093.110107421875,
          3130.5,
          3141.1298828125,
          3102.510009765625,
          3130.110107421875,
          3141.31005859375,
          3145.830078125,
          3165.5,
          3173.179931640625,
          3228.330078125,
          3260.800048828125,
          3275.280029296875,
          3266.169921875,
          3286.0400390625,
          3272.22998046875,
          3250.6201171875,
          3259.56005859375,
          3255.989990234375,
          3252.8798828125,
          3244.550048828125,
          3240.06005859375,
          3276.360107421875,
          3290.489990234375,
          3292.72998046875,
          3259.139892578125,
          3267.5400390625,
          3252.3701171875,
          3225.449951171875,
          3236.080078125,
          3245.969970703125,
          3239.659912109375,
          3271.280029296875,
          3278.570068359375,
          3273.75,
          3240.81005859375,
          3256.610107421875,
          3253.969970703125,
          3256.18994140625,
          3269.530029296875,
          3257.699951171875,
          3266.3798828125,
          3266.969970703125,
          3249.239990234375,
          3251.320068359375
         ]
        }
       ],
       "layout": {
        "font": {
         "size": 18
        },
        "template": {
         "data": {
          "bar": [
           {
            "error_x": {
             "color": "#2a3f5f"
            },
            "error_y": {
             "color": "#2a3f5f"
            },
            "marker": {
             "line": {
              "color": "#E5ECF6",
              "width": 0.5
             },
             "pattern": {
              "fillmode": "overlay",
              "size": 10,
              "solidity": 0.2
             }
            },
            "type": "bar"
           }
          ],
          "barpolar": [
           {
            "marker": {
             "line": {
              "color": "#E5ECF6",
              "width": 0.5
             },
             "pattern": {
              "fillmode": "overlay",
              "size": 10,
              "solidity": 0.2
             }
            },
            "type": "barpolar"
           }
          ],
          "carpet": [
           {
            "aaxis": {
             "endlinecolor": "#2a3f5f",
             "gridcolor": "white",
             "linecolor": "white",
             "minorgridcolor": "white",
             "startlinecolor": "#2a3f5f"
            },
            "baxis": {
             "endlinecolor": "#2a3f5f",
             "gridcolor": "white",
             "linecolor": "white",
             "minorgridcolor": "white",
             "startlinecolor": "#2a3f5f"
            },
            "type": "carpet"
           }
          ],
          "choropleth": [
           {
            "colorbar": {
             "outlinewidth": 0,
             "ticks": ""
            },
            "type": "choropleth"
           }
          ],
          "contour": [
           {
            "colorbar": {
             "outlinewidth": 0,
             "ticks": ""
            },
            "colorscale": [
             [
              0,
              "#0d0887"
             ],
             [
              0.1111111111111111,
              "#46039f"
             ],
             [
              0.2222222222222222,
              "#7201a8"
             ],
             [
              0.3333333333333333,
              "#9c179e"
             ],
             [
              0.4444444444444444,
              "#bd3786"
             ],
             [
              0.5555555555555556,
              "#d8576b"
             ],
             [
              0.6666666666666666,
              "#ed7953"
             ],
             [
              0.7777777777777778,
              "#fb9f3a"
             ],
             [
              0.8888888888888888,
              "#fdca26"
             ],
             [
              1,
              "#f0f921"
             ]
            ],
            "type": "contour"
           }
          ],
          "contourcarpet": [
           {
            "colorbar": {
             "outlinewidth": 0,
             "ticks": ""
            },
            "type": "contourcarpet"
           }
          ],
          "heatmap": [
           {
            "colorbar": {
             "outlinewidth": 0,
             "ticks": ""
            },
            "colorscale": [
             [
              0,
              "#0d0887"
             ],
             [
              0.1111111111111111,
              "#46039f"
             ],
             [
              0.2222222222222222,
              "#7201a8"
             ],
             [
              0.3333333333333333,
              "#9c179e"
             ],
             [
              0.4444444444444444,
              "#bd3786"
             ],
             [
              0.5555555555555556,
              "#d8576b"
             ],
             [
              0.6666666666666666,
              "#ed7953"
             ],
             [
              0.7777777777777778,
              "#fb9f3a"
             ],
             [
              0.8888888888888888,
              "#fdca26"
             ],
             [
              1,
              "#f0f921"
             ]
            ],
            "type": "heatmap"
           }
          ],
          "heatmapgl": [
           {
            "colorbar": {
             "outlinewidth": 0,
             "ticks": ""
            },
            "colorscale": [
             [
              0,
              "#0d0887"
             ],
             [
              0.1111111111111111,
              "#46039f"
             ],
             [
              0.2222222222222222,
              "#7201a8"
             ],
             [
              0.3333333333333333,
              "#9c179e"
             ],
             [
              0.4444444444444444,
              "#bd3786"
             ],
             [
              0.5555555555555556,
              "#d8576b"
             ],
             [
              0.6666666666666666,
              "#ed7953"
             ],
             [
              0.7777777777777778,
              "#fb9f3a"
             ],
             [
              0.8888888888888888,
              "#fdca26"
             ],
             [
              1,
              "#f0f921"
             ]
            ],
            "type": "heatmapgl"
           }
          ],
          "histogram": [
           {
            "marker": {
             "pattern": {
              "fillmode": "overlay",
              "size": 10,
              "solidity": 0.2
             }
            },
            "type": "histogram"
           }
          ],
          "histogram2d": [
           {
            "colorbar": {
             "outlinewidth": 0,
             "ticks": ""
            },
            "colorscale": [
             [
              0,
              "#0d0887"
             ],
             [
              0.1111111111111111,
              "#46039f"
             ],
             [
              0.2222222222222222,
              "#7201a8"
             ],
             [
              0.3333333333333333,
              "#9c179e"
             ],
             [
              0.4444444444444444,
              "#bd3786"
             ],
             [
              0.5555555555555556,
              "#d8576b"
             ],
             [
              0.6666666666666666,
              "#ed7953"
             ],
             [
              0.7777777777777778,
              "#fb9f3a"
             ],
             [
              0.8888888888888888,
              "#fdca26"
             ],
             [
              1,
              "#f0f921"
             ]
            ],
            "type": "histogram2d"
           }
          ],
          "histogram2dcontour": [
           {
            "colorbar": {
             "outlinewidth": 0,
             "ticks": ""
            },
            "colorscale": [
             [
              0,
              "#0d0887"
             ],
             [
              0.1111111111111111,
              "#46039f"
             ],
             [
              0.2222222222222222,
              "#7201a8"
             ],
             [
              0.3333333333333333,
              "#9c179e"
             ],
             [
              0.4444444444444444,
              "#bd3786"
             ],
             [
              0.5555555555555556,
              "#d8576b"
             ],
             [
              0.6666666666666666,
              "#ed7953"
             ],
             [
              0.7777777777777778,
              "#fb9f3a"
             ],
             [
              0.8888888888888888,
              "#fdca26"
             ],
             [
              1,
              "#f0f921"
             ]
            ],
            "type": "histogram2dcontour"
           }
          ],
          "mesh3d": [
           {
            "colorbar": {
             "outlinewidth": 0,
             "ticks": ""
            },
            "type": "mesh3d"
           }
          ],
          "parcoords": [
           {
            "line": {
             "colorbar": {
              "outlinewidth": 0,
              "ticks": ""
             }
            },
            "type": "parcoords"
           }
          ],
          "pie": [
           {
            "automargin": true,
            "type": "pie"
           }
          ],
          "scatter": [
           {
            "fillpattern": {
             "fillmode": "overlay",
             "size": 10,
             "solidity": 0.2
            },
            "type": "scatter"
           }
          ],
          "scatter3d": [
           {
            "line": {
             "colorbar": {
              "outlinewidth": 0,
              "ticks": ""
             }
            },
            "marker": {
             "colorbar": {
              "outlinewidth": 0,
              "ticks": ""
             }
            },
            "type": "scatter3d"
           }
          ],
          "scattercarpet": [
           {
            "marker": {
             "colorbar": {
              "outlinewidth": 0,
              "ticks": ""
             }
            },
            "type": "scattercarpet"
           }
          ],
          "scattergeo": [
           {
            "marker": {
             "colorbar": {
              "outlinewidth": 0,
              "ticks": ""
             }
            },
            "type": "scattergeo"
           }
          ],
          "scattergl": [
           {
            "marker": {
             "colorbar": {
              "outlinewidth": 0,
              "ticks": ""
             }
            },
            "type": "scattergl"
           }
          ],
          "scattermapbox": [
           {
            "marker": {
             "colorbar": {
              "outlinewidth": 0,
              "ticks": ""
             }
            },
            "type": "scattermapbox"
           }
          ],
          "scatterpolar": [
           {
            "marker": {
             "colorbar": {
              "outlinewidth": 0,
              "ticks": ""
             }
            },
            "type": "scatterpolar"
           }
          ],
          "scatterpolargl": [
           {
            "marker": {
             "colorbar": {
              "outlinewidth": 0,
              "ticks": ""
             }
            },
            "type": "scatterpolargl"
           }
          ],
          "scatterternary": [
           {
            "marker": {
             "colorbar": {
              "outlinewidth": 0,
              "ticks": ""
             }
            },
            "type": "scatterternary"
           }
          ],
          "surface": [
           {
            "colorbar": {
             "outlinewidth": 0,
             "ticks": ""
            },
            "colorscale": [
             [
              0,
              "#0d0887"
             ],
             [
              0.1111111111111111,
              "#46039f"
             ],
             [
              0.2222222222222222,
              "#7201a8"
             ],
             [
              0.3333333333333333,
              "#9c179e"
             ],
             [
              0.4444444444444444,
              "#bd3786"
             ],
             [
              0.5555555555555556,
              "#d8576b"
             ],
             [
              0.6666666666666666,
              "#ed7953"
             ],
             [
              0.7777777777777778,
              "#fb9f3a"
             ],
             [
              0.8888888888888888,
              "#fdca26"
             ],
             [
              1,
              "#f0f921"
             ]
            ],
            "type": "surface"
           }
          ],
          "table": [
           {
            "cells": {
             "fill": {
              "color": "#EBF0F8"
             },
             "line": {
              "color": "white"
             }
            },
            "header": {
             "fill": {
              "color": "#C8D4E3"
             },
             "line": {
              "color": "white"
             }
            },
            "type": "table"
           }
          ]
         },
         "layout": {
          "annotationdefaults": {
           "arrowcolor": "#2a3f5f",
           "arrowhead": 0,
           "arrowwidth": 1
          },
          "autotypenumbers": "strict",
          "coloraxis": {
           "colorbar": {
            "outlinewidth": 0,
            "ticks": ""
           }
          },
          "colorscale": {
           "diverging": [
            [
             0,
             "#8e0152"
            ],
            [
             0.1,
             "#c51b7d"
            ],
            [
             0.2,
             "#de77ae"
            ],
            [
             0.3,
             "#f1b6da"
            ],
            [
             0.4,
             "#fde0ef"
            ],
            [
             0.5,
             "#f7f7f7"
            ],
            [
             0.6,
             "#e6f5d0"
            ],
            [
             0.7,
             "#b8e186"
            ],
            [
             0.8,
             "#7fbc41"
            ],
            [
             0.9,
             "#4d9221"
            ],
            [
             1,
             "#276419"
            ]
           ],
           "sequential": [
            [
             0,
             "#0d0887"
            ],
            [
             0.1111111111111111,
             "#46039f"
            ],
            [
             0.2222222222222222,
             "#7201a8"
            ],
            [
             0.3333333333333333,
             "#9c179e"
            ],
            [
             0.4444444444444444,
             "#bd3786"
            ],
            [
             0.5555555555555556,
             "#d8576b"
            ],
            [
             0.6666666666666666,
             "#ed7953"
            ],
            [
             0.7777777777777778,
             "#fb9f3a"
            ],
            [
             0.8888888888888888,
             "#fdca26"
            ],
            [
             1,
             "#f0f921"
            ]
           ],
           "sequentialminus": [
            [
             0,
             "#0d0887"
            ],
            [
             0.1111111111111111,
             "#46039f"
            ],
            [
             0.2222222222222222,
             "#7201a8"
            ],
            [
             0.3333333333333333,
             "#9c179e"
            ],
            [
             0.4444444444444444,
             "#bd3786"
            ],
            [
             0.5555555555555556,
             "#d8576b"
            ],
            [
             0.6666666666666666,
             "#ed7953"
            ],
            [
             0.7777777777777778,
             "#fb9f3a"
            ],
            [
             0.8888888888888888,
             "#fdca26"
            ],
            [
             1,
             "#f0f921"
            ]
           ]
          },
          "colorway": [
           "#636efa",
           "#EF553B",
           "#00cc96",
           "#ab63fa",
           "#FFA15A",
           "#19d3f3",
           "#FF6692",
           "#B6E880",
           "#FF97FF",
           "#FECB52"
          ],
          "font": {
           "color": "#2a3f5f"
          },
          "geo": {
           "bgcolor": "white",
           "lakecolor": "white",
           "landcolor": "#E5ECF6",
           "showlakes": true,
           "showland": true,
           "subunitcolor": "white"
          },
          "hoverlabel": {
           "align": "left"
          },
          "hovermode": "closest",
          "mapbox": {
           "style": "light"
          },
          "paper_bgcolor": "white",
          "plot_bgcolor": "#E5ECF6",
          "polar": {
           "angularaxis": {
            "gridcolor": "white",
            "linecolor": "white",
            "ticks": ""
           },
           "bgcolor": "#E5ECF6",
           "radialaxis": {
            "gridcolor": "white",
            "linecolor": "white",
            "ticks": ""
           }
          },
          "scene": {
           "xaxis": {
            "backgroundcolor": "#E5ECF6",
            "gridcolor": "white",
            "gridwidth": 2,
            "linecolor": "white",
            "showbackground": true,
            "ticks": "",
            "zerolinecolor": "white"
           },
           "yaxis": {
            "backgroundcolor": "#E5ECF6",
            "gridcolor": "white",
            "gridwidth": 2,
            "linecolor": "white",
            "showbackground": true,
            "ticks": "",
            "zerolinecolor": "white"
           },
           "zaxis": {
            "backgroundcolor": "#E5ECF6",
            "gridcolor": "white",
            "gridwidth": 2,
            "linecolor": "white",
            "showbackground": true,
            "ticks": "",
            "zerolinecolor": "white"
           }
          },
          "shapedefaults": {
           "line": {
            "color": "#2a3f5f"
           }
          },
          "ternary": {
           "aaxis": {
            "gridcolor": "white",
            "linecolor": "white",
            "ticks": ""
           },
           "baxis": {
            "gridcolor": "white",
            "linecolor": "white",
            "ticks": ""
           },
           "bgcolor": "#E5ECF6",
           "caxis": {
            "gridcolor": "white",
            "linecolor": "white",
            "ticks": ""
           }
          },
          "title": {
           "x": 0.05
          },
          "xaxis": {
           "automargin": true,
           "gridcolor": "white",
           "linecolor": "white",
           "ticks": "",
           "title": {
            "standoff": 15
           },
           "zerolinecolor": "white",
           "zerolinewidth": 2
          },
          "yaxis": {
           "automargin": true,
           "gridcolor": "white",
           "linecolor": "white",
           "ticks": "",
           "title": {
            "standoff": 15
           },
           "zerolinecolor": "white",
           "zerolinewidth": 2
          }
         }
        },
        "title": {
         "text": "Trading simulation plot of Classification predictions"
        },
        "xaxis": {
         "title": {
          "text": "Date"
         }
        },
        "yaxis": {
         "title": {
          "text": "Price"
         }
        }
       }
      }
     },
     "metadata": {},
     "output_type": "display_data"
    },
    {
     "data": {
      "application/vnd.plotly.v1+json": {
       "config": {
        "linkText": "Export to plotly.com",
        "plotlyServerURL": "https://plotly.com",
        "showLink": false
       },
       "data": [
        {
         "line": {
          "color": "red",
          "width": 2
         },
         "name": "Short positions",
         "type": "scatter",
         "x": [
          "2022-01-06T00:00:00",
          "2022-01-07T00:00:00",
          null,
          "2022-01-19T00:00:00",
          "2022-01-20T00:00:00",
          null,
          "2022-01-25T00:00:00",
          "2022-01-27T00:00:00",
          null,
          "2022-01-28T00:00:00",
          "2022-02-03T00:00:00",
          null,
          "2022-02-15T00:00:00",
          "2022-02-16T00:00:00",
          null,
          "2022-02-21T00:00:00",
          "2022-02-22T00:00:00",
          null,
          "2022-02-23T00:00:00",
          "2022-02-28T00:00:00",
          null,
          "2022-03-01T00:00:00",
          "2022-03-02T00:00:00",
          null,
          "2022-03-03T00:00:00",
          "2022-03-04T00:00:00",
          null,
          "2022-03-07T00:00:00",
          "2022-03-10T00:00:00",
          null,
          "2022-03-15T00:00:00",
          "2022-03-16T00:00:00",
          null,
          "2022-03-23T00:00:00",
          "2022-03-24T00:00:00",
          null,
          "2022-04-01T00:00:00",
          "2022-04-04T00:00:00",
          null,
          "2022-04-05T00:00:00",
          "2022-04-06T00:00:00",
          null,
          "2022-04-07T00:00:00",
          "2022-04-14T00:00:00",
          null,
          "2022-04-18T00:00:00",
          "2022-04-20T00:00:00",
          null,
          "2022-04-26T00:00:00",
          "2022-04-29T00:00:00",
          null,
          "2022-05-05T00:00:00",
          "2022-05-17T00:00:00",
          null,
          "2022-05-20T00:00:00",
          "2022-05-23T00:00:00",
          null,
          "2022-05-24T00:00:00",
          "2022-05-27T00:00:00",
          null,
          "2022-06-01T00:00:00",
          "2022-06-02T00:00:00",
          null,
          "2022-06-03T00:00:00",
          "2022-06-06T00:00:00",
          null,
          "2022-06-07T00:00:00",
          "2022-06-08T00:00:00",
          null,
          "2022-06-09T00:00:00",
          "2022-06-22T00:00:00",
          null,
          "2022-06-23T00:00:00",
          "2022-06-27T00:00:00",
          null,
          "2022-06-30T00:00:00",
          "2022-07-05T00:00:00",
          null,
          "2022-07-06T00:00:00",
          "2022-07-08T00:00:00",
          null,
          "2022-07-14T00:00:00",
          "2022-07-18T00:00:00",
          null,
          "2022-07-20T00:00:00",
          "2022-07-21T00:00:00",
          null,
          "2022-07-22T00:00:00",
          "2022-07-25T00:00:00",
          null,
          "2022-08-01T00:00:00",
          "2022-08-02T00:00:00",
          null,
          "2022-08-10T00:00:00",
          "2022-08-11T00:00:00",
          null,
          "2022-08-15T00:00:00",
          "2022-08-18T00:00:00",
          null,
          "2022-08-22T00:00:00",
          "2022-08-23T00:00:00",
          null,
          "2022-08-24T00:00:00",
          "2022-08-26T00:00:00",
          null,
          "2022-08-30T00:00:00",
          "2022-08-31T00:00:00",
          null,
          "2022-09-01T00:00:00",
          "2022-09-02T00:00:00",
          null,
          "2022-09-05T00:00:00",
          "2022-09-06T00:00:00",
          null,
          "2022-09-08T00:00:00",
          "2022-09-09T00:00:00",
          null,
          "2022-09-15T00:00:00",
          "2022-09-16T00:00:00",
          null,
          "2022-09-20T00:00:00",
          "2022-09-21T00:00:00",
          null,
          "2022-09-22T00:00:00",
          "2022-09-23T00:00:00",
          null,
          "2022-09-26T00:00:00",
          "2022-10-03T00:00:00",
          null,
          "2022-10-04T00:00:00",
          "2022-10-05T00:00:00",
          null,
          "2022-10-07T00:00:00",
          "2022-10-19T00:00:00",
          null,
          "2022-10-20T00:00:00",
          "2022-10-26T00:00:00",
          null,
          "2022-11-04T00:00:00",
          "2022-11-07T00:00:00",
          null,
          "2022-11-17T00:00:00",
          "2022-11-18T00:00:00",
          null,
          "2022-11-21T00:00:00",
          "2022-11-23T00:00:00",
          null,
          "2022-11-24T00:00:00",
          "2022-11-30T00:00:00",
          null,
          "2022-12-05T00:00:00",
          "2022-12-06T00:00:00",
          null,
          "2022-12-07T00:00:00",
          "2022-12-09T00:00:00",
          null,
          "2022-12-13T00:00:00",
          "2022-12-14T00:00:00",
          null,
          "2022-12-16T00:00:00",
          "2022-12-20T00:00:00",
          null,
          "2022-12-21T00:00:00",
          "2022-12-22T00:00:00",
          null,
          "2022-12-27T00:00:00",
          "2022-12-28T00:00:00",
          null,
          "2022-12-30T00:00:00"
         ],
         "y": [
          3184.300048828125,
          3205.260009765625,
          null,
          3283.93994140625,
          3294.820068359375,
          null,
          3247.760009765625,
          3260.030029296875,
          null,
          3246.330078125,
          3315.989990234375,
          null,
          3421.3798828125,
          3439.300048828125,
          null,
          3436.360107421875,
          3400.580078125,
          null,
          3393,
          3242.239990234375,
          null,
          3278.6298828125,
          3244.39990234375,
          null,
          3253.64990234375,
          3226.780029296875,
          null,
          3187.820068359375,
          3240.72998046875,
          null,
          3236.0400390625,
          3290.89990234375,
          null,
          3364.260009765625,
          3399.699951171875,
          null,
          3419.110107421875,
          3416.969970703125,
          null,
          3445.010009765625,
          3422.949951171875,
          null,
          3404.22998046875,
          3335.85009765625,
          null,
          3303.070068359375,
          3335.320068359375,
          null,
          3322.050048828125,
          3356.89990234375,
          null,
          3343.570068359375,
          3201.889892578125,
          null,
          3240.580078125,
          3213.64990234375,
          null,
          3195.0400390625,
          3230.550048828125,
          null,
          3244,
          3226.719970703125,
          null,
          3231.969970703125,
          3226.6298828125,
          null,
          3231.5400390625,
          3225.800048828125,
          null,
          3209.6201171875,
          3093.31005859375,
          null,
          3092.800048828125,
          3137.5400390625,
          null,
          3102.2099609375,
          3104.110107421875,
          null,
          3103.659912109375,
          3131.260009765625,
          null,
          3090.6298828125,
          3121.760009765625,
          null,
          3170.2900390625,
          3152.300048828125,
          null,
          3181.340087890625,
          3180.469970703125,
          null,
          3238.75,
          3239.14990234375,
          null,
          3286.330078125,
          3301.9599609375,
          null,
          3256.820068359375,
          3273.47998046875,
          null,
          3262.570068359375,
          3246.2099609375,
          null,
          3233.47998046875,
          3249.530029296875,
          null,
          3239.330078125,
          3221.669921875,
          null,
          3224.080078125,
          3205.68994140625,
          null,
          3215.47998046875,
          3224.179931640625,
          null,
          3233.610107421875,
          3262.949951171875,
          null,
          3267.97998046875,
          3268.2900390625,
          null,
          3266.93994140625,
          3261.7900390625,
          null,
          3263.070068359375,
          3227.10009765625,
          null,
          3181.969970703125,
          3107.090087890625,
          null,
          3138.89990234375,
          3153.22998046875,
          null,
          3145.81005859375,
          3022.800048828125,
          null,
          3022.699951171875,
          3008.3798828125,
          null,
          3130.110107421875,
          3141.31005859375,
          null,
          3286.0400390625,
          3272.22998046875,
          null,
          3250.6201171875,
          3255.989990234375,
          null,
          3252.8798828125,
          3290.489990234375,
          null,
          3267.5400390625,
          3252.3701171875,
          null,
          3225.449951171875,
          3245.969970703125,
          null,
          3271.280029296875,
          3278.570068359375,
          null,
          3240.81005859375,
          3253.969970703125,
          null,
          3256.18994140625,
          3269.530029296875,
          null,
          3266.3798828125,
          3266.969970703125,
          null,
          3251.320068359375
         ]
        },
        {
         "line": {
          "color": "blue",
          "width": 2
         },
         "name": "Long positions",
         "type": "scatter",
         "x": [
          "2022-01-04T00:00:00",
          "2022-01-06T00:00:00",
          null,
          "2022-01-07T00:00:00",
          "2022-01-19T00:00:00",
          null,
          "2022-01-20T00:00:00",
          "2022-01-25T00:00:00",
          null,
          "2022-01-27T00:00:00",
          "2022-01-28T00:00:00",
          null,
          "2022-02-03T00:00:00",
          "2022-02-15T00:00:00",
          null,
          "2022-02-16T00:00:00",
          "2022-02-21T00:00:00",
          null,
          "2022-02-22T00:00:00",
          "2022-02-23T00:00:00",
          null,
          "2022-02-28T00:00:00",
          "2022-03-01T00:00:00",
          null,
          "2022-03-02T00:00:00",
          "2022-03-03T00:00:00",
          null,
          "2022-03-04T00:00:00",
          "2022-03-07T00:00:00",
          null,
          "2022-03-10T00:00:00",
          "2022-03-15T00:00:00",
          null,
          "2022-03-16T00:00:00",
          "2022-03-23T00:00:00",
          null,
          "2022-03-24T00:00:00",
          "2022-04-01T00:00:00",
          null,
          "2022-04-04T00:00:00",
          "2022-04-05T00:00:00",
          null,
          "2022-04-06T00:00:00",
          "2022-04-07T00:00:00",
          null,
          "2022-04-14T00:00:00",
          "2022-04-18T00:00:00",
          null,
          "2022-04-20T00:00:00",
          "2022-04-26T00:00:00",
          null,
          "2022-04-29T00:00:00",
          "2022-05-05T00:00:00",
          null,
          "2022-05-17T00:00:00",
          "2022-05-20T00:00:00",
          null,
          "2022-05-23T00:00:00",
          "2022-05-24T00:00:00",
          null,
          "2022-05-27T00:00:00",
          "2022-06-01T00:00:00",
          null,
          "2022-06-02T00:00:00",
          "2022-06-03T00:00:00",
          null,
          "2022-06-06T00:00:00",
          "2022-06-07T00:00:00",
          null,
          "2022-06-08T00:00:00",
          "2022-06-09T00:00:00",
          null,
          "2022-06-22T00:00:00",
          "2022-06-23T00:00:00",
          null,
          "2022-06-27T00:00:00",
          "2022-06-30T00:00:00",
          null,
          "2022-07-05T00:00:00",
          "2022-07-06T00:00:00",
          null,
          "2022-07-08T00:00:00",
          "2022-07-14T00:00:00",
          null,
          "2022-07-18T00:00:00",
          "2022-07-20T00:00:00",
          null,
          "2022-07-21T00:00:00",
          "2022-07-22T00:00:00",
          null,
          "2022-07-25T00:00:00",
          "2022-08-01T00:00:00",
          null,
          "2022-08-02T00:00:00",
          "2022-08-10T00:00:00",
          null,
          "2022-08-11T00:00:00",
          "2022-08-15T00:00:00",
          null,
          "2022-08-18T00:00:00",
          "2022-08-22T00:00:00",
          null,
          "2022-08-23T00:00:00",
          "2022-08-24T00:00:00",
          null,
          "2022-08-26T00:00:00",
          "2022-08-30T00:00:00",
          null,
          "2022-08-31T00:00:00",
          "2022-09-01T00:00:00",
          null,
          "2022-09-02T00:00:00",
          "2022-09-05T00:00:00",
          null,
          "2022-09-06T00:00:00",
          "2022-09-08T00:00:00",
          null,
          "2022-09-09T00:00:00",
          "2022-09-15T00:00:00",
          null,
          "2022-09-16T00:00:00",
          "2022-09-20T00:00:00",
          null,
          "2022-09-21T00:00:00",
          "2022-09-22T00:00:00",
          null,
          "2022-09-23T00:00:00",
          "2022-09-26T00:00:00",
          null,
          "2022-10-03T00:00:00",
          "2022-10-04T00:00:00",
          null,
          "2022-10-05T00:00:00",
          "2022-10-07T00:00:00",
          null,
          "2022-10-19T00:00:00",
          "2022-10-20T00:00:00",
          null,
          "2022-10-26T00:00:00",
          "2022-11-04T00:00:00",
          null,
          "2022-11-07T00:00:00",
          "2022-11-17T00:00:00",
          null,
          "2022-11-18T00:00:00",
          "2022-11-21T00:00:00",
          null,
          "2022-11-23T00:00:00",
          "2022-11-24T00:00:00",
          null,
          "2022-11-30T00:00:00",
          "2022-12-05T00:00:00",
          null,
          "2022-12-06T00:00:00",
          "2022-12-07T00:00:00",
          null,
          "2022-12-09T00:00:00",
          "2022-12-13T00:00:00",
          null,
          "2022-12-14T00:00:00",
          "2022-12-16T00:00:00",
          null,
          "2022-12-20T00:00:00",
          "2022-12-21T00:00:00",
          null,
          "2022-12-22T00:00:00",
          "2022-12-27T00:00:00",
          null,
          "2022-12-28T00:00:00",
          "2022-12-30T00:00:00",
          null
         ],
         "y": [
          3181.1298828125,
          3184.300048828125,
          null,
          3205.260009765625,
          3283.93994140625,
          null,
          3294.820068359375,
          3247.760009765625,
          null,
          3260.030029296875,
          3246.330078125,
          null,
          3315.989990234375,
          3421.3798828125,
          null,
          3439.300048828125,
          3436.360107421875,
          null,
          3400.580078125,
          3393,
          null,
          3242.239990234375,
          3278.6298828125,
          null,
          3244.39990234375,
          3253.64990234375,
          null,
          3226.780029296875,
          3187.820068359375,
          null,
          3240.72998046875,
          3236.0400390625,
          null,
          3290.89990234375,
          3364.260009765625,
          null,
          3399.699951171875,
          3419.110107421875,
          null,
          3416.969970703125,
          3445.010009765625,
          null,
          3422.949951171875,
          3404.22998046875,
          null,
          3335.85009765625,
          3303.070068359375,
          null,
          3335.320068359375,
          3322.050048828125,
          null,
          3356.89990234375,
          3343.570068359375,
          null,
          3201.889892578125,
          3240.580078125,
          null,
          3213.64990234375,
          3195.0400390625,
          null,
          3230.550048828125,
          3244,
          null,
          3226.719970703125,
          3231.969970703125,
          null,
          3226.6298828125,
          3231.5400390625,
          null,
          3225.800048828125,
          3209.6201171875,
          null,
          3093.31005859375,
          3092.800048828125,
          null,
          3137.5400390625,
          3102.2099609375,
          null,
          3104.110107421875,
          3103.659912109375,
          null,
          3131.260009765625,
          3090.6298828125,
          null,
          3121.760009765625,
          3170.2900390625,
          null,
          3152.300048828125,
          3181.340087890625,
          null,
          3180.469970703125,
          3238.75,
          null,
          3239.14990234375,
          3286.330078125,
          null,
          3301.9599609375,
          3256.820068359375,
          null,
          3273.47998046875,
          3262.570068359375,
          null,
          3246.2099609375,
          3233.47998046875,
          null,
          3249.530029296875,
          3239.330078125,
          null,
          3221.669921875,
          3224.080078125,
          null,
          3205.68994140625,
          3215.47998046875,
          null,
          3224.179931640625,
          3233.610107421875,
          null,
          3262.949951171875,
          3267.97998046875,
          null,
          3268.2900390625,
          3266.93994140625,
          null,
          3261.7900390625,
          3263.070068359375,
          null,
          3227.10009765625,
          3181.969970703125,
          null,
          3107.090087890625,
          3138.89990234375,
          null,
          3153.22998046875,
          3145.81005859375,
          null,
          3022.800048828125,
          3022.699951171875,
          null,
          3008.3798828125,
          3130.110107421875,
          null,
          3141.31005859375,
          3286.0400390625,
          null,
          3272.22998046875,
          3250.6201171875,
          null,
          3255.989990234375,
          3252.8798828125,
          null,
          3290.489990234375,
          3267.5400390625,
          null,
          3252.3701171875,
          3225.449951171875,
          null,
          3245.969970703125,
          3271.280029296875,
          null,
          3278.570068359375,
          3240.81005859375,
          null,
          3253.969970703125,
          3256.18994140625,
          null,
          3269.530029296875,
          3266.3798828125,
          null,
          3266.969970703125,
          3251.320068359375,
          null
         ]
        },
        {
         "line": {
          "color": "green",
          "width": 1
         },
         "name": "Closing price",
         "type": "scatter",
         "x": [
          "2022-01-04T00:00:00",
          "2022-01-05T00:00:00",
          "2022-01-06T00:00:00",
          "2022-01-07T00:00:00",
          "2022-01-10T00:00:00",
          "2022-01-11T00:00:00",
          "2022-01-12T00:00:00",
          "2022-01-13T00:00:00",
          "2022-01-14T00:00:00",
          "2022-01-17T00:00:00",
          "2022-01-18T00:00:00",
          "2022-01-19T00:00:00",
          "2022-01-20T00:00:00",
          "2022-01-21T00:00:00",
          "2022-01-24T00:00:00",
          "2022-01-25T00:00:00",
          "2022-01-26T00:00:00",
          "2022-01-27T00:00:00",
          "2022-01-28T00:00:00",
          "2022-01-31T00:00:00",
          "2022-02-03T00:00:00",
          "2022-02-04T00:00:00",
          "2022-02-07T00:00:00",
          "2022-02-08T00:00:00",
          "2022-02-09T00:00:00",
          "2022-02-10T00:00:00",
          "2022-02-11T00:00:00",
          "2022-02-14T00:00:00",
          "2022-02-15T00:00:00",
          "2022-02-16T00:00:00",
          "2022-02-17T00:00:00",
          "2022-02-18T00:00:00",
          "2022-02-21T00:00:00",
          "2022-02-22T00:00:00",
          "2022-02-23T00:00:00",
          "2022-02-24T00:00:00",
          "2022-02-25T00:00:00",
          "2022-02-28T00:00:00",
          "2022-03-01T00:00:00",
          "2022-03-02T00:00:00",
          "2022-03-03T00:00:00",
          "2022-03-04T00:00:00",
          "2022-03-07T00:00:00",
          "2022-03-08T00:00:00",
          "2022-03-09T00:00:00",
          "2022-03-10T00:00:00",
          "2022-03-11T00:00:00",
          "2022-03-14T00:00:00",
          "2022-03-15T00:00:00",
          "2022-03-16T00:00:00",
          "2022-03-17T00:00:00",
          "2022-03-18T00:00:00",
          "2022-03-21T00:00:00",
          "2022-03-22T00:00:00",
          "2022-03-23T00:00:00",
          "2022-03-24T00:00:00",
          "2022-03-25T00:00:00",
          "2022-03-28T00:00:00",
          "2022-03-29T00:00:00",
          "2022-03-30T00:00:00",
          "2022-03-31T00:00:00",
          "2022-04-01T00:00:00",
          "2022-04-04T00:00:00",
          "2022-04-05T00:00:00",
          "2022-04-06T00:00:00",
          "2022-04-07T00:00:00",
          "2022-04-08T00:00:00",
          "2022-04-11T00:00:00",
          "2022-04-12T00:00:00",
          "2022-04-13T00:00:00",
          "2022-04-14T00:00:00",
          "2022-04-18T00:00:00",
          "2022-04-19T00:00:00",
          "2022-04-20T00:00:00",
          "2022-04-21T00:00:00",
          "2022-04-22T00:00:00",
          "2022-04-25T00:00:00",
          "2022-04-26T00:00:00",
          "2022-04-27T00:00:00",
          "2022-04-28T00:00:00",
          "2022-04-29T00:00:00",
          "2022-05-04T00:00:00",
          "2022-05-05T00:00:00",
          "2022-05-06T00:00:00",
          "2022-05-09T00:00:00",
          "2022-05-10T00:00:00",
          "2022-05-11T00:00:00",
          "2022-05-12T00:00:00",
          "2022-05-13T00:00:00",
          "2022-05-17T00:00:00",
          "2022-05-18T00:00:00",
          "2022-05-19T00:00:00",
          "2022-05-20T00:00:00",
          "2022-05-23T00:00:00",
          "2022-05-24T00:00:00",
          "2022-05-25T00:00:00",
          "2022-05-26T00:00:00",
          "2022-05-27T00:00:00",
          "2022-05-30T00:00:00",
          "2022-05-31T00:00:00",
          "2022-06-01T00:00:00",
          "2022-06-02T00:00:00",
          "2022-06-03T00:00:00",
          "2022-06-06T00:00:00",
          "2022-06-07T00:00:00",
          "2022-06-08T00:00:00",
          "2022-06-09T00:00:00",
          "2022-06-10T00:00:00",
          "2022-06-13T00:00:00",
          "2022-06-14T00:00:00",
          "2022-06-15T00:00:00",
          "2022-06-16T00:00:00",
          "2022-06-17T00:00:00",
          "2022-06-20T00:00:00",
          "2022-06-21T00:00:00",
          "2022-06-22T00:00:00",
          "2022-06-23T00:00:00",
          "2022-06-24T00:00:00",
          "2022-06-27T00:00:00",
          "2022-06-28T00:00:00",
          "2022-06-29T00:00:00",
          "2022-06-30T00:00:00",
          "2022-07-01T00:00:00",
          "2022-07-04T00:00:00",
          "2022-07-05T00:00:00",
          "2022-07-06T00:00:00",
          "2022-07-07T00:00:00",
          "2022-07-08T00:00:00",
          "2022-07-12T00:00:00",
          "2022-07-13T00:00:00",
          "2022-07-14T00:00:00",
          "2022-07-15T00:00:00",
          "2022-07-18T00:00:00",
          "2022-07-19T00:00:00",
          "2022-07-20T00:00:00",
          "2022-07-21T00:00:00",
          "2022-07-22T00:00:00",
          "2022-07-25T00:00:00",
          "2022-07-26T00:00:00",
          "2022-07-27T00:00:00",
          "2022-07-28T00:00:00",
          "2022-07-29T00:00:00",
          "2022-08-01T00:00:00",
          "2022-08-02T00:00:00",
          "2022-08-03T00:00:00",
          "2022-08-04T00:00:00",
          "2022-08-05T00:00:00",
          "2022-08-08T00:00:00",
          "2022-08-10T00:00:00",
          "2022-08-11T00:00:00",
          "2022-08-12T00:00:00",
          "2022-08-15T00:00:00",
          "2022-08-16T00:00:00",
          "2022-08-17T00:00:00",
          "2022-08-18T00:00:00",
          "2022-08-19T00:00:00",
          "2022-08-22T00:00:00",
          "2022-08-23T00:00:00",
          "2022-08-24T00:00:00",
          "2022-08-25T00:00:00",
          "2022-08-26T00:00:00",
          "2022-08-29T00:00:00",
          "2022-08-30T00:00:00",
          "2022-08-31T00:00:00",
          "2022-09-01T00:00:00",
          "2022-09-02T00:00:00",
          "2022-09-05T00:00:00",
          "2022-09-06T00:00:00",
          "2022-09-07T00:00:00",
          "2022-09-08T00:00:00",
          "2022-09-09T00:00:00",
          "2022-09-12T00:00:00",
          "2022-09-13T00:00:00",
          "2022-09-14T00:00:00",
          "2022-09-15T00:00:00",
          "2022-09-16T00:00:00",
          "2022-09-19T00:00:00",
          "2022-09-20T00:00:00",
          "2022-09-21T00:00:00",
          "2022-09-22T00:00:00",
          "2022-09-23T00:00:00",
          "2022-09-26T00:00:00",
          "2022-09-27T00:00:00",
          "2022-09-28T00:00:00",
          "2022-09-29T00:00:00",
          "2022-09-30T00:00:00",
          "2022-10-03T00:00:00",
          "2022-10-04T00:00:00",
          "2022-10-05T00:00:00",
          "2022-10-06T00:00:00",
          "2022-10-07T00:00:00",
          "2022-10-10T00:00:00",
          "2022-10-11T00:00:00",
          "2022-10-12T00:00:00",
          "2022-10-13T00:00:00",
          "2022-10-14T00:00:00",
          "2022-10-17T00:00:00",
          "2022-10-18T00:00:00",
          "2022-10-19T00:00:00",
          "2022-10-20T00:00:00",
          "2022-10-21T00:00:00",
          "2022-10-25T00:00:00",
          "2022-10-26T00:00:00",
          "2022-10-27T00:00:00",
          "2022-10-28T00:00:00",
          "2022-10-31T00:00:00",
          "2022-11-01T00:00:00",
          "2022-11-02T00:00:00",
          "2022-11-03T00:00:00",
          "2022-11-04T00:00:00",
          "2022-11-07T00:00:00",
          "2022-11-08T00:00:00",
          "2022-11-09T00:00:00",
          "2022-11-10T00:00:00",
          "2022-11-11T00:00:00",
          "2022-11-14T00:00:00",
          "2022-11-15T00:00:00",
          "2022-11-16T00:00:00",
          "2022-11-17T00:00:00",
          "2022-11-18T00:00:00",
          "2022-11-21T00:00:00",
          "2022-11-22T00:00:00",
          "2022-11-23T00:00:00",
          "2022-11-24T00:00:00",
          "2022-11-25T00:00:00",
          "2022-11-28T00:00:00",
          "2022-11-29T00:00:00",
          "2022-11-30T00:00:00",
          "2022-12-01T00:00:00",
          "2022-12-02T00:00:00",
          "2022-12-05T00:00:00",
          "2022-12-06T00:00:00",
          "2022-12-07T00:00:00",
          "2022-12-08T00:00:00",
          "2022-12-09T00:00:00",
          "2022-12-12T00:00:00",
          "2022-12-13T00:00:00",
          "2022-12-14T00:00:00",
          "2022-12-15T00:00:00",
          "2022-12-16T00:00:00",
          "2022-12-19T00:00:00",
          "2022-12-20T00:00:00",
          "2022-12-21T00:00:00",
          "2022-12-22T00:00:00",
          "2022-12-23T00:00:00",
          "2022-12-27T00:00:00",
          "2022-12-28T00:00:00",
          "2022-12-29T00:00:00",
          "2022-12-30T00:00:00"
         ],
         "y": [
          3181.1298828125,
          3163.43994140625,
          3184.300048828125,
          3205.260009765625,
          3227.050048828125,
          3246.3701171875,
          3254.97998046875,
          3257.300048828125,
          3281.969970703125,
          3287.949951171875,
          3280.0400390625,
          3283.93994140625,
          3294.820068359375,
          3294.860107421875,
          3283.35009765625,
          3247.760009765625,
          3271.570068359375,
          3260.030029296875,
          3246.330078125,
          3249.590087890625,
          3315.989990234375,
          3331.409912109375,
          3366.47998046875,
          3401.739990234375,
          3420.0400390625,
          3428,
          3428.949951171875,
          3421.199951171875,
          3421.3798828125,
          3439.300048828125,
          3441.570068359375,
          3428.89990234375,
          3436.360107421875,
          3400.580078125,
          3393,
          3276.06005859375,
          3294.469970703125,
          3242.239990234375,
          3278.6298828125,
          3244.39990234375,
          3253.64990234375,
          3226.780029296875,
          3187.820068359375,
          3148.860107421875,
          3195.3798828125,
          3240.72998046875,
          3249.659912109375,
          3232.030029296875,
          3236.0400390625,
          3290.89990234375,
          3322.7099609375,
          3330.6298828125,
          3355.510009765625,
          3350.169921875,
          3364.260009765625,
          3399.699951171875,
          3413.68994140625,
          3431.989990234375,
          3433.89990234375,
          3442.610107421875,
          3408.52001953125,
          3419.110107421875,
          3416.969970703125,
          3445.010009765625,
          3422.949951171875,
          3404.22998046875,
          3383.280029296875,
          3363.56005859375,
          3330.25,
          3342.219970703125,
          3335.85009765625,
          3303.070068359375,
          3307.1298828125,
          3335.320068359375,
          3348.4599609375,
          3361.110107421875,
          3339.590087890625,
          3322.050048828125,
          3320.669921875,
          3335.090087890625,
          3356.89990234375,
          3349.27001953125,
          3343.570068359375,
          3291.889892578125,
          3275.070068359375,
          3234.18994140625,
          3226.070068359375,
          3165.179931640625,
          3191.159912109375,
          3201.889892578125,
          3225.35009765625,
          3190.7099609375,
          3240.580078125,
          3213.64990234375,
          3195.0400390625,
          3179.580078125,
          3209.179931640625,
          3230.550048828125,
          3238.919921875,
          3232.489990234375,
          3244,
          3226.719970703125,
          3231.969970703125,
          3226.6298828125,
          3231.5400390625,
          3225.800048828125,
          3209.6201171875,
          3181.72998046875,
          3139.35009765625,
          3108.889892578125,
          3105.85009765625,
          3097.429931640625,
          3098.090087890625,
          3096.39990234375,
          3117.47998046875,
          3093.31005859375,
          3092.800048828125,
          3111.64990234375,
          3137.5400390625,
          3140.2099609375,
          3134.8701171875,
          3102.2099609375,
          3095.590087890625,
          3120.239990234375,
          3104.110107421875,
          3103.659912109375,
          3129.39990234375,
          3131.260009765625,
          3145.77001953125,
          3128.68994140625,
          3090.6298828125,
          3099.14990234375,
          3121.760009765625,
          3117.7900390625,
          3170.2900390625,
          3152.300048828125,
          3181.340087890625,
          3180.469970703125,
          3192.1201171875,
          3205.139892578125,
          3220.64990234375,
          3211.56005859375,
          3238.75,
          3239.14990234375,
          3252.06005859375,
          3269.860107421875,
          3282.8798828125,
          3270.97998046875,
          3286.330078125,
          3301.9599609375,
          3269.27001953125,
          3256.820068359375,
          3253.7900390625,
          3262.760009765625,
          3273.47998046875,
          3246.510009765625,
          3262.570068359375,
          3246.2099609375,
          3233.47998046875,
          3247.800048828125,
          3249.530029296875,
          3222.260009765625,
          3239.330078125,
          3221.669921875,
          3224.080078125,
          3205.68994140625,
          3215.47998046875,
          3224.179931640625,
          3210.830078125,
          3233.610107421875,
          3262.949951171875,
          3274.719970703125,
          3290.080078125,
          3258.02001953125,
          3267.97998046875,
          3268.2900390625,
          3256.31005859375,
          3266.93994140625,
          3261.7900390625,
          3263.070068359375,
          3227.10009765625,
          3181.969970703125,
          3165.5,
          3116.31005859375,
          3115.080078125,
          3130.239990234375,
          3107.090087890625,
          3138.89990234375,
          3153.22998046875,
          3151.56005859375,
          3145.81005859375,
          3107.469970703125,
          3105,
          3083.18994140625,
          3040.449951171875,
          3039.610107421875,
          3015.75,
          3025.8798828125,
          3022.800048828125,
          3022.699951171875,
          2969.949951171875,
          2984.14990234375,
          3008.3798828125,
          3015.239990234375,
          3059.18994140625,
          3093.110107421875,
          3130.5,
          3141.1298828125,
          3102.510009765625,
          3130.110107421875,
          3141.31005859375,
          3145.830078125,
          3165.5,
          3173.179931640625,
          3228.330078125,
          3260.800048828125,
          3275.280029296875,
          3266.169921875,
          3286.0400390625,
          3272.22998046875,
          3250.6201171875,
          3259.56005859375,
          3255.989990234375,
          3252.8798828125,
          3244.550048828125,
          3240.06005859375,
          3276.360107421875,
          3290.489990234375,
          3292.72998046875,
          3259.139892578125,
          3267.5400390625,
          3252.3701171875,
          3225.449951171875,
          3236.080078125,
          3245.969970703125,
          3239.659912109375,
          3271.280029296875,
          3278.570068359375,
          3273.75,
          3240.81005859375,
          3256.610107421875,
          3253.969970703125,
          3256.18994140625,
          3269.530029296875,
          3257.699951171875,
          3266.3798828125,
          3266.969970703125,
          3249.239990234375,
          3251.320068359375
         ]
        }
       ],
       "layout": {
        "font": {
         "size": 18
        },
        "template": {
         "data": {
          "bar": [
           {
            "error_x": {
             "color": "#2a3f5f"
            },
            "error_y": {
             "color": "#2a3f5f"
            },
            "marker": {
             "line": {
              "color": "#E5ECF6",
              "width": 0.5
             },
             "pattern": {
              "fillmode": "overlay",
              "size": 10,
              "solidity": 0.2
             }
            },
            "type": "bar"
           }
          ],
          "barpolar": [
           {
            "marker": {
             "line": {
              "color": "#E5ECF6",
              "width": 0.5
             },
             "pattern": {
              "fillmode": "overlay",
              "size": 10,
              "solidity": 0.2
             }
            },
            "type": "barpolar"
           }
          ],
          "carpet": [
           {
            "aaxis": {
             "endlinecolor": "#2a3f5f",
             "gridcolor": "white",
             "linecolor": "white",
             "minorgridcolor": "white",
             "startlinecolor": "#2a3f5f"
            },
            "baxis": {
             "endlinecolor": "#2a3f5f",
             "gridcolor": "white",
             "linecolor": "white",
             "minorgridcolor": "white",
             "startlinecolor": "#2a3f5f"
            },
            "type": "carpet"
           }
          ],
          "choropleth": [
           {
            "colorbar": {
             "outlinewidth": 0,
             "ticks": ""
            },
            "type": "choropleth"
           }
          ],
          "contour": [
           {
            "colorbar": {
             "outlinewidth": 0,
             "ticks": ""
            },
            "colorscale": [
             [
              0,
              "#0d0887"
             ],
             [
              0.1111111111111111,
              "#46039f"
             ],
             [
              0.2222222222222222,
              "#7201a8"
             ],
             [
              0.3333333333333333,
              "#9c179e"
             ],
             [
              0.4444444444444444,
              "#bd3786"
             ],
             [
              0.5555555555555556,
              "#d8576b"
             ],
             [
              0.6666666666666666,
              "#ed7953"
             ],
             [
              0.7777777777777778,
              "#fb9f3a"
             ],
             [
              0.8888888888888888,
              "#fdca26"
             ],
             [
              1,
              "#f0f921"
             ]
            ],
            "type": "contour"
           }
          ],
          "contourcarpet": [
           {
            "colorbar": {
             "outlinewidth": 0,
             "ticks": ""
            },
            "type": "contourcarpet"
           }
          ],
          "heatmap": [
           {
            "colorbar": {
             "outlinewidth": 0,
             "ticks": ""
            },
            "colorscale": [
             [
              0,
              "#0d0887"
             ],
             [
              0.1111111111111111,
              "#46039f"
             ],
             [
              0.2222222222222222,
              "#7201a8"
             ],
             [
              0.3333333333333333,
              "#9c179e"
             ],
             [
              0.4444444444444444,
              "#bd3786"
             ],
             [
              0.5555555555555556,
              "#d8576b"
             ],
             [
              0.6666666666666666,
              "#ed7953"
             ],
             [
              0.7777777777777778,
              "#fb9f3a"
             ],
             [
              0.8888888888888888,
              "#fdca26"
             ],
             [
              1,
              "#f0f921"
             ]
            ],
            "type": "heatmap"
           }
          ],
          "heatmapgl": [
           {
            "colorbar": {
             "outlinewidth": 0,
             "ticks": ""
            },
            "colorscale": [
             [
              0,
              "#0d0887"
             ],
             [
              0.1111111111111111,
              "#46039f"
             ],
             [
              0.2222222222222222,
              "#7201a8"
             ],
             [
              0.3333333333333333,
              "#9c179e"
             ],
             [
              0.4444444444444444,
              "#bd3786"
             ],
             [
              0.5555555555555556,
              "#d8576b"
             ],
             [
              0.6666666666666666,
              "#ed7953"
             ],
             [
              0.7777777777777778,
              "#fb9f3a"
             ],
             [
              0.8888888888888888,
              "#fdca26"
             ],
             [
              1,
              "#f0f921"
             ]
            ],
            "type": "heatmapgl"
           }
          ],
          "histogram": [
           {
            "marker": {
             "pattern": {
              "fillmode": "overlay",
              "size": 10,
              "solidity": 0.2
             }
            },
            "type": "histogram"
           }
          ],
          "histogram2d": [
           {
            "colorbar": {
             "outlinewidth": 0,
             "ticks": ""
            },
            "colorscale": [
             [
              0,
              "#0d0887"
             ],
             [
              0.1111111111111111,
              "#46039f"
             ],
             [
              0.2222222222222222,
              "#7201a8"
             ],
             [
              0.3333333333333333,
              "#9c179e"
             ],
             [
              0.4444444444444444,
              "#bd3786"
             ],
             [
              0.5555555555555556,
              "#d8576b"
             ],
             [
              0.6666666666666666,
              "#ed7953"
             ],
             [
              0.7777777777777778,
              "#fb9f3a"
             ],
             [
              0.8888888888888888,
              "#fdca26"
             ],
             [
              1,
              "#f0f921"
             ]
            ],
            "type": "histogram2d"
           }
          ],
          "histogram2dcontour": [
           {
            "colorbar": {
             "outlinewidth": 0,
             "ticks": ""
            },
            "colorscale": [
             [
              0,
              "#0d0887"
             ],
             [
              0.1111111111111111,
              "#46039f"
             ],
             [
              0.2222222222222222,
              "#7201a8"
             ],
             [
              0.3333333333333333,
              "#9c179e"
             ],
             [
              0.4444444444444444,
              "#bd3786"
             ],
             [
              0.5555555555555556,
              "#d8576b"
             ],
             [
              0.6666666666666666,
              "#ed7953"
             ],
             [
              0.7777777777777778,
              "#fb9f3a"
             ],
             [
              0.8888888888888888,
              "#fdca26"
             ],
             [
              1,
              "#f0f921"
             ]
            ],
            "type": "histogram2dcontour"
           }
          ],
          "mesh3d": [
           {
            "colorbar": {
             "outlinewidth": 0,
             "ticks": ""
            },
            "type": "mesh3d"
           }
          ],
          "parcoords": [
           {
            "line": {
             "colorbar": {
              "outlinewidth": 0,
              "ticks": ""
             }
            },
            "type": "parcoords"
           }
          ],
          "pie": [
           {
            "automargin": true,
            "type": "pie"
           }
          ],
          "scatter": [
           {
            "fillpattern": {
             "fillmode": "overlay",
             "size": 10,
             "solidity": 0.2
            },
            "type": "scatter"
           }
          ],
          "scatter3d": [
           {
            "line": {
             "colorbar": {
              "outlinewidth": 0,
              "ticks": ""
             }
            },
            "marker": {
             "colorbar": {
              "outlinewidth": 0,
              "ticks": ""
             }
            },
            "type": "scatter3d"
           }
          ],
          "scattercarpet": [
           {
            "marker": {
             "colorbar": {
              "outlinewidth": 0,
              "ticks": ""
             }
            },
            "type": "scattercarpet"
           }
          ],
          "scattergeo": [
           {
            "marker": {
             "colorbar": {
              "outlinewidth": 0,
              "ticks": ""
             }
            },
            "type": "scattergeo"
           }
          ],
          "scattergl": [
           {
            "marker": {
             "colorbar": {
              "outlinewidth": 0,
              "ticks": ""
             }
            },
            "type": "scattergl"
           }
          ],
          "scattermapbox": [
           {
            "marker": {
             "colorbar": {
              "outlinewidth": 0,
              "ticks": ""
             }
            },
            "type": "scattermapbox"
           }
          ],
          "scatterpolar": [
           {
            "marker": {
             "colorbar": {
              "outlinewidth": 0,
              "ticks": ""
             }
            },
            "type": "scatterpolar"
           }
          ],
          "scatterpolargl": [
           {
            "marker": {
             "colorbar": {
              "outlinewidth": 0,
              "ticks": ""
             }
            },
            "type": "scatterpolargl"
           }
          ],
          "scatterternary": [
           {
            "marker": {
             "colorbar": {
              "outlinewidth": 0,
              "ticks": ""
             }
            },
            "type": "scatterternary"
           }
          ],
          "surface": [
           {
            "colorbar": {
             "outlinewidth": 0,
             "ticks": ""
            },
            "colorscale": [
             [
              0,
              "#0d0887"
             ],
             [
              0.1111111111111111,
              "#46039f"
             ],
             [
              0.2222222222222222,
              "#7201a8"
             ],
             [
              0.3333333333333333,
              "#9c179e"
             ],
             [
              0.4444444444444444,
              "#bd3786"
             ],
             [
              0.5555555555555556,
              "#d8576b"
             ],
             [
              0.6666666666666666,
              "#ed7953"
             ],
             [
              0.7777777777777778,
              "#fb9f3a"
             ],
             [
              0.8888888888888888,
              "#fdca26"
             ],
             [
              1,
              "#f0f921"
             ]
            ],
            "type": "surface"
           }
          ],
          "table": [
           {
            "cells": {
             "fill": {
              "color": "#EBF0F8"
             },
             "line": {
              "color": "white"
             }
            },
            "header": {
             "fill": {
              "color": "#C8D4E3"
             },
             "line": {
              "color": "white"
             }
            },
            "type": "table"
           }
          ]
         },
         "layout": {
          "annotationdefaults": {
           "arrowcolor": "#2a3f5f",
           "arrowhead": 0,
           "arrowwidth": 1
          },
          "autotypenumbers": "strict",
          "coloraxis": {
           "colorbar": {
            "outlinewidth": 0,
            "ticks": ""
           }
          },
          "colorscale": {
           "diverging": [
            [
             0,
             "#8e0152"
            ],
            [
             0.1,
             "#c51b7d"
            ],
            [
             0.2,
             "#de77ae"
            ],
            [
             0.3,
             "#f1b6da"
            ],
            [
             0.4,
             "#fde0ef"
            ],
            [
             0.5,
             "#f7f7f7"
            ],
            [
             0.6,
             "#e6f5d0"
            ],
            [
             0.7,
             "#b8e186"
            ],
            [
             0.8,
             "#7fbc41"
            ],
            [
             0.9,
             "#4d9221"
            ],
            [
             1,
             "#276419"
            ]
           ],
           "sequential": [
            [
             0,
             "#0d0887"
            ],
            [
             0.1111111111111111,
             "#46039f"
            ],
            [
             0.2222222222222222,
             "#7201a8"
            ],
            [
             0.3333333333333333,
             "#9c179e"
            ],
            [
             0.4444444444444444,
             "#bd3786"
            ],
            [
             0.5555555555555556,
             "#d8576b"
            ],
            [
             0.6666666666666666,
             "#ed7953"
            ],
            [
             0.7777777777777778,
             "#fb9f3a"
            ],
            [
             0.8888888888888888,
             "#fdca26"
            ],
            [
             1,
             "#f0f921"
            ]
           ],
           "sequentialminus": [
            [
             0,
             "#0d0887"
            ],
            [
             0.1111111111111111,
             "#46039f"
            ],
            [
             0.2222222222222222,
             "#7201a8"
            ],
            [
             0.3333333333333333,
             "#9c179e"
            ],
            [
             0.4444444444444444,
             "#bd3786"
            ],
            [
             0.5555555555555556,
             "#d8576b"
            ],
            [
             0.6666666666666666,
             "#ed7953"
            ],
            [
             0.7777777777777778,
             "#fb9f3a"
            ],
            [
             0.8888888888888888,
             "#fdca26"
            ],
            [
             1,
             "#f0f921"
            ]
           ]
          },
          "colorway": [
           "#636efa",
           "#EF553B",
           "#00cc96",
           "#ab63fa",
           "#FFA15A",
           "#19d3f3",
           "#FF6692",
           "#B6E880",
           "#FF97FF",
           "#FECB52"
          ],
          "font": {
           "color": "#2a3f5f"
          },
          "geo": {
           "bgcolor": "white",
           "lakecolor": "white",
           "landcolor": "#E5ECF6",
           "showlakes": true,
           "showland": true,
           "subunitcolor": "white"
          },
          "hoverlabel": {
           "align": "left"
          },
          "hovermode": "closest",
          "mapbox": {
           "style": "light"
          },
          "paper_bgcolor": "white",
          "plot_bgcolor": "#E5ECF6",
          "polar": {
           "angularaxis": {
            "gridcolor": "white",
            "linecolor": "white",
            "ticks": ""
           },
           "bgcolor": "#E5ECF6",
           "radialaxis": {
            "gridcolor": "white",
            "linecolor": "white",
            "ticks": ""
           }
          },
          "scene": {
           "xaxis": {
            "backgroundcolor": "#E5ECF6",
            "gridcolor": "white",
            "gridwidth": 2,
            "linecolor": "white",
            "showbackground": true,
            "ticks": "",
            "zerolinecolor": "white"
           },
           "yaxis": {
            "backgroundcolor": "#E5ECF6",
            "gridcolor": "white",
            "gridwidth": 2,
            "linecolor": "white",
            "showbackground": true,
            "ticks": "",
            "zerolinecolor": "white"
           },
           "zaxis": {
            "backgroundcolor": "#E5ECF6",
            "gridcolor": "white",
            "gridwidth": 2,
            "linecolor": "white",
            "showbackground": true,
            "ticks": "",
            "zerolinecolor": "white"
           }
          },
          "shapedefaults": {
           "line": {
            "color": "#2a3f5f"
           }
          },
          "ternary": {
           "aaxis": {
            "gridcolor": "white",
            "linecolor": "white",
            "ticks": ""
           },
           "baxis": {
            "gridcolor": "white",
            "linecolor": "white",
            "ticks": ""
           },
           "bgcolor": "#E5ECF6",
           "caxis": {
            "gridcolor": "white",
            "linecolor": "white",
            "ticks": ""
           }
          },
          "title": {
           "x": 0.05
          },
          "xaxis": {
           "automargin": true,
           "gridcolor": "white",
           "linecolor": "white",
           "ticks": "",
           "title": {
            "standoff": 15
           },
           "zerolinecolor": "white",
           "zerolinewidth": 2
          },
          "yaxis": {
           "automargin": true,
           "gridcolor": "white",
           "linecolor": "white",
           "ticks": "",
           "title": {
            "standoff": 15
           },
           "zerolinecolor": "white",
           "zerolinewidth": 2
          }
         }
        },
        "title": {
         "text": "Trading simulation plot of Univariate predictions"
        },
        "xaxis": {
         "title": {
          "text": "Date"
         }
        },
        "yaxis": {
         "title": {
          "text": "Price"
         }
        }
       }
      }
     },
     "metadata": {},
     "output_type": "display_data"
    },
    {
     "data": {
      "application/vnd.plotly.v1+json": {
       "config": {
        "linkText": "Export to plotly.com",
        "plotlyServerURL": "https://plotly.com",
        "showLink": false
       },
       "data": [
        {
         "line": {
          "color": "red",
          "width": 2
         },
         "name": "Short positions",
         "type": "scatter",
         "x": [
          "2022-01-06T00:00:00",
          "2022-01-07T00:00:00",
          null,
          "2022-01-19T00:00:00",
          "2022-01-20T00:00:00",
          null,
          "2022-01-25T00:00:00",
          "2022-01-27T00:00:00",
          null,
          "2022-01-28T00:00:00",
          "2022-02-03T00:00:00",
          null,
          "2022-02-15T00:00:00",
          "2022-02-17T00:00:00",
          null,
          "2022-02-21T00:00:00",
          "2022-02-22T00:00:00",
          null,
          "2022-02-23T00:00:00",
          "2022-02-28T00:00:00",
          null,
          "2022-03-01T00:00:00",
          "2022-03-02T00:00:00",
          null,
          "2022-03-03T00:00:00",
          "2022-03-04T00:00:00",
          null,
          "2022-03-07T00:00:00",
          "2022-03-10T00:00:00",
          null,
          "2022-03-15T00:00:00",
          "2022-03-16T00:00:00",
          null,
          "2022-03-23T00:00:00",
          "2022-03-24T00:00:00",
          null,
          "2022-04-01T00:00:00",
          "2022-04-04T00:00:00",
          null,
          "2022-04-05T00:00:00",
          "2022-04-06T00:00:00",
          null,
          "2022-04-07T00:00:00",
          "2022-04-14T00:00:00",
          null,
          "2022-04-18T00:00:00",
          "2022-04-20T00:00:00",
          null,
          "2022-04-26T00:00:00",
          "2022-04-29T00:00:00",
          null,
          "2022-05-05T00:00:00",
          "2022-05-17T00:00:00",
          null,
          "2022-05-20T00:00:00",
          "2022-05-23T00:00:00",
          null,
          "2022-05-24T00:00:00",
          "2022-05-27T00:00:00",
          null,
          "2022-06-01T00:00:00",
          "2022-06-02T00:00:00",
          null,
          "2022-06-03T00:00:00",
          "2022-06-06T00:00:00",
          null,
          "2022-06-07T00:00:00",
          "2022-06-08T00:00:00",
          null,
          "2022-06-09T00:00:00",
          "2022-06-20T00:00:00",
          null,
          "2022-06-21T00:00:00",
          "2022-06-22T00:00:00",
          null,
          "2022-06-23T00:00:00",
          "2022-06-27T00:00:00",
          null,
          "2022-06-30T00:00:00",
          "2022-07-05T00:00:00",
          null,
          "2022-07-06T00:00:00",
          "2022-07-08T00:00:00",
          null,
          "2022-07-14T00:00:00",
          "2022-07-18T00:00:00",
          null,
          "2022-07-22T00:00:00",
          "2022-07-25T00:00:00",
          null,
          "2022-07-26T00:00:00",
          "2022-07-27T00:00:00",
          null,
          "2022-08-01T00:00:00",
          "2022-08-02T00:00:00",
          null,
          "2022-08-03T00:00:00",
          "2022-08-04T00:00:00",
          null,
          "2022-08-10T00:00:00",
          "2022-08-11T00:00:00",
          null,
          "2022-08-15T00:00:00",
          "2022-08-18T00:00:00",
          null,
          "2022-08-22T00:00:00",
          "2022-08-23T00:00:00",
          null,
          "2022-08-24T00:00:00",
          "2022-08-26T00:00:00",
          null,
          "2022-08-30T00:00:00",
          "2022-08-31T00:00:00",
          null,
          "2022-09-01T00:00:00",
          "2022-09-06T00:00:00",
          null,
          "2022-09-08T00:00:00",
          "2022-09-09T00:00:00",
          null,
          "2022-09-15T00:00:00",
          "2022-09-16T00:00:00",
          null,
          "2022-09-19T00:00:00",
          "2022-09-21T00:00:00",
          null,
          "2022-09-22T00:00:00",
          "2022-10-03T00:00:00",
          null,
          "2022-10-04T00:00:00",
          "2022-10-05T00:00:00",
          null,
          "2022-10-10T00:00:00",
          "2022-10-19T00:00:00",
          null,
          "2022-10-20T00:00:00",
          "2022-10-21T00:00:00",
          null,
          "2022-10-25T00:00:00",
          "2022-10-26T00:00:00",
          null,
          "2022-11-04T00:00:00",
          "2022-11-07T00:00:00",
          null,
          "2022-11-17T00:00:00",
          "2022-11-18T00:00:00",
          null,
          "2022-11-21T00:00:00",
          "2022-11-23T00:00:00",
          null,
          "2022-11-24T00:00:00",
          "2022-11-30T00:00:00",
          null,
          "2022-12-05T00:00:00",
          "2022-12-06T00:00:00",
          null,
          "2022-12-07T00:00:00",
          "2022-12-09T00:00:00",
          null,
          "2022-12-13T00:00:00",
          "2022-12-14T00:00:00",
          null,
          "2022-12-16T00:00:00",
          "2022-12-20T00:00:00",
          null,
          "2022-12-21T00:00:00",
          "2022-12-22T00:00:00",
          null,
          "2022-12-27T00:00:00",
          "2022-12-28T00:00:00",
          null,
          "2022-12-30T00:00:00"
         ],
         "y": [
          3184.300048828125,
          3205.260009765625,
          null,
          3283.93994140625,
          3294.820068359375,
          null,
          3247.760009765625,
          3260.030029296875,
          null,
          3246.330078125,
          3315.989990234375,
          null,
          3421.3798828125,
          3441.570068359375,
          null,
          3436.360107421875,
          3400.580078125,
          null,
          3393,
          3242.239990234375,
          null,
          3278.6298828125,
          3244.39990234375,
          null,
          3253.64990234375,
          3226.780029296875,
          null,
          3187.820068359375,
          3240.72998046875,
          null,
          3236.0400390625,
          3290.89990234375,
          null,
          3364.260009765625,
          3399.699951171875,
          null,
          3419.110107421875,
          3416.969970703125,
          null,
          3445.010009765625,
          3422.949951171875,
          null,
          3404.22998046875,
          3335.85009765625,
          null,
          3303.070068359375,
          3335.320068359375,
          null,
          3322.050048828125,
          3356.89990234375,
          null,
          3343.570068359375,
          3201.889892578125,
          null,
          3240.580078125,
          3213.64990234375,
          null,
          3195.0400390625,
          3230.550048828125,
          null,
          3244,
          3226.719970703125,
          null,
          3231.969970703125,
          3226.6298828125,
          null,
          3231.5400390625,
          3225.800048828125,
          null,
          3209.6201171875,
          3096.39990234375,
          null,
          3117.47998046875,
          3093.31005859375,
          null,
          3092.800048828125,
          3137.5400390625,
          null,
          3102.2099609375,
          3104.110107421875,
          null,
          3103.659912109375,
          3131.260009765625,
          null,
          3090.6298828125,
          3121.760009765625,
          null,
          3181.340087890625,
          3180.469970703125,
          null,
          3192.1201171875,
          3205.139892578125,
          null,
          3238.75,
          3239.14990234375,
          null,
          3252.06005859375,
          3269.860107421875,
          null,
          3286.330078125,
          3301.9599609375,
          null,
          3256.820068359375,
          3273.47998046875,
          null,
          3262.570068359375,
          3246.2099609375,
          null,
          3233.47998046875,
          3249.530029296875,
          null,
          3239.330078125,
          3221.669921875,
          null,
          3224.080078125,
          3224.179931640625,
          null,
          3233.610107421875,
          3262.949951171875,
          null,
          3267.97998046875,
          3268.2900390625,
          null,
          3256.31005859375,
          3261.7900390625,
          null,
          3263.070068359375,
          3107.090087890625,
          null,
          3138.89990234375,
          3153.22998046875,
          null,
          3107.469970703125,
          3022.800048828125,
          null,
          3022.699951171875,
          2969.949951171875,
          null,
          2984.14990234375,
          3008.3798828125,
          null,
          3130.110107421875,
          3141.31005859375,
          null,
          3286.0400390625,
          3272.22998046875,
          null,
          3250.6201171875,
          3255.989990234375,
          null,
          3252.8798828125,
          3290.489990234375,
          null,
          3267.5400390625,
          3252.3701171875,
          null,
          3225.449951171875,
          3245.969970703125,
          null,
          3271.280029296875,
          3278.570068359375,
          null,
          3240.81005859375,
          3253.969970703125,
          null,
          3256.18994140625,
          3269.530029296875,
          null,
          3266.3798828125,
          3266.969970703125,
          null,
          3251.320068359375
         ]
        },
        {
         "line": {
          "color": "blue",
          "width": 2
         },
         "name": "Long positions",
         "type": "scatter",
         "x": [
          "2022-01-04T00:00:00",
          "2022-01-06T00:00:00",
          null,
          "2022-01-07T00:00:00",
          "2022-01-19T00:00:00",
          null,
          "2022-01-20T00:00:00",
          "2022-01-25T00:00:00",
          null,
          "2022-01-27T00:00:00",
          "2022-01-28T00:00:00",
          null,
          "2022-02-03T00:00:00",
          "2022-02-15T00:00:00",
          null,
          "2022-02-17T00:00:00",
          "2022-02-21T00:00:00",
          null,
          "2022-02-22T00:00:00",
          "2022-02-23T00:00:00",
          null,
          "2022-02-28T00:00:00",
          "2022-03-01T00:00:00",
          null,
          "2022-03-02T00:00:00",
          "2022-03-03T00:00:00",
          null,
          "2022-03-04T00:00:00",
          "2022-03-07T00:00:00",
          null,
          "2022-03-10T00:00:00",
          "2022-03-15T00:00:00",
          null,
          "2022-03-16T00:00:00",
          "2022-03-23T00:00:00",
          null,
          "2022-03-24T00:00:00",
          "2022-04-01T00:00:00",
          null,
          "2022-04-04T00:00:00",
          "2022-04-05T00:00:00",
          null,
          "2022-04-06T00:00:00",
          "2022-04-07T00:00:00",
          null,
          "2022-04-14T00:00:00",
          "2022-04-18T00:00:00",
          null,
          "2022-04-20T00:00:00",
          "2022-04-26T00:00:00",
          null,
          "2022-04-29T00:00:00",
          "2022-05-05T00:00:00",
          null,
          "2022-05-17T00:00:00",
          "2022-05-20T00:00:00",
          null,
          "2022-05-23T00:00:00",
          "2022-05-24T00:00:00",
          null,
          "2022-05-27T00:00:00",
          "2022-06-01T00:00:00",
          null,
          "2022-06-02T00:00:00",
          "2022-06-03T00:00:00",
          null,
          "2022-06-06T00:00:00",
          "2022-06-07T00:00:00",
          null,
          "2022-06-08T00:00:00",
          "2022-06-09T00:00:00",
          null,
          "2022-06-20T00:00:00",
          "2022-06-21T00:00:00",
          null,
          "2022-06-22T00:00:00",
          "2022-06-23T00:00:00",
          null,
          "2022-06-27T00:00:00",
          "2022-06-30T00:00:00",
          null,
          "2022-07-05T00:00:00",
          "2022-07-06T00:00:00",
          null,
          "2022-07-08T00:00:00",
          "2022-07-14T00:00:00",
          null,
          "2022-07-18T00:00:00",
          "2022-07-22T00:00:00",
          null,
          "2022-07-25T00:00:00",
          "2022-07-26T00:00:00",
          null,
          "2022-07-27T00:00:00",
          "2022-08-01T00:00:00",
          null,
          "2022-08-02T00:00:00",
          "2022-08-03T00:00:00",
          null,
          "2022-08-04T00:00:00",
          "2022-08-10T00:00:00",
          null,
          "2022-08-11T00:00:00",
          "2022-08-15T00:00:00",
          null,
          "2022-08-18T00:00:00",
          "2022-08-22T00:00:00",
          null,
          "2022-08-23T00:00:00",
          "2022-08-24T00:00:00",
          null,
          "2022-08-26T00:00:00",
          "2022-08-30T00:00:00",
          null,
          "2022-08-31T00:00:00",
          "2022-09-01T00:00:00",
          null,
          "2022-09-06T00:00:00",
          "2022-09-08T00:00:00",
          null,
          "2022-09-09T00:00:00",
          "2022-09-15T00:00:00",
          null,
          "2022-09-16T00:00:00",
          "2022-09-19T00:00:00",
          null,
          "2022-09-21T00:00:00",
          "2022-09-22T00:00:00",
          null,
          "2022-10-03T00:00:00",
          "2022-10-04T00:00:00",
          null,
          "2022-10-05T00:00:00",
          "2022-10-10T00:00:00",
          null,
          "2022-10-19T00:00:00",
          "2022-10-20T00:00:00",
          null,
          "2022-10-21T00:00:00",
          "2022-10-25T00:00:00",
          null,
          "2022-10-26T00:00:00",
          "2022-11-04T00:00:00",
          null,
          "2022-11-07T00:00:00",
          "2022-11-17T00:00:00",
          null,
          "2022-11-18T00:00:00",
          "2022-11-21T00:00:00",
          null,
          "2022-11-23T00:00:00",
          "2022-11-24T00:00:00",
          null,
          "2022-11-30T00:00:00",
          "2022-12-05T00:00:00",
          null,
          "2022-12-06T00:00:00",
          "2022-12-07T00:00:00",
          null,
          "2022-12-09T00:00:00",
          "2022-12-13T00:00:00",
          null,
          "2022-12-14T00:00:00",
          "2022-12-16T00:00:00",
          null,
          "2022-12-20T00:00:00",
          "2022-12-21T00:00:00",
          null,
          "2022-12-22T00:00:00",
          "2022-12-27T00:00:00",
          null,
          "2022-12-28T00:00:00",
          "2022-12-30T00:00:00",
          null
         ],
         "y": [
          3181.1298828125,
          3184.300048828125,
          null,
          3205.260009765625,
          3283.93994140625,
          null,
          3294.820068359375,
          3247.760009765625,
          null,
          3260.030029296875,
          3246.330078125,
          null,
          3315.989990234375,
          3421.3798828125,
          null,
          3441.570068359375,
          3436.360107421875,
          null,
          3400.580078125,
          3393,
          null,
          3242.239990234375,
          3278.6298828125,
          null,
          3244.39990234375,
          3253.64990234375,
          null,
          3226.780029296875,
          3187.820068359375,
          null,
          3240.72998046875,
          3236.0400390625,
          null,
          3290.89990234375,
          3364.260009765625,
          null,
          3399.699951171875,
          3419.110107421875,
          null,
          3416.969970703125,
          3445.010009765625,
          null,
          3422.949951171875,
          3404.22998046875,
          null,
          3335.85009765625,
          3303.070068359375,
          null,
          3335.320068359375,
          3322.050048828125,
          null,
          3356.89990234375,
          3343.570068359375,
          null,
          3201.889892578125,
          3240.580078125,
          null,
          3213.64990234375,
          3195.0400390625,
          null,
          3230.550048828125,
          3244,
          null,
          3226.719970703125,
          3231.969970703125,
          null,
          3226.6298828125,
          3231.5400390625,
          null,
          3225.800048828125,
          3209.6201171875,
          null,
          3096.39990234375,
          3117.47998046875,
          null,
          3093.31005859375,
          3092.800048828125,
          null,
          3137.5400390625,
          3102.2099609375,
          null,
          3104.110107421875,
          3103.659912109375,
          null,
          3131.260009765625,
          3090.6298828125,
          null,
          3121.760009765625,
          3181.340087890625,
          null,
          3180.469970703125,
          3192.1201171875,
          null,
          3205.139892578125,
          3238.75,
          null,
          3239.14990234375,
          3252.06005859375,
          null,
          3269.860107421875,
          3286.330078125,
          null,
          3301.9599609375,
          3256.820068359375,
          null,
          3273.47998046875,
          3262.570068359375,
          null,
          3246.2099609375,
          3233.47998046875,
          null,
          3249.530029296875,
          3239.330078125,
          null,
          3221.669921875,
          3224.080078125,
          null,
          3224.179931640625,
          3233.610107421875,
          null,
          3262.949951171875,
          3267.97998046875,
          null,
          3268.2900390625,
          3256.31005859375,
          null,
          3261.7900390625,
          3263.070068359375,
          null,
          3107.090087890625,
          3138.89990234375,
          null,
          3153.22998046875,
          3107.469970703125,
          null,
          3022.800048828125,
          3022.699951171875,
          null,
          2969.949951171875,
          2984.14990234375,
          null,
          3008.3798828125,
          3130.110107421875,
          null,
          3141.31005859375,
          3286.0400390625,
          null,
          3272.22998046875,
          3250.6201171875,
          null,
          3255.989990234375,
          3252.8798828125,
          null,
          3290.489990234375,
          3267.5400390625,
          null,
          3252.3701171875,
          3225.449951171875,
          null,
          3245.969970703125,
          3271.280029296875,
          null,
          3278.570068359375,
          3240.81005859375,
          null,
          3253.969970703125,
          3256.18994140625,
          null,
          3269.530029296875,
          3266.3798828125,
          null,
          3266.969970703125,
          3251.320068359375,
          null
         ]
        },
        {
         "line": {
          "color": "green",
          "width": 1
         },
         "name": "Closing price",
         "type": "scatter",
         "x": [
          "2022-01-04T00:00:00",
          "2022-01-05T00:00:00",
          "2022-01-06T00:00:00",
          "2022-01-07T00:00:00",
          "2022-01-10T00:00:00",
          "2022-01-11T00:00:00",
          "2022-01-12T00:00:00",
          "2022-01-13T00:00:00",
          "2022-01-14T00:00:00",
          "2022-01-17T00:00:00",
          "2022-01-18T00:00:00",
          "2022-01-19T00:00:00",
          "2022-01-20T00:00:00",
          "2022-01-21T00:00:00",
          "2022-01-24T00:00:00",
          "2022-01-25T00:00:00",
          "2022-01-26T00:00:00",
          "2022-01-27T00:00:00",
          "2022-01-28T00:00:00",
          "2022-01-31T00:00:00",
          "2022-02-03T00:00:00",
          "2022-02-04T00:00:00",
          "2022-02-07T00:00:00",
          "2022-02-08T00:00:00",
          "2022-02-09T00:00:00",
          "2022-02-10T00:00:00",
          "2022-02-11T00:00:00",
          "2022-02-14T00:00:00",
          "2022-02-15T00:00:00",
          "2022-02-16T00:00:00",
          "2022-02-17T00:00:00",
          "2022-02-18T00:00:00",
          "2022-02-21T00:00:00",
          "2022-02-22T00:00:00",
          "2022-02-23T00:00:00",
          "2022-02-24T00:00:00",
          "2022-02-25T00:00:00",
          "2022-02-28T00:00:00",
          "2022-03-01T00:00:00",
          "2022-03-02T00:00:00",
          "2022-03-03T00:00:00",
          "2022-03-04T00:00:00",
          "2022-03-07T00:00:00",
          "2022-03-08T00:00:00",
          "2022-03-09T00:00:00",
          "2022-03-10T00:00:00",
          "2022-03-11T00:00:00",
          "2022-03-14T00:00:00",
          "2022-03-15T00:00:00",
          "2022-03-16T00:00:00",
          "2022-03-17T00:00:00",
          "2022-03-18T00:00:00",
          "2022-03-21T00:00:00",
          "2022-03-22T00:00:00",
          "2022-03-23T00:00:00",
          "2022-03-24T00:00:00",
          "2022-03-25T00:00:00",
          "2022-03-28T00:00:00",
          "2022-03-29T00:00:00",
          "2022-03-30T00:00:00",
          "2022-03-31T00:00:00",
          "2022-04-01T00:00:00",
          "2022-04-04T00:00:00",
          "2022-04-05T00:00:00",
          "2022-04-06T00:00:00",
          "2022-04-07T00:00:00",
          "2022-04-08T00:00:00",
          "2022-04-11T00:00:00",
          "2022-04-12T00:00:00",
          "2022-04-13T00:00:00",
          "2022-04-14T00:00:00",
          "2022-04-18T00:00:00",
          "2022-04-19T00:00:00",
          "2022-04-20T00:00:00",
          "2022-04-21T00:00:00",
          "2022-04-22T00:00:00",
          "2022-04-25T00:00:00",
          "2022-04-26T00:00:00",
          "2022-04-27T00:00:00",
          "2022-04-28T00:00:00",
          "2022-04-29T00:00:00",
          "2022-05-04T00:00:00",
          "2022-05-05T00:00:00",
          "2022-05-06T00:00:00",
          "2022-05-09T00:00:00",
          "2022-05-10T00:00:00",
          "2022-05-11T00:00:00",
          "2022-05-12T00:00:00",
          "2022-05-13T00:00:00",
          "2022-05-17T00:00:00",
          "2022-05-18T00:00:00",
          "2022-05-19T00:00:00",
          "2022-05-20T00:00:00",
          "2022-05-23T00:00:00",
          "2022-05-24T00:00:00",
          "2022-05-25T00:00:00",
          "2022-05-26T00:00:00",
          "2022-05-27T00:00:00",
          "2022-05-30T00:00:00",
          "2022-05-31T00:00:00",
          "2022-06-01T00:00:00",
          "2022-06-02T00:00:00",
          "2022-06-03T00:00:00",
          "2022-06-06T00:00:00",
          "2022-06-07T00:00:00",
          "2022-06-08T00:00:00",
          "2022-06-09T00:00:00",
          "2022-06-10T00:00:00",
          "2022-06-13T00:00:00",
          "2022-06-14T00:00:00",
          "2022-06-15T00:00:00",
          "2022-06-16T00:00:00",
          "2022-06-17T00:00:00",
          "2022-06-20T00:00:00",
          "2022-06-21T00:00:00",
          "2022-06-22T00:00:00",
          "2022-06-23T00:00:00",
          "2022-06-24T00:00:00",
          "2022-06-27T00:00:00",
          "2022-06-28T00:00:00",
          "2022-06-29T00:00:00",
          "2022-06-30T00:00:00",
          "2022-07-01T00:00:00",
          "2022-07-04T00:00:00",
          "2022-07-05T00:00:00",
          "2022-07-06T00:00:00",
          "2022-07-07T00:00:00",
          "2022-07-08T00:00:00",
          "2022-07-12T00:00:00",
          "2022-07-13T00:00:00",
          "2022-07-14T00:00:00",
          "2022-07-15T00:00:00",
          "2022-07-18T00:00:00",
          "2022-07-19T00:00:00",
          "2022-07-20T00:00:00",
          "2022-07-21T00:00:00",
          "2022-07-22T00:00:00",
          "2022-07-25T00:00:00",
          "2022-07-26T00:00:00",
          "2022-07-27T00:00:00",
          "2022-07-28T00:00:00",
          "2022-07-29T00:00:00",
          "2022-08-01T00:00:00",
          "2022-08-02T00:00:00",
          "2022-08-03T00:00:00",
          "2022-08-04T00:00:00",
          "2022-08-05T00:00:00",
          "2022-08-08T00:00:00",
          "2022-08-10T00:00:00",
          "2022-08-11T00:00:00",
          "2022-08-12T00:00:00",
          "2022-08-15T00:00:00",
          "2022-08-16T00:00:00",
          "2022-08-17T00:00:00",
          "2022-08-18T00:00:00",
          "2022-08-19T00:00:00",
          "2022-08-22T00:00:00",
          "2022-08-23T00:00:00",
          "2022-08-24T00:00:00",
          "2022-08-25T00:00:00",
          "2022-08-26T00:00:00",
          "2022-08-29T00:00:00",
          "2022-08-30T00:00:00",
          "2022-08-31T00:00:00",
          "2022-09-01T00:00:00",
          "2022-09-02T00:00:00",
          "2022-09-05T00:00:00",
          "2022-09-06T00:00:00",
          "2022-09-07T00:00:00",
          "2022-09-08T00:00:00",
          "2022-09-09T00:00:00",
          "2022-09-12T00:00:00",
          "2022-09-13T00:00:00",
          "2022-09-14T00:00:00",
          "2022-09-15T00:00:00",
          "2022-09-16T00:00:00",
          "2022-09-19T00:00:00",
          "2022-09-20T00:00:00",
          "2022-09-21T00:00:00",
          "2022-09-22T00:00:00",
          "2022-09-23T00:00:00",
          "2022-09-26T00:00:00",
          "2022-09-27T00:00:00",
          "2022-09-28T00:00:00",
          "2022-09-29T00:00:00",
          "2022-09-30T00:00:00",
          "2022-10-03T00:00:00",
          "2022-10-04T00:00:00",
          "2022-10-05T00:00:00",
          "2022-10-06T00:00:00",
          "2022-10-07T00:00:00",
          "2022-10-10T00:00:00",
          "2022-10-11T00:00:00",
          "2022-10-12T00:00:00",
          "2022-10-13T00:00:00",
          "2022-10-14T00:00:00",
          "2022-10-17T00:00:00",
          "2022-10-18T00:00:00",
          "2022-10-19T00:00:00",
          "2022-10-20T00:00:00",
          "2022-10-21T00:00:00",
          "2022-10-25T00:00:00",
          "2022-10-26T00:00:00",
          "2022-10-27T00:00:00",
          "2022-10-28T00:00:00",
          "2022-10-31T00:00:00",
          "2022-11-01T00:00:00",
          "2022-11-02T00:00:00",
          "2022-11-03T00:00:00",
          "2022-11-04T00:00:00",
          "2022-11-07T00:00:00",
          "2022-11-08T00:00:00",
          "2022-11-09T00:00:00",
          "2022-11-10T00:00:00",
          "2022-11-11T00:00:00",
          "2022-11-14T00:00:00",
          "2022-11-15T00:00:00",
          "2022-11-16T00:00:00",
          "2022-11-17T00:00:00",
          "2022-11-18T00:00:00",
          "2022-11-21T00:00:00",
          "2022-11-22T00:00:00",
          "2022-11-23T00:00:00",
          "2022-11-24T00:00:00",
          "2022-11-25T00:00:00",
          "2022-11-28T00:00:00",
          "2022-11-29T00:00:00",
          "2022-11-30T00:00:00",
          "2022-12-01T00:00:00",
          "2022-12-02T00:00:00",
          "2022-12-05T00:00:00",
          "2022-12-06T00:00:00",
          "2022-12-07T00:00:00",
          "2022-12-08T00:00:00",
          "2022-12-09T00:00:00",
          "2022-12-12T00:00:00",
          "2022-12-13T00:00:00",
          "2022-12-14T00:00:00",
          "2022-12-15T00:00:00",
          "2022-12-16T00:00:00",
          "2022-12-19T00:00:00",
          "2022-12-20T00:00:00",
          "2022-12-21T00:00:00",
          "2022-12-22T00:00:00",
          "2022-12-23T00:00:00",
          "2022-12-27T00:00:00",
          "2022-12-28T00:00:00",
          "2022-12-29T00:00:00",
          "2022-12-30T00:00:00"
         ],
         "y": [
          3181.1298828125,
          3163.43994140625,
          3184.300048828125,
          3205.260009765625,
          3227.050048828125,
          3246.3701171875,
          3254.97998046875,
          3257.300048828125,
          3281.969970703125,
          3287.949951171875,
          3280.0400390625,
          3283.93994140625,
          3294.820068359375,
          3294.860107421875,
          3283.35009765625,
          3247.760009765625,
          3271.570068359375,
          3260.030029296875,
          3246.330078125,
          3249.590087890625,
          3315.989990234375,
          3331.409912109375,
          3366.47998046875,
          3401.739990234375,
          3420.0400390625,
          3428,
          3428.949951171875,
          3421.199951171875,
          3421.3798828125,
          3439.300048828125,
          3441.570068359375,
          3428.89990234375,
          3436.360107421875,
          3400.580078125,
          3393,
          3276.06005859375,
          3294.469970703125,
          3242.239990234375,
          3278.6298828125,
          3244.39990234375,
          3253.64990234375,
          3226.780029296875,
          3187.820068359375,
          3148.860107421875,
          3195.3798828125,
          3240.72998046875,
          3249.659912109375,
          3232.030029296875,
          3236.0400390625,
          3290.89990234375,
          3322.7099609375,
          3330.6298828125,
          3355.510009765625,
          3350.169921875,
          3364.260009765625,
          3399.699951171875,
          3413.68994140625,
          3431.989990234375,
          3433.89990234375,
          3442.610107421875,
          3408.52001953125,
          3419.110107421875,
          3416.969970703125,
          3445.010009765625,
          3422.949951171875,
          3404.22998046875,
          3383.280029296875,
          3363.56005859375,
          3330.25,
          3342.219970703125,
          3335.85009765625,
          3303.070068359375,
          3307.1298828125,
          3335.320068359375,
          3348.4599609375,
          3361.110107421875,
          3339.590087890625,
          3322.050048828125,
          3320.669921875,
          3335.090087890625,
          3356.89990234375,
          3349.27001953125,
          3343.570068359375,
          3291.889892578125,
          3275.070068359375,
          3234.18994140625,
          3226.070068359375,
          3165.179931640625,
          3191.159912109375,
          3201.889892578125,
          3225.35009765625,
          3190.7099609375,
          3240.580078125,
          3213.64990234375,
          3195.0400390625,
          3179.580078125,
          3209.179931640625,
          3230.550048828125,
          3238.919921875,
          3232.489990234375,
          3244,
          3226.719970703125,
          3231.969970703125,
          3226.6298828125,
          3231.5400390625,
          3225.800048828125,
          3209.6201171875,
          3181.72998046875,
          3139.35009765625,
          3108.889892578125,
          3105.85009765625,
          3097.429931640625,
          3098.090087890625,
          3096.39990234375,
          3117.47998046875,
          3093.31005859375,
          3092.800048828125,
          3111.64990234375,
          3137.5400390625,
          3140.2099609375,
          3134.8701171875,
          3102.2099609375,
          3095.590087890625,
          3120.239990234375,
          3104.110107421875,
          3103.659912109375,
          3129.39990234375,
          3131.260009765625,
          3145.77001953125,
          3128.68994140625,
          3090.6298828125,
          3099.14990234375,
          3121.760009765625,
          3117.7900390625,
          3170.2900390625,
          3152.300048828125,
          3181.340087890625,
          3180.469970703125,
          3192.1201171875,
          3205.139892578125,
          3220.64990234375,
          3211.56005859375,
          3238.75,
          3239.14990234375,
          3252.06005859375,
          3269.860107421875,
          3282.8798828125,
          3270.97998046875,
          3286.330078125,
          3301.9599609375,
          3269.27001953125,
          3256.820068359375,
          3253.7900390625,
          3262.760009765625,
          3273.47998046875,
          3246.510009765625,
          3262.570068359375,
          3246.2099609375,
          3233.47998046875,
          3247.800048828125,
          3249.530029296875,
          3222.260009765625,
          3239.330078125,
          3221.669921875,
          3224.080078125,
          3205.68994140625,
          3215.47998046875,
          3224.179931640625,
          3210.830078125,
          3233.610107421875,
          3262.949951171875,
          3274.719970703125,
          3290.080078125,
          3258.02001953125,
          3267.97998046875,
          3268.2900390625,
          3256.31005859375,
          3266.93994140625,
          3261.7900390625,
          3263.070068359375,
          3227.10009765625,
          3181.969970703125,
          3165.5,
          3116.31005859375,
          3115.080078125,
          3130.239990234375,
          3107.090087890625,
          3138.89990234375,
          3153.22998046875,
          3151.56005859375,
          3145.81005859375,
          3107.469970703125,
          3105,
          3083.18994140625,
          3040.449951171875,
          3039.610107421875,
          3015.75,
          3025.8798828125,
          3022.800048828125,
          3022.699951171875,
          2969.949951171875,
          2984.14990234375,
          3008.3798828125,
          3015.239990234375,
          3059.18994140625,
          3093.110107421875,
          3130.5,
          3141.1298828125,
          3102.510009765625,
          3130.110107421875,
          3141.31005859375,
          3145.830078125,
          3165.5,
          3173.179931640625,
          3228.330078125,
          3260.800048828125,
          3275.280029296875,
          3266.169921875,
          3286.0400390625,
          3272.22998046875,
          3250.6201171875,
          3259.56005859375,
          3255.989990234375,
          3252.8798828125,
          3244.550048828125,
          3240.06005859375,
          3276.360107421875,
          3290.489990234375,
          3292.72998046875,
          3259.139892578125,
          3267.5400390625,
          3252.3701171875,
          3225.449951171875,
          3236.080078125,
          3245.969970703125,
          3239.659912109375,
          3271.280029296875,
          3278.570068359375,
          3273.75,
          3240.81005859375,
          3256.610107421875,
          3253.969970703125,
          3256.18994140625,
          3269.530029296875,
          3257.699951171875,
          3266.3798828125,
          3266.969970703125,
          3249.239990234375,
          3251.320068359375
         ]
        }
       ],
       "layout": {
        "font": {
         "size": 18
        },
        "template": {
         "data": {
          "bar": [
           {
            "error_x": {
             "color": "#2a3f5f"
            },
            "error_y": {
             "color": "#2a3f5f"
            },
            "marker": {
             "line": {
              "color": "#E5ECF6",
              "width": 0.5
             },
             "pattern": {
              "fillmode": "overlay",
              "size": 10,
              "solidity": 0.2
             }
            },
            "type": "bar"
           }
          ],
          "barpolar": [
           {
            "marker": {
             "line": {
              "color": "#E5ECF6",
              "width": 0.5
             },
             "pattern": {
              "fillmode": "overlay",
              "size": 10,
              "solidity": 0.2
             }
            },
            "type": "barpolar"
           }
          ],
          "carpet": [
           {
            "aaxis": {
             "endlinecolor": "#2a3f5f",
             "gridcolor": "white",
             "linecolor": "white",
             "minorgridcolor": "white",
             "startlinecolor": "#2a3f5f"
            },
            "baxis": {
             "endlinecolor": "#2a3f5f",
             "gridcolor": "white",
             "linecolor": "white",
             "minorgridcolor": "white",
             "startlinecolor": "#2a3f5f"
            },
            "type": "carpet"
           }
          ],
          "choropleth": [
           {
            "colorbar": {
             "outlinewidth": 0,
             "ticks": ""
            },
            "type": "choropleth"
           }
          ],
          "contour": [
           {
            "colorbar": {
             "outlinewidth": 0,
             "ticks": ""
            },
            "colorscale": [
             [
              0,
              "#0d0887"
             ],
             [
              0.1111111111111111,
              "#46039f"
             ],
             [
              0.2222222222222222,
              "#7201a8"
             ],
             [
              0.3333333333333333,
              "#9c179e"
             ],
             [
              0.4444444444444444,
              "#bd3786"
             ],
             [
              0.5555555555555556,
              "#d8576b"
             ],
             [
              0.6666666666666666,
              "#ed7953"
             ],
             [
              0.7777777777777778,
              "#fb9f3a"
             ],
             [
              0.8888888888888888,
              "#fdca26"
             ],
             [
              1,
              "#f0f921"
             ]
            ],
            "type": "contour"
           }
          ],
          "contourcarpet": [
           {
            "colorbar": {
             "outlinewidth": 0,
             "ticks": ""
            },
            "type": "contourcarpet"
           }
          ],
          "heatmap": [
           {
            "colorbar": {
             "outlinewidth": 0,
             "ticks": ""
            },
            "colorscale": [
             [
              0,
              "#0d0887"
             ],
             [
              0.1111111111111111,
              "#46039f"
             ],
             [
              0.2222222222222222,
              "#7201a8"
             ],
             [
              0.3333333333333333,
              "#9c179e"
             ],
             [
              0.4444444444444444,
              "#bd3786"
             ],
             [
              0.5555555555555556,
              "#d8576b"
             ],
             [
              0.6666666666666666,
              "#ed7953"
             ],
             [
              0.7777777777777778,
              "#fb9f3a"
             ],
             [
              0.8888888888888888,
              "#fdca26"
             ],
             [
              1,
              "#f0f921"
             ]
            ],
            "type": "heatmap"
           }
          ],
          "heatmapgl": [
           {
            "colorbar": {
             "outlinewidth": 0,
             "ticks": ""
            },
            "colorscale": [
             [
              0,
              "#0d0887"
             ],
             [
              0.1111111111111111,
              "#46039f"
             ],
             [
              0.2222222222222222,
              "#7201a8"
             ],
             [
              0.3333333333333333,
              "#9c179e"
             ],
             [
              0.4444444444444444,
              "#bd3786"
             ],
             [
              0.5555555555555556,
              "#d8576b"
             ],
             [
              0.6666666666666666,
              "#ed7953"
             ],
             [
              0.7777777777777778,
              "#fb9f3a"
             ],
             [
              0.8888888888888888,
              "#fdca26"
             ],
             [
              1,
              "#f0f921"
             ]
            ],
            "type": "heatmapgl"
           }
          ],
          "histogram": [
           {
            "marker": {
             "pattern": {
              "fillmode": "overlay",
              "size": 10,
              "solidity": 0.2
             }
            },
            "type": "histogram"
           }
          ],
          "histogram2d": [
           {
            "colorbar": {
             "outlinewidth": 0,
             "ticks": ""
            },
            "colorscale": [
             [
              0,
              "#0d0887"
             ],
             [
              0.1111111111111111,
              "#46039f"
             ],
             [
              0.2222222222222222,
              "#7201a8"
             ],
             [
              0.3333333333333333,
              "#9c179e"
             ],
             [
              0.4444444444444444,
              "#bd3786"
             ],
             [
              0.5555555555555556,
              "#d8576b"
             ],
             [
              0.6666666666666666,
              "#ed7953"
             ],
             [
              0.7777777777777778,
              "#fb9f3a"
             ],
             [
              0.8888888888888888,
              "#fdca26"
             ],
             [
              1,
              "#f0f921"
             ]
            ],
            "type": "histogram2d"
           }
          ],
          "histogram2dcontour": [
           {
            "colorbar": {
             "outlinewidth": 0,
             "ticks": ""
            },
            "colorscale": [
             [
              0,
              "#0d0887"
             ],
             [
              0.1111111111111111,
              "#46039f"
             ],
             [
              0.2222222222222222,
              "#7201a8"
             ],
             [
              0.3333333333333333,
              "#9c179e"
             ],
             [
              0.4444444444444444,
              "#bd3786"
             ],
             [
              0.5555555555555556,
              "#d8576b"
             ],
             [
              0.6666666666666666,
              "#ed7953"
             ],
             [
              0.7777777777777778,
              "#fb9f3a"
             ],
             [
              0.8888888888888888,
              "#fdca26"
             ],
             [
              1,
              "#f0f921"
             ]
            ],
            "type": "histogram2dcontour"
           }
          ],
          "mesh3d": [
           {
            "colorbar": {
             "outlinewidth": 0,
             "ticks": ""
            },
            "type": "mesh3d"
           }
          ],
          "parcoords": [
           {
            "line": {
             "colorbar": {
              "outlinewidth": 0,
              "ticks": ""
             }
            },
            "type": "parcoords"
           }
          ],
          "pie": [
           {
            "automargin": true,
            "type": "pie"
           }
          ],
          "scatter": [
           {
            "fillpattern": {
             "fillmode": "overlay",
             "size": 10,
             "solidity": 0.2
            },
            "type": "scatter"
           }
          ],
          "scatter3d": [
           {
            "line": {
             "colorbar": {
              "outlinewidth": 0,
              "ticks": ""
             }
            },
            "marker": {
             "colorbar": {
              "outlinewidth": 0,
              "ticks": ""
             }
            },
            "type": "scatter3d"
           }
          ],
          "scattercarpet": [
           {
            "marker": {
             "colorbar": {
              "outlinewidth": 0,
              "ticks": ""
             }
            },
            "type": "scattercarpet"
           }
          ],
          "scattergeo": [
           {
            "marker": {
             "colorbar": {
              "outlinewidth": 0,
              "ticks": ""
             }
            },
            "type": "scattergeo"
           }
          ],
          "scattergl": [
           {
            "marker": {
             "colorbar": {
              "outlinewidth": 0,
              "ticks": ""
             }
            },
            "type": "scattergl"
           }
          ],
          "scattermapbox": [
           {
            "marker": {
             "colorbar": {
              "outlinewidth": 0,
              "ticks": ""
             }
            },
            "type": "scattermapbox"
           }
          ],
          "scatterpolar": [
           {
            "marker": {
             "colorbar": {
              "outlinewidth": 0,
              "ticks": ""
             }
            },
            "type": "scatterpolar"
           }
          ],
          "scatterpolargl": [
           {
            "marker": {
             "colorbar": {
              "outlinewidth": 0,
              "ticks": ""
             }
            },
            "type": "scatterpolargl"
           }
          ],
          "scatterternary": [
           {
            "marker": {
             "colorbar": {
              "outlinewidth": 0,
              "ticks": ""
             }
            },
            "type": "scatterternary"
           }
          ],
          "surface": [
           {
            "colorbar": {
             "outlinewidth": 0,
             "ticks": ""
            },
            "colorscale": [
             [
              0,
              "#0d0887"
             ],
             [
              0.1111111111111111,
              "#46039f"
             ],
             [
              0.2222222222222222,
              "#7201a8"
             ],
             [
              0.3333333333333333,
              "#9c179e"
             ],
             [
              0.4444444444444444,
              "#bd3786"
             ],
             [
              0.5555555555555556,
              "#d8576b"
             ],
             [
              0.6666666666666666,
              "#ed7953"
             ],
             [
              0.7777777777777778,
              "#fb9f3a"
             ],
             [
              0.8888888888888888,
              "#fdca26"
             ],
             [
              1,
              "#f0f921"
             ]
            ],
            "type": "surface"
           }
          ],
          "table": [
           {
            "cells": {
             "fill": {
              "color": "#EBF0F8"
             },
             "line": {
              "color": "white"
             }
            },
            "header": {
             "fill": {
              "color": "#C8D4E3"
             },
             "line": {
              "color": "white"
             }
            },
            "type": "table"
           }
          ]
         },
         "layout": {
          "annotationdefaults": {
           "arrowcolor": "#2a3f5f",
           "arrowhead": 0,
           "arrowwidth": 1
          },
          "autotypenumbers": "strict",
          "coloraxis": {
           "colorbar": {
            "outlinewidth": 0,
            "ticks": ""
           }
          },
          "colorscale": {
           "diverging": [
            [
             0,
             "#8e0152"
            ],
            [
             0.1,
             "#c51b7d"
            ],
            [
             0.2,
             "#de77ae"
            ],
            [
             0.3,
             "#f1b6da"
            ],
            [
             0.4,
             "#fde0ef"
            ],
            [
             0.5,
             "#f7f7f7"
            ],
            [
             0.6,
             "#e6f5d0"
            ],
            [
             0.7,
             "#b8e186"
            ],
            [
             0.8,
             "#7fbc41"
            ],
            [
             0.9,
             "#4d9221"
            ],
            [
             1,
             "#276419"
            ]
           ],
           "sequential": [
            [
             0,
             "#0d0887"
            ],
            [
             0.1111111111111111,
             "#46039f"
            ],
            [
             0.2222222222222222,
             "#7201a8"
            ],
            [
             0.3333333333333333,
             "#9c179e"
            ],
            [
             0.4444444444444444,
             "#bd3786"
            ],
            [
             0.5555555555555556,
             "#d8576b"
            ],
            [
             0.6666666666666666,
             "#ed7953"
            ],
            [
             0.7777777777777778,
             "#fb9f3a"
            ],
            [
             0.8888888888888888,
             "#fdca26"
            ],
            [
             1,
             "#f0f921"
            ]
           ],
           "sequentialminus": [
            [
             0,
             "#0d0887"
            ],
            [
             0.1111111111111111,
             "#46039f"
            ],
            [
             0.2222222222222222,
             "#7201a8"
            ],
            [
             0.3333333333333333,
             "#9c179e"
            ],
            [
             0.4444444444444444,
             "#bd3786"
            ],
            [
             0.5555555555555556,
             "#d8576b"
            ],
            [
             0.6666666666666666,
             "#ed7953"
            ],
            [
             0.7777777777777778,
             "#fb9f3a"
            ],
            [
             0.8888888888888888,
             "#fdca26"
            ],
            [
             1,
             "#f0f921"
            ]
           ]
          },
          "colorway": [
           "#636efa",
           "#EF553B",
           "#00cc96",
           "#ab63fa",
           "#FFA15A",
           "#19d3f3",
           "#FF6692",
           "#B6E880",
           "#FF97FF",
           "#FECB52"
          ],
          "font": {
           "color": "#2a3f5f"
          },
          "geo": {
           "bgcolor": "white",
           "lakecolor": "white",
           "landcolor": "#E5ECF6",
           "showlakes": true,
           "showland": true,
           "subunitcolor": "white"
          },
          "hoverlabel": {
           "align": "left"
          },
          "hovermode": "closest",
          "mapbox": {
           "style": "light"
          },
          "paper_bgcolor": "white",
          "plot_bgcolor": "#E5ECF6",
          "polar": {
           "angularaxis": {
            "gridcolor": "white",
            "linecolor": "white",
            "ticks": ""
           },
           "bgcolor": "#E5ECF6",
           "radialaxis": {
            "gridcolor": "white",
            "linecolor": "white",
            "ticks": ""
           }
          },
          "scene": {
           "xaxis": {
            "backgroundcolor": "#E5ECF6",
            "gridcolor": "white",
            "gridwidth": 2,
            "linecolor": "white",
            "showbackground": true,
            "ticks": "",
            "zerolinecolor": "white"
           },
           "yaxis": {
            "backgroundcolor": "#E5ECF6",
            "gridcolor": "white",
            "gridwidth": 2,
            "linecolor": "white",
            "showbackground": true,
            "ticks": "",
            "zerolinecolor": "white"
           },
           "zaxis": {
            "backgroundcolor": "#E5ECF6",
            "gridcolor": "white",
            "gridwidth": 2,
            "linecolor": "white",
            "showbackground": true,
            "ticks": "",
            "zerolinecolor": "white"
           }
          },
          "shapedefaults": {
           "line": {
            "color": "#2a3f5f"
           }
          },
          "ternary": {
           "aaxis": {
            "gridcolor": "white",
            "linecolor": "white",
            "ticks": ""
           },
           "baxis": {
            "gridcolor": "white",
            "linecolor": "white",
            "ticks": ""
           },
           "bgcolor": "#E5ECF6",
           "caxis": {
            "gridcolor": "white",
            "linecolor": "white",
            "ticks": ""
           }
          },
          "title": {
           "x": 0.05
          },
          "xaxis": {
           "automargin": true,
           "gridcolor": "white",
           "linecolor": "white",
           "ticks": "",
           "title": {
            "standoff": 15
           },
           "zerolinecolor": "white",
           "zerolinewidth": 2
          },
          "yaxis": {
           "automargin": true,
           "gridcolor": "white",
           "linecolor": "white",
           "ticks": "",
           "title": {
            "standoff": 15
           },
           "zerolinecolor": "white",
           "zerolinewidth": 2
          }
         }
        },
        "title": {
         "text": "Trading simulation plot of Multivariate predictions"
        },
        "xaxis": {
         "title": {
          "text": "Date"
         }
        },
        "yaxis": {
         "title": {
          "text": "Price"
         }
        }
       }
      }
     },
     "metadata": {},
     "output_type": "display_data"
    },
    {
     "data": {
      "application/vnd.plotly.v1+json": {
       "config": {
        "linkText": "Export to plotly.com",
        "plotlyServerURL": "https://plotly.com",
        "showLink": false
       },
       "data": [
        {
         "line": {
          "color": "red",
          "width": 2
         },
         "name": "Short positions",
         "type": "scatter",
         "x": [
          "2022-01-06T00:00:00",
          "2022-01-07T00:00:00",
          null,
          "2022-01-19T00:00:00",
          "2022-01-20T00:00:00",
          null,
          "2022-01-25T00:00:00",
          "2022-01-27T00:00:00",
          null,
          "2022-01-28T00:00:00",
          "2022-02-03T00:00:00",
          null,
          "2022-02-15T00:00:00",
          "2022-02-17T00:00:00",
          null,
          "2022-02-21T00:00:00",
          "2022-02-22T00:00:00",
          null,
          "2022-02-23T00:00:00",
          "2022-02-28T00:00:00",
          null,
          "2022-03-01T00:00:00",
          "2022-03-02T00:00:00",
          null,
          "2022-03-03T00:00:00",
          "2022-03-04T00:00:00",
          null,
          "2022-03-07T00:00:00",
          "2022-03-10T00:00:00",
          null,
          "2022-03-15T00:00:00",
          "2022-03-16T00:00:00",
          null,
          "2022-03-23T00:00:00",
          "2022-03-24T00:00:00",
          null,
          "2022-04-01T00:00:00",
          "2022-04-04T00:00:00",
          null,
          "2022-04-05T00:00:00",
          "2022-04-06T00:00:00",
          null,
          "2022-04-07T00:00:00",
          "2022-04-14T00:00:00",
          null,
          "2022-04-18T00:00:00",
          "2022-04-20T00:00:00",
          null,
          "2022-04-26T00:00:00",
          "2022-04-29T00:00:00",
          null,
          "2022-05-05T00:00:00",
          "2022-05-17T00:00:00",
          null,
          "2022-05-20T00:00:00",
          "2022-05-23T00:00:00",
          null,
          "2022-05-24T00:00:00",
          "2022-05-27T00:00:00",
          null,
          "2022-06-01T00:00:00",
          "2022-06-02T00:00:00",
          null,
          "2022-06-03T00:00:00",
          "2022-06-06T00:00:00",
          null,
          "2022-06-07T00:00:00",
          "2022-06-08T00:00:00",
          null,
          "2022-06-09T00:00:00",
          "2022-06-22T00:00:00",
          null,
          "2022-06-23T00:00:00",
          "2022-06-27T00:00:00",
          null,
          "2022-06-30T00:00:00",
          "2022-07-05T00:00:00",
          null,
          "2022-07-06T00:00:00",
          "2022-07-08T00:00:00",
          null,
          "2022-07-14T00:00:00",
          "2022-07-18T00:00:00",
          null,
          "2022-07-22T00:00:00",
          "2022-07-25T00:00:00",
          null,
          "2022-08-01T00:00:00",
          "2022-08-02T00:00:00",
          null,
          "2022-08-10T00:00:00",
          "2022-08-11T00:00:00",
          null,
          "2022-08-15T00:00:00",
          "2022-08-18T00:00:00",
          null,
          "2022-08-22T00:00:00",
          "2022-08-23T00:00:00",
          null,
          "2022-08-24T00:00:00",
          "2022-08-26T00:00:00",
          null,
          "2022-08-30T00:00:00",
          "2022-08-31T00:00:00",
          null,
          "2022-09-01T00:00:00",
          "2022-09-06T00:00:00",
          null,
          "2022-09-08T00:00:00",
          "2022-09-09T00:00:00",
          null,
          "2022-09-15T00:00:00",
          "2022-09-16T00:00:00",
          null,
          "2022-09-20T00:00:00",
          "2022-09-21T00:00:00",
          null,
          "2022-09-22T00:00:00",
          "2022-10-03T00:00:00",
          null,
          "2022-10-04T00:00:00",
          "2022-10-05T00:00:00",
          null,
          "2022-10-10T00:00:00",
          "2022-10-19T00:00:00",
          null,
          "2022-10-20T00:00:00",
          "2022-10-26T00:00:00",
          null,
          "2022-11-04T00:00:00",
          "2022-11-07T00:00:00",
          null,
          "2022-11-17T00:00:00",
          "2022-11-18T00:00:00",
          null,
          "2022-11-21T00:00:00",
          "2022-11-23T00:00:00",
          null,
          "2022-11-24T00:00:00",
          "2022-11-30T00:00:00",
          null,
          "2022-12-05T00:00:00",
          "2022-12-06T00:00:00",
          null,
          "2022-12-07T00:00:00",
          "2022-12-09T00:00:00",
          null,
          "2022-12-13T00:00:00",
          "2022-12-14T00:00:00",
          null,
          "2022-12-16T00:00:00",
          "2022-12-20T00:00:00",
          null,
          "2022-12-21T00:00:00",
          "2022-12-22T00:00:00",
          null,
          "2022-12-27T00:00:00",
          "2022-12-28T00:00:00",
          null,
          "2022-12-30T00:00:00"
         ],
         "y": [
          3184.300048828125,
          3205.260009765625,
          null,
          3283.93994140625,
          3294.820068359375,
          null,
          3247.760009765625,
          3260.030029296875,
          null,
          3246.330078125,
          3315.989990234375,
          null,
          3421.3798828125,
          3441.570068359375,
          null,
          3436.360107421875,
          3400.580078125,
          null,
          3393,
          3242.239990234375,
          null,
          3278.6298828125,
          3244.39990234375,
          null,
          3253.64990234375,
          3226.780029296875,
          null,
          3187.820068359375,
          3240.72998046875,
          null,
          3236.0400390625,
          3290.89990234375,
          null,
          3364.260009765625,
          3399.699951171875,
          null,
          3419.110107421875,
          3416.969970703125,
          null,
          3445.010009765625,
          3422.949951171875,
          null,
          3404.22998046875,
          3335.85009765625,
          null,
          3303.070068359375,
          3335.320068359375,
          null,
          3322.050048828125,
          3356.89990234375,
          null,
          3343.570068359375,
          3201.889892578125,
          null,
          3240.580078125,
          3213.64990234375,
          null,
          3195.0400390625,
          3230.550048828125,
          null,
          3244,
          3226.719970703125,
          null,
          3231.969970703125,
          3226.6298828125,
          null,
          3231.5400390625,
          3225.800048828125,
          null,
          3209.6201171875,
          3093.31005859375,
          null,
          3092.800048828125,
          3137.5400390625,
          null,
          3102.2099609375,
          3104.110107421875,
          null,
          3103.659912109375,
          3131.260009765625,
          null,
          3090.6298828125,
          3121.760009765625,
          null,
          3181.340087890625,
          3180.469970703125,
          null,
          3238.75,
          3239.14990234375,
          null,
          3286.330078125,
          3301.9599609375,
          null,
          3256.820068359375,
          3273.47998046875,
          null,
          3262.570068359375,
          3246.2099609375,
          null,
          3233.47998046875,
          3249.530029296875,
          null,
          3239.330078125,
          3221.669921875,
          null,
          3224.080078125,
          3224.179931640625,
          null,
          3233.610107421875,
          3262.949951171875,
          null,
          3267.97998046875,
          3268.2900390625,
          null,
          3266.93994140625,
          3261.7900390625,
          null,
          3263.070068359375,
          3107.090087890625,
          null,
          3138.89990234375,
          3153.22998046875,
          null,
          3107.469970703125,
          3022.800048828125,
          null,
          3022.699951171875,
          3008.3798828125,
          null,
          3130.110107421875,
          3141.31005859375,
          null,
          3286.0400390625,
          3272.22998046875,
          null,
          3250.6201171875,
          3255.989990234375,
          null,
          3252.8798828125,
          3290.489990234375,
          null,
          3267.5400390625,
          3252.3701171875,
          null,
          3225.449951171875,
          3245.969970703125,
          null,
          3271.280029296875,
          3278.570068359375,
          null,
          3240.81005859375,
          3253.969970703125,
          null,
          3256.18994140625,
          3269.530029296875,
          null,
          3266.3798828125,
          3266.969970703125,
          null,
          3251.320068359375
         ]
        },
        {
         "line": {
          "color": "blue",
          "width": 2
         },
         "name": "Long positions",
         "type": "scatter",
         "x": [
          "2022-01-04T00:00:00",
          "2022-01-06T00:00:00",
          null,
          "2022-01-07T00:00:00",
          "2022-01-19T00:00:00",
          null,
          "2022-01-20T00:00:00",
          "2022-01-25T00:00:00",
          null,
          "2022-01-27T00:00:00",
          "2022-01-28T00:00:00",
          null,
          "2022-02-03T00:00:00",
          "2022-02-15T00:00:00",
          null,
          "2022-02-17T00:00:00",
          "2022-02-21T00:00:00",
          null,
          "2022-02-22T00:00:00",
          "2022-02-23T00:00:00",
          null,
          "2022-02-28T00:00:00",
          "2022-03-01T00:00:00",
          null,
          "2022-03-02T00:00:00",
          "2022-03-03T00:00:00",
          null,
          "2022-03-04T00:00:00",
          "2022-03-07T00:00:00",
          null,
          "2022-03-10T00:00:00",
          "2022-03-15T00:00:00",
          null,
          "2022-03-16T00:00:00",
          "2022-03-23T00:00:00",
          null,
          "2022-03-24T00:00:00",
          "2022-04-01T00:00:00",
          null,
          "2022-04-04T00:00:00",
          "2022-04-05T00:00:00",
          null,
          "2022-04-06T00:00:00",
          "2022-04-07T00:00:00",
          null,
          "2022-04-14T00:00:00",
          "2022-04-18T00:00:00",
          null,
          "2022-04-20T00:00:00",
          "2022-04-26T00:00:00",
          null,
          "2022-04-29T00:00:00",
          "2022-05-05T00:00:00",
          null,
          "2022-05-17T00:00:00",
          "2022-05-20T00:00:00",
          null,
          "2022-05-23T00:00:00",
          "2022-05-24T00:00:00",
          null,
          "2022-05-27T00:00:00",
          "2022-06-01T00:00:00",
          null,
          "2022-06-02T00:00:00",
          "2022-06-03T00:00:00",
          null,
          "2022-06-06T00:00:00",
          "2022-06-07T00:00:00",
          null,
          "2022-06-08T00:00:00",
          "2022-06-09T00:00:00",
          null,
          "2022-06-22T00:00:00",
          "2022-06-23T00:00:00",
          null,
          "2022-06-27T00:00:00",
          "2022-06-30T00:00:00",
          null,
          "2022-07-05T00:00:00",
          "2022-07-06T00:00:00",
          null,
          "2022-07-08T00:00:00",
          "2022-07-14T00:00:00",
          null,
          "2022-07-18T00:00:00",
          "2022-07-22T00:00:00",
          null,
          "2022-07-25T00:00:00",
          "2022-08-01T00:00:00",
          null,
          "2022-08-02T00:00:00",
          "2022-08-10T00:00:00",
          null,
          "2022-08-11T00:00:00",
          "2022-08-15T00:00:00",
          null,
          "2022-08-18T00:00:00",
          "2022-08-22T00:00:00",
          null,
          "2022-08-23T00:00:00",
          "2022-08-24T00:00:00",
          null,
          "2022-08-26T00:00:00",
          "2022-08-30T00:00:00",
          null,
          "2022-08-31T00:00:00",
          "2022-09-01T00:00:00",
          null,
          "2022-09-06T00:00:00",
          "2022-09-08T00:00:00",
          null,
          "2022-09-09T00:00:00",
          "2022-09-15T00:00:00",
          null,
          "2022-09-16T00:00:00",
          "2022-09-20T00:00:00",
          null,
          "2022-09-21T00:00:00",
          "2022-09-22T00:00:00",
          null,
          "2022-10-03T00:00:00",
          "2022-10-04T00:00:00",
          null,
          "2022-10-05T00:00:00",
          "2022-10-10T00:00:00",
          null,
          "2022-10-19T00:00:00",
          "2022-10-20T00:00:00",
          null,
          "2022-10-26T00:00:00",
          "2022-11-04T00:00:00",
          null,
          "2022-11-07T00:00:00",
          "2022-11-17T00:00:00",
          null,
          "2022-11-18T00:00:00",
          "2022-11-21T00:00:00",
          null,
          "2022-11-23T00:00:00",
          "2022-11-24T00:00:00",
          null,
          "2022-11-30T00:00:00",
          "2022-12-05T00:00:00",
          null,
          "2022-12-06T00:00:00",
          "2022-12-07T00:00:00",
          null,
          "2022-12-09T00:00:00",
          "2022-12-13T00:00:00",
          null,
          "2022-12-14T00:00:00",
          "2022-12-16T00:00:00",
          null,
          "2022-12-20T00:00:00",
          "2022-12-21T00:00:00",
          null,
          "2022-12-22T00:00:00",
          "2022-12-27T00:00:00",
          null,
          "2022-12-28T00:00:00",
          "2022-12-30T00:00:00",
          null
         ],
         "y": [
          3181.1298828125,
          3184.300048828125,
          null,
          3205.260009765625,
          3283.93994140625,
          null,
          3294.820068359375,
          3247.760009765625,
          null,
          3260.030029296875,
          3246.330078125,
          null,
          3315.989990234375,
          3421.3798828125,
          null,
          3441.570068359375,
          3436.360107421875,
          null,
          3400.580078125,
          3393,
          null,
          3242.239990234375,
          3278.6298828125,
          null,
          3244.39990234375,
          3253.64990234375,
          null,
          3226.780029296875,
          3187.820068359375,
          null,
          3240.72998046875,
          3236.0400390625,
          null,
          3290.89990234375,
          3364.260009765625,
          null,
          3399.699951171875,
          3419.110107421875,
          null,
          3416.969970703125,
          3445.010009765625,
          null,
          3422.949951171875,
          3404.22998046875,
          null,
          3335.85009765625,
          3303.070068359375,
          null,
          3335.320068359375,
          3322.050048828125,
          null,
          3356.89990234375,
          3343.570068359375,
          null,
          3201.889892578125,
          3240.580078125,
          null,
          3213.64990234375,
          3195.0400390625,
          null,
          3230.550048828125,
          3244,
          null,
          3226.719970703125,
          3231.969970703125,
          null,
          3226.6298828125,
          3231.5400390625,
          null,
          3225.800048828125,
          3209.6201171875,
          null,
          3093.31005859375,
          3092.800048828125,
          null,
          3137.5400390625,
          3102.2099609375,
          null,
          3104.110107421875,
          3103.659912109375,
          null,
          3131.260009765625,
          3090.6298828125,
          null,
          3121.760009765625,
          3181.340087890625,
          null,
          3180.469970703125,
          3238.75,
          null,
          3239.14990234375,
          3286.330078125,
          null,
          3301.9599609375,
          3256.820068359375,
          null,
          3273.47998046875,
          3262.570068359375,
          null,
          3246.2099609375,
          3233.47998046875,
          null,
          3249.530029296875,
          3239.330078125,
          null,
          3221.669921875,
          3224.080078125,
          null,
          3224.179931640625,
          3233.610107421875,
          null,
          3262.949951171875,
          3267.97998046875,
          null,
          3268.2900390625,
          3266.93994140625,
          null,
          3261.7900390625,
          3263.070068359375,
          null,
          3107.090087890625,
          3138.89990234375,
          null,
          3153.22998046875,
          3107.469970703125,
          null,
          3022.800048828125,
          3022.699951171875,
          null,
          3008.3798828125,
          3130.110107421875,
          null,
          3141.31005859375,
          3286.0400390625,
          null,
          3272.22998046875,
          3250.6201171875,
          null,
          3255.989990234375,
          3252.8798828125,
          null,
          3290.489990234375,
          3267.5400390625,
          null,
          3252.3701171875,
          3225.449951171875,
          null,
          3245.969970703125,
          3271.280029296875,
          null,
          3278.570068359375,
          3240.81005859375,
          null,
          3253.969970703125,
          3256.18994140625,
          null,
          3269.530029296875,
          3266.3798828125,
          null,
          3266.969970703125,
          3251.320068359375,
          null
         ]
        },
        {
         "line": {
          "color": "green",
          "width": 1
         },
         "name": "Closing price",
         "type": "scatter",
         "x": [
          "2022-01-04T00:00:00",
          "2022-01-05T00:00:00",
          "2022-01-06T00:00:00",
          "2022-01-07T00:00:00",
          "2022-01-10T00:00:00",
          "2022-01-11T00:00:00",
          "2022-01-12T00:00:00",
          "2022-01-13T00:00:00",
          "2022-01-14T00:00:00",
          "2022-01-17T00:00:00",
          "2022-01-18T00:00:00",
          "2022-01-19T00:00:00",
          "2022-01-20T00:00:00",
          "2022-01-21T00:00:00",
          "2022-01-24T00:00:00",
          "2022-01-25T00:00:00",
          "2022-01-26T00:00:00",
          "2022-01-27T00:00:00",
          "2022-01-28T00:00:00",
          "2022-01-31T00:00:00",
          "2022-02-03T00:00:00",
          "2022-02-04T00:00:00",
          "2022-02-07T00:00:00",
          "2022-02-08T00:00:00",
          "2022-02-09T00:00:00",
          "2022-02-10T00:00:00",
          "2022-02-11T00:00:00",
          "2022-02-14T00:00:00",
          "2022-02-15T00:00:00",
          "2022-02-16T00:00:00",
          "2022-02-17T00:00:00",
          "2022-02-18T00:00:00",
          "2022-02-21T00:00:00",
          "2022-02-22T00:00:00",
          "2022-02-23T00:00:00",
          "2022-02-24T00:00:00",
          "2022-02-25T00:00:00",
          "2022-02-28T00:00:00",
          "2022-03-01T00:00:00",
          "2022-03-02T00:00:00",
          "2022-03-03T00:00:00",
          "2022-03-04T00:00:00",
          "2022-03-07T00:00:00",
          "2022-03-08T00:00:00",
          "2022-03-09T00:00:00",
          "2022-03-10T00:00:00",
          "2022-03-11T00:00:00",
          "2022-03-14T00:00:00",
          "2022-03-15T00:00:00",
          "2022-03-16T00:00:00",
          "2022-03-17T00:00:00",
          "2022-03-18T00:00:00",
          "2022-03-21T00:00:00",
          "2022-03-22T00:00:00",
          "2022-03-23T00:00:00",
          "2022-03-24T00:00:00",
          "2022-03-25T00:00:00",
          "2022-03-28T00:00:00",
          "2022-03-29T00:00:00",
          "2022-03-30T00:00:00",
          "2022-03-31T00:00:00",
          "2022-04-01T00:00:00",
          "2022-04-04T00:00:00",
          "2022-04-05T00:00:00",
          "2022-04-06T00:00:00",
          "2022-04-07T00:00:00",
          "2022-04-08T00:00:00",
          "2022-04-11T00:00:00",
          "2022-04-12T00:00:00",
          "2022-04-13T00:00:00",
          "2022-04-14T00:00:00",
          "2022-04-18T00:00:00",
          "2022-04-19T00:00:00",
          "2022-04-20T00:00:00",
          "2022-04-21T00:00:00",
          "2022-04-22T00:00:00",
          "2022-04-25T00:00:00",
          "2022-04-26T00:00:00",
          "2022-04-27T00:00:00",
          "2022-04-28T00:00:00",
          "2022-04-29T00:00:00",
          "2022-05-04T00:00:00",
          "2022-05-05T00:00:00",
          "2022-05-06T00:00:00",
          "2022-05-09T00:00:00",
          "2022-05-10T00:00:00",
          "2022-05-11T00:00:00",
          "2022-05-12T00:00:00",
          "2022-05-13T00:00:00",
          "2022-05-17T00:00:00",
          "2022-05-18T00:00:00",
          "2022-05-19T00:00:00",
          "2022-05-20T00:00:00",
          "2022-05-23T00:00:00",
          "2022-05-24T00:00:00",
          "2022-05-25T00:00:00",
          "2022-05-26T00:00:00",
          "2022-05-27T00:00:00",
          "2022-05-30T00:00:00",
          "2022-05-31T00:00:00",
          "2022-06-01T00:00:00",
          "2022-06-02T00:00:00",
          "2022-06-03T00:00:00",
          "2022-06-06T00:00:00",
          "2022-06-07T00:00:00",
          "2022-06-08T00:00:00",
          "2022-06-09T00:00:00",
          "2022-06-10T00:00:00",
          "2022-06-13T00:00:00",
          "2022-06-14T00:00:00",
          "2022-06-15T00:00:00",
          "2022-06-16T00:00:00",
          "2022-06-17T00:00:00",
          "2022-06-20T00:00:00",
          "2022-06-21T00:00:00",
          "2022-06-22T00:00:00",
          "2022-06-23T00:00:00",
          "2022-06-24T00:00:00",
          "2022-06-27T00:00:00",
          "2022-06-28T00:00:00",
          "2022-06-29T00:00:00",
          "2022-06-30T00:00:00",
          "2022-07-01T00:00:00",
          "2022-07-04T00:00:00",
          "2022-07-05T00:00:00",
          "2022-07-06T00:00:00",
          "2022-07-07T00:00:00",
          "2022-07-08T00:00:00",
          "2022-07-12T00:00:00",
          "2022-07-13T00:00:00",
          "2022-07-14T00:00:00",
          "2022-07-15T00:00:00",
          "2022-07-18T00:00:00",
          "2022-07-19T00:00:00",
          "2022-07-20T00:00:00",
          "2022-07-21T00:00:00",
          "2022-07-22T00:00:00",
          "2022-07-25T00:00:00",
          "2022-07-26T00:00:00",
          "2022-07-27T00:00:00",
          "2022-07-28T00:00:00",
          "2022-07-29T00:00:00",
          "2022-08-01T00:00:00",
          "2022-08-02T00:00:00",
          "2022-08-03T00:00:00",
          "2022-08-04T00:00:00",
          "2022-08-05T00:00:00",
          "2022-08-08T00:00:00",
          "2022-08-10T00:00:00",
          "2022-08-11T00:00:00",
          "2022-08-12T00:00:00",
          "2022-08-15T00:00:00",
          "2022-08-16T00:00:00",
          "2022-08-17T00:00:00",
          "2022-08-18T00:00:00",
          "2022-08-19T00:00:00",
          "2022-08-22T00:00:00",
          "2022-08-23T00:00:00",
          "2022-08-24T00:00:00",
          "2022-08-25T00:00:00",
          "2022-08-26T00:00:00",
          "2022-08-29T00:00:00",
          "2022-08-30T00:00:00",
          "2022-08-31T00:00:00",
          "2022-09-01T00:00:00",
          "2022-09-02T00:00:00",
          "2022-09-05T00:00:00",
          "2022-09-06T00:00:00",
          "2022-09-07T00:00:00",
          "2022-09-08T00:00:00",
          "2022-09-09T00:00:00",
          "2022-09-12T00:00:00",
          "2022-09-13T00:00:00",
          "2022-09-14T00:00:00",
          "2022-09-15T00:00:00",
          "2022-09-16T00:00:00",
          "2022-09-19T00:00:00",
          "2022-09-20T00:00:00",
          "2022-09-21T00:00:00",
          "2022-09-22T00:00:00",
          "2022-09-23T00:00:00",
          "2022-09-26T00:00:00",
          "2022-09-27T00:00:00",
          "2022-09-28T00:00:00",
          "2022-09-29T00:00:00",
          "2022-09-30T00:00:00",
          "2022-10-03T00:00:00",
          "2022-10-04T00:00:00",
          "2022-10-05T00:00:00",
          "2022-10-06T00:00:00",
          "2022-10-07T00:00:00",
          "2022-10-10T00:00:00",
          "2022-10-11T00:00:00",
          "2022-10-12T00:00:00",
          "2022-10-13T00:00:00",
          "2022-10-14T00:00:00",
          "2022-10-17T00:00:00",
          "2022-10-18T00:00:00",
          "2022-10-19T00:00:00",
          "2022-10-20T00:00:00",
          "2022-10-21T00:00:00",
          "2022-10-25T00:00:00",
          "2022-10-26T00:00:00",
          "2022-10-27T00:00:00",
          "2022-10-28T00:00:00",
          "2022-10-31T00:00:00",
          "2022-11-01T00:00:00",
          "2022-11-02T00:00:00",
          "2022-11-03T00:00:00",
          "2022-11-04T00:00:00",
          "2022-11-07T00:00:00",
          "2022-11-08T00:00:00",
          "2022-11-09T00:00:00",
          "2022-11-10T00:00:00",
          "2022-11-11T00:00:00",
          "2022-11-14T00:00:00",
          "2022-11-15T00:00:00",
          "2022-11-16T00:00:00",
          "2022-11-17T00:00:00",
          "2022-11-18T00:00:00",
          "2022-11-21T00:00:00",
          "2022-11-22T00:00:00",
          "2022-11-23T00:00:00",
          "2022-11-24T00:00:00",
          "2022-11-25T00:00:00",
          "2022-11-28T00:00:00",
          "2022-11-29T00:00:00",
          "2022-11-30T00:00:00",
          "2022-12-01T00:00:00",
          "2022-12-02T00:00:00",
          "2022-12-05T00:00:00",
          "2022-12-06T00:00:00",
          "2022-12-07T00:00:00",
          "2022-12-08T00:00:00",
          "2022-12-09T00:00:00",
          "2022-12-12T00:00:00",
          "2022-12-13T00:00:00",
          "2022-12-14T00:00:00",
          "2022-12-15T00:00:00",
          "2022-12-16T00:00:00",
          "2022-12-19T00:00:00",
          "2022-12-20T00:00:00",
          "2022-12-21T00:00:00",
          "2022-12-22T00:00:00",
          "2022-12-23T00:00:00",
          "2022-12-27T00:00:00",
          "2022-12-28T00:00:00",
          "2022-12-29T00:00:00",
          "2022-12-30T00:00:00"
         ],
         "y": [
          3181.1298828125,
          3163.43994140625,
          3184.300048828125,
          3205.260009765625,
          3227.050048828125,
          3246.3701171875,
          3254.97998046875,
          3257.300048828125,
          3281.969970703125,
          3287.949951171875,
          3280.0400390625,
          3283.93994140625,
          3294.820068359375,
          3294.860107421875,
          3283.35009765625,
          3247.760009765625,
          3271.570068359375,
          3260.030029296875,
          3246.330078125,
          3249.590087890625,
          3315.989990234375,
          3331.409912109375,
          3366.47998046875,
          3401.739990234375,
          3420.0400390625,
          3428,
          3428.949951171875,
          3421.199951171875,
          3421.3798828125,
          3439.300048828125,
          3441.570068359375,
          3428.89990234375,
          3436.360107421875,
          3400.580078125,
          3393,
          3276.06005859375,
          3294.469970703125,
          3242.239990234375,
          3278.6298828125,
          3244.39990234375,
          3253.64990234375,
          3226.780029296875,
          3187.820068359375,
          3148.860107421875,
          3195.3798828125,
          3240.72998046875,
          3249.659912109375,
          3232.030029296875,
          3236.0400390625,
          3290.89990234375,
          3322.7099609375,
          3330.6298828125,
          3355.510009765625,
          3350.169921875,
          3364.260009765625,
          3399.699951171875,
          3413.68994140625,
          3431.989990234375,
          3433.89990234375,
          3442.610107421875,
          3408.52001953125,
          3419.110107421875,
          3416.969970703125,
          3445.010009765625,
          3422.949951171875,
          3404.22998046875,
          3383.280029296875,
          3363.56005859375,
          3330.25,
          3342.219970703125,
          3335.85009765625,
          3303.070068359375,
          3307.1298828125,
          3335.320068359375,
          3348.4599609375,
          3361.110107421875,
          3339.590087890625,
          3322.050048828125,
          3320.669921875,
          3335.090087890625,
          3356.89990234375,
          3349.27001953125,
          3343.570068359375,
          3291.889892578125,
          3275.070068359375,
          3234.18994140625,
          3226.070068359375,
          3165.179931640625,
          3191.159912109375,
          3201.889892578125,
          3225.35009765625,
          3190.7099609375,
          3240.580078125,
          3213.64990234375,
          3195.0400390625,
          3179.580078125,
          3209.179931640625,
          3230.550048828125,
          3238.919921875,
          3232.489990234375,
          3244,
          3226.719970703125,
          3231.969970703125,
          3226.6298828125,
          3231.5400390625,
          3225.800048828125,
          3209.6201171875,
          3181.72998046875,
          3139.35009765625,
          3108.889892578125,
          3105.85009765625,
          3097.429931640625,
          3098.090087890625,
          3096.39990234375,
          3117.47998046875,
          3093.31005859375,
          3092.800048828125,
          3111.64990234375,
          3137.5400390625,
          3140.2099609375,
          3134.8701171875,
          3102.2099609375,
          3095.590087890625,
          3120.239990234375,
          3104.110107421875,
          3103.659912109375,
          3129.39990234375,
          3131.260009765625,
          3145.77001953125,
          3128.68994140625,
          3090.6298828125,
          3099.14990234375,
          3121.760009765625,
          3117.7900390625,
          3170.2900390625,
          3152.300048828125,
          3181.340087890625,
          3180.469970703125,
          3192.1201171875,
          3205.139892578125,
          3220.64990234375,
          3211.56005859375,
          3238.75,
          3239.14990234375,
          3252.06005859375,
          3269.860107421875,
          3282.8798828125,
          3270.97998046875,
          3286.330078125,
          3301.9599609375,
          3269.27001953125,
          3256.820068359375,
          3253.7900390625,
          3262.760009765625,
          3273.47998046875,
          3246.510009765625,
          3262.570068359375,
          3246.2099609375,
          3233.47998046875,
          3247.800048828125,
          3249.530029296875,
          3222.260009765625,
          3239.330078125,
          3221.669921875,
          3224.080078125,
          3205.68994140625,
          3215.47998046875,
          3224.179931640625,
          3210.830078125,
          3233.610107421875,
          3262.949951171875,
          3274.719970703125,
          3290.080078125,
          3258.02001953125,
          3267.97998046875,
          3268.2900390625,
          3256.31005859375,
          3266.93994140625,
          3261.7900390625,
          3263.070068359375,
          3227.10009765625,
          3181.969970703125,
          3165.5,
          3116.31005859375,
          3115.080078125,
          3130.239990234375,
          3107.090087890625,
          3138.89990234375,
          3153.22998046875,
          3151.56005859375,
          3145.81005859375,
          3107.469970703125,
          3105,
          3083.18994140625,
          3040.449951171875,
          3039.610107421875,
          3015.75,
          3025.8798828125,
          3022.800048828125,
          3022.699951171875,
          2969.949951171875,
          2984.14990234375,
          3008.3798828125,
          3015.239990234375,
          3059.18994140625,
          3093.110107421875,
          3130.5,
          3141.1298828125,
          3102.510009765625,
          3130.110107421875,
          3141.31005859375,
          3145.830078125,
          3165.5,
          3173.179931640625,
          3228.330078125,
          3260.800048828125,
          3275.280029296875,
          3266.169921875,
          3286.0400390625,
          3272.22998046875,
          3250.6201171875,
          3259.56005859375,
          3255.989990234375,
          3252.8798828125,
          3244.550048828125,
          3240.06005859375,
          3276.360107421875,
          3290.489990234375,
          3292.72998046875,
          3259.139892578125,
          3267.5400390625,
          3252.3701171875,
          3225.449951171875,
          3236.080078125,
          3245.969970703125,
          3239.659912109375,
          3271.280029296875,
          3278.570068359375,
          3273.75,
          3240.81005859375,
          3256.610107421875,
          3253.969970703125,
          3256.18994140625,
          3269.530029296875,
          3257.699951171875,
          3266.3798828125,
          3266.969970703125,
          3249.239990234375,
          3251.320068359375
         ]
        }
       ],
       "layout": {
        "font": {
         "size": 18
        },
        "template": {
         "data": {
          "bar": [
           {
            "error_x": {
             "color": "#2a3f5f"
            },
            "error_y": {
             "color": "#2a3f5f"
            },
            "marker": {
             "line": {
              "color": "#E5ECF6",
              "width": 0.5
             },
             "pattern": {
              "fillmode": "overlay",
              "size": 10,
              "solidity": 0.2
             }
            },
            "type": "bar"
           }
          ],
          "barpolar": [
           {
            "marker": {
             "line": {
              "color": "#E5ECF6",
              "width": 0.5
             },
             "pattern": {
              "fillmode": "overlay",
              "size": 10,
              "solidity": 0.2
             }
            },
            "type": "barpolar"
           }
          ],
          "carpet": [
           {
            "aaxis": {
             "endlinecolor": "#2a3f5f",
             "gridcolor": "white",
             "linecolor": "white",
             "minorgridcolor": "white",
             "startlinecolor": "#2a3f5f"
            },
            "baxis": {
             "endlinecolor": "#2a3f5f",
             "gridcolor": "white",
             "linecolor": "white",
             "minorgridcolor": "white",
             "startlinecolor": "#2a3f5f"
            },
            "type": "carpet"
           }
          ],
          "choropleth": [
           {
            "colorbar": {
             "outlinewidth": 0,
             "ticks": ""
            },
            "type": "choropleth"
           }
          ],
          "contour": [
           {
            "colorbar": {
             "outlinewidth": 0,
             "ticks": ""
            },
            "colorscale": [
             [
              0,
              "#0d0887"
             ],
             [
              0.1111111111111111,
              "#46039f"
             ],
             [
              0.2222222222222222,
              "#7201a8"
             ],
             [
              0.3333333333333333,
              "#9c179e"
             ],
             [
              0.4444444444444444,
              "#bd3786"
             ],
             [
              0.5555555555555556,
              "#d8576b"
             ],
             [
              0.6666666666666666,
              "#ed7953"
             ],
             [
              0.7777777777777778,
              "#fb9f3a"
             ],
             [
              0.8888888888888888,
              "#fdca26"
             ],
             [
              1,
              "#f0f921"
             ]
            ],
            "type": "contour"
           }
          ],
          "contourcarpet": [
           {
            "colorbar": {
             "outlinewidth": 0,
             "ticks": ""
            },
            "type": "contourcarpet"
           }
          ],
          "heatmap": [
           {
            "colorbar": {
             "outlinewidth": 0,
             "ticks": ""
            },
            "colorscale": [
             [
              0,
              "#0d0887"
             ],
             [
              0.1111111111111111,
              "#46039f"
             ],
             [
              0.2222222222222222,
              "#7201a8"
             ],
             [
              0.3333333333333333,
              "#9c179e"
             ],
             [
              0.4444444444444444,
              "#bd3786"
             ],
             [
              0.5555555555555556,
              "#d8576b"
             ],
             [
              0.6666666666666666,
              "#ed7953"
             ],
             [
              0.7777777777777778,
              "#fb9f3a"
             ],
             [
              0.8888888888888888,
              "#fdca26"
             ],
             [
              1,
              "#f0f921"
             ]
            ],
            "type": "heatmap"
           }
          ],
          "heatmapgl": [
           {
            "colorbar": {
             "outlinewidth": 0,
             "ticks": ""
            },
            "colorscale": [
             [
              0,
              "#0d0887"
             ],
             [
              0.1111111111111111,
              "#46039f"
             ],
             [
              0.2222222222222222,
              "#7201a8"
             ],
             [
              0.3333333333333333,
              "#9c179e"
             ],
             [
              0.4444444444444444,
              "#bd3786"
             ],
             [
              0.5555555555555556,
              "#d8576b"
             ],
             [
              0.6666666666666666,
              "#ed7953"
             ],
             [
              0.7777777777777778,
              "#fb9f3a"
             ],
             [
              0.8888888888888888,
              "#fdca26"
             ],
             [
              1,
              "#f0f921"
             ]
            ],
            "type": "heatmapgl"
           }
          ],
          "histogram": [
           {
            "marker": {
             "pattern": {
              "fillmode": "overlay",
              "size": 10,
              "solidity": 0.2
             }
            },
            "type": "histogram"
           }
          ],
          "histogram2d": [
           {
            "colorbar": {
             "outlinewidth": 0,
             "ticks": ""
            },
            "colorscale": [
             [
              0,
              "#0d0887"
             ],
             [
              0.1111111111111111,
              "#46039f"
             ],
             [
              0.2222222222222222,
              "#7201a8"
             ],
             [
              0.3333333333333333,
              "#9c179e"
             ],
             [
              0.4444444444444444,
              "#bd3786"
             ],
             [
              0.5555555555555556,
              "#d8576b"
             ],
             [
              0.6666666666666666,
              "#ed7953"
             ],
             [
              0.7777777777777778,
              "#fb9f3a"
             ],
             [
              0.8888888888888888,
              "#fdca26"
             ],
             [
              1,
              "#f0f921"
             ]
            ],
            "type": "histogram2d"
           }
          ],
          "histogram2dcontour": [
           {
            "colorbar": {
             "outlinewidth": 0,
             "ticks": ""
            },
            "colorscale": [
             [
              0,
              "#0d0887"
             ],
             [
              0.1111111111111111,
              "#46039f"
             ],
             [
              0.2222222222222222,
              "#7201a8"
             ],
             [
              0.3333333333333333,
              "#9c179e"
             ],
             [
              0.4444444444444444,
              "#bd3786"
             ],
             [
              0.5555555555555556,
              "#d8576b"
             ],
             [
              0.6666666666666666,
              "#ed7953"
             ],
             [
              0.7777777777777778,
              "#fb9f3a"
             ],
             [
              0.8888888888888888,
              "#fdca26"
             ],
             [
              1,
              "#f0f921"
             ]
            ],
            "type": "histogram2dcontour"
           }
          ],
          "mesh3d": [
           {
            "colorbar": {
             "outlinewidth": 0,
             "ticks": ""
            },
            "type": "mesh3d"
           }
          ],
          "parcoords": [
           {
            "line": {
             "colorbar": {
              "outlinewidth": 0,
              "ticks": ""
             }
            },
            "type": "parcoords"
           }
          ],
          "pie": [
           {
            "automargin": true,
            "type": "pie"
           }
          ],
          "scatter": [
           {
            "fillpattern": {
             "fillmode": "overlay",
             "size": 10,
             "solidity": 0.2
            },
            "type": "scatter"
           }
          ],
          "scatter3d": [
           {
            "line": {
             "colorbar": {
              "outlinewidth": 0,
              "ticks": ""
             }
            },
            "marker": {
             "colorbar": {
              "outlinewidth": 0,
              "ticks": ""
             }
            },
            "type": "scatter3d"
           }
          ],
          "scattercarpet": [
           {
            "marker": {
             "colorbar": {
              "outlinewidth": 0,
              "ticks": ""
             }
            },
            "type": "scattercarpet"
           }
          ],
          "scattergeo": [
           {
            "marker": {
             "colorbar": {
              "outlinewidth": 0,
              "ticks": ""
             }
            },
            "type": "scattergeo"
           }
          ],
          "scattergl": [
           {
            "marker": {
             "colorbar": {
              "outlinewidth": 0,
              "ticks": ""
             }
            },
            "type": "scattergl"
           }
          ],
          "scattermapbox": [
           {
            "marker": {
             "colorbar": {
              "outlinewidth": 0,
              "ticks": ""
             }
            },
            "type": "scattermapbox"
           }
          ],
          "scatterpolar": [
           {
            "marker": {
             "colorbar": {
              "outlinewidth": 0,
              "ticks": ""
             }
            },
            "type": "scatterpolar"
           }
          ],
          "scatterpolargl": [
           {
            "marker": {
             "colorbar": {
              "outlinewidth": 0,
              "ticks": ""
             }
            },
            "type": "scatterpolargl"
           }
          ],
          "scatterternary": [
           {
            "marker": {
             "colorbar": {
              "outlinewidth": 0,
              "ticks": ""
             }
            },
            "type": "scatterternary"
           }
          ],
          "surface": [
           {
            "colorbar": {
             "outlinewidth": 0,
             "ticks": ""
            },
            "colorscale": [
             [
              0,
              "#0d0887"
             ],
             [
              0.1111111111111111,
              "#46039f"
             ],
             [
              0.2222222222222222,
              "#7201a8"
             ],
             [
              0.3333333333333333,
              "#9c179e"
             ],
             [
              0.4444444444444444,
              "#bd3786"
             ],
             [
              0.5555555555555556,
              "#d8576b"
             ],
             [
              0.6666666666666666,
              "#ed7953"
             ],
             [
              0.7777777777777778,
              "#fb9f3a"
             ],
             [
              0.8888888888888888,
              "#fdca26"
             ],
             [
              1,
              "#f0f921"
             ]
            ],
            "type": "surface"
           }
          ],
          "table": [
           {
            "cells": {
             "fill": {
              "color": "#EBF0F8"
             },
             "line": {
              "color": "white"
             }
            },
            "header": {
             "fill": {
              "color": "#C8D4E3"
             },
             "line": {
              "color": "white"
             }
            },
            "type": "table"
           }
          ]
         },
         "layout": {
          "annotationdefaults": {
           "arrowcolor": "#2a3f5f",
           "arrowhead": 0,
           "arrowwidth": 1
          },
          "autotypenumbers": "strict",
          "coloraxis": {
           "colorbar": {
            "outlinewidth": 0,
            "ticks": ""
           }
          },
          "colorscale": {
           "diverging": [
            [
             0,
             "#8e0152"
            ],
            [
             0.1,
             "#c51b7d"
            ],
            [
             0.2,
             "#de77ae"
            ],
            [
             0.3,
             "#f1b6da"
            ],
            [
             0.4,
             "#fde0ef"
            ],
            [
             0.5,
             "#f7f7f7"
            ],
            [
             0.6,
             "#e6f5d0"
            ],
            [
             0.7,
             "#b8e186"
            ],
            [
             0.8,
             "#7fbc41"
            ],
            [
             0.9,
             "#4d9221"
            ],
            [
             1,
             "#276419"
            ]
           ],
           "sequential": [
            [
             0,
             "#0d0887"
            ],
            [
             0.1111111111111111,
             "#46039f"
            ],
            [
             0.2222222222222222,
             "#7201a8"
            ],
            [
             0.3333333333333333,
             "#9c179e"
            ],
            [
             0.4444444444444444,
             "#bd3786"
            ],
            [
             0.5555555555555556,
             "#d8576b"
            ],
            [
             0.6666666666666666,
             "#ed7953"
            ],
            [
             0.7777777777777778,
             "#fb9f3a"
            ],
            [
             0.8888888888888888,
             "#fdca26"
            ],
            [
             1,
             "#f0f921"
            ]
           ],
           "sequentialminus": [
            [
             0,
             "#0d0887"
            ],
            [
             0.1111111111111111,
             "#46039f"
            ],
            [
             0.2222222222222222,
             "#7201a8"
            ],
            [
             0.3333333333333333,
             "#9c179e"
            ],
            [
             0.4444444444444444,
             "#bd3786"
            ],
            [
             0.5555555555555556,
             "#d8576b"
            ],
            [
             0.6666666666666666,
             "#ed7953"
            ],
            [
             0.7777777777777778,
             "#fb9f3a"
            ],
            [
             0.8888888888888888,
             "#fdca26"
            ],
            [
             1,
             "#f0f921"
            ]
           ]
          },
          "colorway": [
           "#636efa",
           "#EF553B",
           "#00cc96",
           "#ab63fa",
           "#FFA15A",
           "#19d3f3",
           "#FF6692",
           "#B6E880",
           "#FF97FF",
           "#FECB52"
          ],
          "font": {
           "color": "#2a3f5f"
          },
          "geo": {
           "bgcolor": "white",
           "lakecolor": "white",
           "landcolor": "#E5ECF6",
           "showlakes": true,
           "showland": true,
           "subunitcolor": "white"
          },
          "hoverlabel": {
           "align": "left"
          },
          "hovermode": "closest",
          "mapbox": {
           "style": "light"
          },
          "paper_bgcolor": "white",
          "plot_bgcolor": "#E5ECF6",
          "polar": {
           "angularaxis": {
            "gridcolor": "white",
            "linecolor": "white",
            "ticks": ""
           },
           "bgcolor": "#E5ECF6",
           "radialaxis": {
            "gridcolor": "white",
            "linecolor": "white",
            "ticks": ""
           }
          },
          "scene": {
           "xaxis": {
            "backgroundcolor": "#E5ECF6",
            "gridcolor": "white",
            "gridwidth": 2,
            "linecolor": "white",
            "showbackground": true,
            "ticks": "",
            "zerolinecolor": "white"
           },
           "yaxis": {
            "backgroundcolor": "#E5ECF6",
            "gridcolor": "white",
            "gridwidth": 2,
            "linecolor": "white",
            "showbackground": true,
            "ticks": "",
            "zerolinecolor": "white"
           },
           "zaxis": {
            "backgroundcolor": "#E5ECF6",
            "gridcolor": "white",
            "gridwidth": 2,
            "linecolor": "white",
            "showbackground": true,
            "ticks": "",
            "zerolinecolor": "white"
           }
          },
          "shapedefaults": {
           "line": {
            "color": "#2a3f5f"
           }
          },
          "ternary": {
           "aaxis": {
            "gridcolor": "white",
            "linecolor": "white",
            "ticks": ""
           },
           "baxis": {
            "gridcolor": "white",
            "linecolor": "white",
            "ticks": ""
           },
           "bgcolor": "#E5ECF6",
           "caxis": {
            "gridcolor": "white",
            "linecolor": "white",
            "ticks": ""
           }
          },
          "title": {
           "x": 0.05
          },
          "xaxis": {
           "automargin": true,
           "gridcolor": "white",
           "linecolor": "white",
           "ticks": "",
           "title": {
            "standoff": 15
           },
           "zerolinecolor": "white",
           "zerolinewidth": 2
          },
          "yaxis": {
           "automargin": true,
           "gridcolor": "white",
           "linecolor": "white",
           "ticks": "",
           "title": {
            "standoff": 15
           },
           "zerolinecolor": "white",
           "zerolinewidth": 2
          }
         }
        },
        "title": {
         "text": "Trading simulation plot of Univariate + Multivariate predictions"
        },
        "xaxis": {
         "title": {
          "text": "Date"
         }
        },
        "yaxis": {
         "title": {
          "text": "Price"
         }
        }
       }
      }
     },
     "metadata": {},
     "output_type": "display_data"
    },
    {
     "data": {
      "application/vnd.plotly.v1+json": {
       "config": {
        "linkText": "Export to plotly.com",
        "plotlyServerURL": "https://plotly.com",
        "showLink": false
       },
       "data": [
        {
         "line": {
          "color": "red",
          "width": 2
         },
         "name": "Short positions",
         "type": "scatter",
         "x": [
          "2022-01-25T00:00:00",
          "2022-02-03T00:00:00",
          null,
          "2022-02-23T00:00:00",
          "2022-03-10T00:00:00",
          null,
          "2022-04-07T00:00:00",
          "2022-04-20T00:00:00",
          null,
          "2022-04-26T00:00:00",
          "2022-04-29T00:00:00",
          null,
          "2022-05-06T00:00:00",
          "2022-05-27T00:00:00",
          null,
          "2022-06-03T00:00:00",
          "2022-06-27T00:00:00",
          null,
          "2022-06-30T00:00:00",
          "2022-07-05T00:00:00",
          null,
          "2022-07-14T00:00:00",
          "2022-07-18T00:00:00",
          null,
          "2022-08-15T00:00:00",
          "2022-08-26T00:00:00",
          null,
          "2022-09-05T00:00:00",
          "2022-09-09T00:00:00",
          null,
          "2022-09-20T00:00:00",
          "2022-10-05T00:00:00",
          null,
          "2022-10-10T00:00:00",
          "2022-10-26T00:00:00",
          null,
          "2022-11-21T00:00:00",
          "2022-11-30T00:00:00",
          null,
          "2022-12-05T00:00:00",
          "2022-12-09T00:00:00",
          null,
          "2022-12-16T00:00:00",
          "2022-12-22T00:00:00",
          null,
          "2022-12-27T00:00:00"
         ],
         "y": [
          3247.760009765625,
          3315.989990234375,
          null,
          3393,
          3240.72998046875,
          null,
          3404.22998046875,
          3335.320068359375,
          null,
          3322.050048828125,
          3356.89990234375,
          null,
          3291.889892578125,
          3230.550048828125,
          null,
          3231.969970703125,
          3137.5400390625,
          null,
          3102.2099609375,
          3104.110107421875,
          null,
          3090.6298828125,
          3121.760009765625,
          null,
          3256.820068359375,
          3249.530029296875,
          null,
          3215.47998046875,
          3262.949951171875,
          null,
          3266.93994140625,
          3153.22998046875,
          null,
          3107.469970703125,
          3008.3798828125,
          null,
          3250.6201171875,
          3290.489990234375,
          null,
          3267.5400390625,
          3245.969970703125,
          null,
          3240.81005859375,
          3269.530029296875,
          null,
          3266.3798828125
         ]
        },
        {
         "line": {
          "color": "blue",
          "width": 2
         },
         "name": "Long positions",
         "type": "scatter",
         "x": [
          "2022-01-04T00:00:00",
          "2022-01-25T00:00:00",
          null,
          "2022-02-03T00:00:00",
          "2022-02-23T00:00:00",
          null,
          "2022-03-10T00:00:00",
          "2022-04-07T00:00:00",
          null,
          "2022-04-20T00:00:00",
          "2022-04-26T00:00:00",
          null,
          "2022-04-29T00:00:00",
          "2022-05-06T00:00:00",
          null,
          "2022-05-27T00:00:00",
          "2022-06-03T00:00:00",
          null,
          "2022-06-27T00:00:00",
          "2022-06-30T00:00:00",
          null,
          "2022-07-05T00:00:00",
          "2022-07-14T00:00:00",
          null,
          "2022-07-18T00:00:00",
          "2022-08-15T00:00:00",
          null,
          "2022-08-26T00:00:00",
          "2022-09-05T00:00:00",
          null,
          "2022-09-09T00:00:00",
          "2022-09-20T00:00:00",
          null,
          "2022-10-05T00:00:00",
          "2022-10-10T00:00:00",
          null,
          "2022-10-26T00:00:00",
          "2022-11-21T00:00:00",
          null,
          "2022-11-30T00:00:00",
          "2022-12-05T00:00:00",
          null,
          "2022-12-09T00:00:00",
          "2022-12-16T00:00:00",
          null,
          "2022-12-22T00:00:00",
          "2022-12-27T00:00:00",
          null
         ],
         "y": [
          3181.1298828125,
          3247.760009765625,
          null,
          3315.989990234375,
          3393,
          null,
          3240.72998046875,
          3404.22998046875,
          null,
          3335.320068359375,
          3322.050048828125,
          null,
          3356.89990234375,
          3291.889892578125,
          null,
          3230.550048828125,
          3231.969970703125,
          null,
          3137.5400390625,
          3102.2099609375,
          null,
          3104.110107421875,
          3090.6298828125,
          null,
          3121.760009765625,
          3256.820068359375,
          null,
          3249.530029296875,
          3215.47998046875,
          null,
          3262.949951171875,
          3266.93994140625,
          null,
          3153.22998046875,
          3107.469970703125,
          null,
          3008.3798828125,
          3250.6201171875,
          null,
          3290.489990234375,
          3267.5400390625,
          null,
          3245.969970703125,
          3240.81005859375,
          null,
          3269.530029296875,
          3266.3798828125,
          null
         ]
        },
        {
         "line": {
          "color": "green",
          "width": 1
         },
         "name": "Closing price",
         "type": "scatter",
         "x": [
          "2022-01-04T00:00:00",
          "2022-01-05T00:00:00",
          "2022-01-06T00:00:00",
          "2022-01-07T00:00:00",
          "2022-01-10T00:00:00",
          "2022-01-11T00:00:00",
          "2022-01-12T00:00:00",
          "2022-01-13T00:00:00",
          "2022-01-14T00:00:00",
          "2022-01-17T00:00:00",
          "2022-01-18T00:00:00",
          "2022-01-19T00:00:00",
          "2022-01-20T00:00:00",
          "2022-01-21T00:00:00",
          "2022-01-24T00:00:00",
          "2022-01-25T00:00:00",
          "2022-01-26T00:00:00",
          "2022-01-27T00:00:00",
          "2022-01-28T00:00:00",
          "2022-01-31T00:00:00",
          "2022-02-03T00:00:00",
          "2022-02-04T00:00:00",
          "2022-02-07T00:00:00",
          "2022-02-08T00:00:00",
          "2022-02-09T00:00:00",
          "2022-02-10T00:00:00",
          "2022-02-11T00:00:00",
          "2022-02-14T00:00:00",
          "2022-02-15T00:00:00",
          "2022-02-16T00:00:00",
          "2022-02-17T00:00:00",
          "2022-02-18T00:00:00",
          "2022-02-21T00:00:00",
          "2022-02-22T00:00:00",
          "2022-02-23T00:00:00",
          "2022-02-24T00:00:00",
          "2022-02-25T00:00:00",
          "2022-02-28T00:00:00",
          "2022-03-01T00:00:00",
          "2022-03-02T00:00:00",
          "2022-03-03T00:00:00",
          "2022-03-04T00:00:00",
          "2022-03-07T00:00:00",
          "2022-03-08T00:00:00",
          "2022-03-09T00:00:00",
          "2022-03-10T00:00:00",
          "2022-03-11T00:00:00",
          "2022-03-14T00:00:00",
          "2022-03-15T00:00:00",
          "2022-03-16T00:00:00",
          "2022-03-17T00:00:00",
          "2022-03-18T00:00:00",
          "2022-03-21T00:00:00",
          "2022-03-22T00:00:00",
          "2022-03-23T00:00:00",
          "2022-03-24T00:00:00",
          "2022-03-25T00:00:00",
          "2022-03-28T00:00:00",
          "2022-03-29T00:00:00",
          "2022-03-30T00:00:00",
          "2022-03-31T00:00:00",
          "2022-04-01T00:00:00",
          "2022-04-04T00:00:00",
          "2022-04-05T00:00:00",
          "2022-04-06T00:00:00",
          "2022-04-07T00:00:00",
          "2022-04-08T00:00:00",
          "2022-04-11T00:00:00",
          "2022-04-12T00:00:00",
          "2022-04-13T00:00:00",
          "2022-04-14T00:00:00",
          "2022-04-18T00:00:00",
          "2022-04-19T00:00:00",
          "2022-04-20T00:00:00",
          "2022-04-21T00:00:00",
          "2022-04-22T00:00:00",
          "2022-04-25T00:00:00",
          "2022-04-26T00:00:00",
          "2022-04-27T00:00:00",
          "2022-04-28T00:00:00",
          "2022-04-29T00:00:00",
          "2022-05-04T00:00:00",
          "2022-05-05T00:00:00",
          "2022-05-06T00:00:00",
          "2022-05-09T00:00:00",
          "2022-05-10T00:00:00",
          "2022-05-11T00:00:00",
          "2022-05-12T00:00:00",
          "2022-05-13T00:00:00",
          "2022-05-17T00:00:00",
          "2022-05-18T00:00:00",
          "2022-05-19T00:00:00",
          "2022-05-20T00:00:00",
          "2022-05-23T00:00:00",
          "2022-05-24T00:00:00",
          "2022-05-25T00:00:00",
          "2022-05-26T00:00:00",
          "2022-05-27T00:00:00",
          "2022-05-30T00:00:00",
          "2022-05-31T00:00:00",
          "2022-06-01T00:00:00",
          "2022-06-02T00:00:00",
          "2022-06-03T00:00:00",
          "2022-06-06T00:00:00",
          "2022-06-07T00:00:00",
          "2022-06-08T00:00:00",
          "2022-06-09T00:00:00",
          "2022-06-10T00:00:00",
          "2022-06-13T00:00:00",
          "2022-06-14T00:00:00",
          "2022-06-15T00:00:00",
          "2022-06-16T00:00:00",
          "2022-06-17T00:00:00",
          "2022-06-20T00:00:00",
          "2022-06-21T00:00:00",
          "2022-06-22T00:00:00",
          "2022-06-23T00:00:00",
          "2022-06-24T00:00:00",
          "2022-06-27T00:00:00",
          "2022-06-28T00:00:00",
          "2022-06-29T00:00:00",
          "2022-06-30T00:00:00",
          "2022-07-01T00:00:00",
          "2022-07-04T00:00:00",
          "2022-07-05T00:00:00",
          "2022-07-06T00:00:00",
          "2022-07-07T00:00:00",
          "2022-07-08T00:00:00",
          "2022-07-12T00:00:00",
          "2022-07-13T00:00:00",
          "2022-07-14T00:00:00",
          "2022-07-15T00:00:00",
          "2022-07-18T00:00:00",
          "2022-07-19T00:00:00",
          "2022-07-20T00:00:00",
          "2022-07-21T00:00:00",
          "2022-07-22T00:00:00",
          "2022-07-25T00:00:00",
          "2022-07-26T00:00:00",
          "2022-07-27T00:00:00",
          "2022-07-28T00:00:00",
          "2022-07-29T00:00:00",
          "2022-08-01T00:00:00",
          "2022-08-02T00:00:00",
          "2022-08-03T00:00:00",
          "2022-08-04T00:00:00",
          "2022-08-05T00:00:00",
          "2022-08-08T00:00:00",
          "2022-08-10T00:00:00",
          "2022-08-11T00:00:00",
          "2022-08-12T00:00:00",
          "2022-08-15T00:00:00",
          "2022-08-16T00:00:00",
          "2022-08-17T00:00:00",
          "2022-08-18T00:00:00",
          "2022-08-19T00:00:00",
          "2022-08-22T00:00:00",
          "2022-08-23T00:00:00",
          "2022-08-24T00:00:00",
          "2022-08-25T00:00:00",
          "2022-08-26T00:00:00",
          "2022-08-29T00:00:00",
          "2022-08-30T00:00:00",
          "2022-08-31T00:00:00",
          "2022-09-01T00:00:00",
          "2022-09-02T00:00:00",
          "2022-09-05T00:00:00",
          "2022-09-06T00:00:00",
          "2022-09-07T00:00:00",
          "2022-09-08T00:00:00",
          "2022-09-09T00:00:00",
          "2022-09-12T00:00:00",
          "2022-09-13T00:00:00",
          "2022-09-14T00:00:00",
          "2022-09-15T00:00:00",
          "2022-09-16T00:00:00",
          "2022-09-19T00:00:00",
          "2022-09-20T00:00:00",
          "2022-09-21T00:00:00",
          "2022-09-22T00:00:00",
          "2022-09-23T00:00:00",
          "2022-09-26T00:00:00",
          "2022-09-27T00:00:00",
          "2022-09-28T00:00:00",
          "2022-09-29T00:00:00",
          "2022-09-30T00:00:00",
          "2022-10-03T00:00:00",
          "2022-10-04T00:00:00",
          "2022-10-05T00:00:00",
          "2022-10-06T00:00:00",
          "2022-10-07T00:00:00",
          "2022-10-10T00:00:00",
          "2022-10-11T00:00:00",
          "2022-10-12T00:00:00",
          "2022-10-13T00:00:00",
          "2022-10-14T00:00:00",
          "2022-10-17T00:00:00",
          "2022-10-18T00:00:00",
          "2022-10-19T00:00:00",
          "2022-10-20T00:00:00",
          "2022-10-21T00:00:00",
          "2022-10-25T00:00:00",
          "2022-10-26T00:00:00",
          "2022-10-27T00:00:00",
          "2022-10-28T00:00:00",
          "2022-10-31T00:00:00",
          "2022-11-01T00:00:00",
          "2022-11-02T00:00:00",
          "2022-11-03T00:00:00",
          "2022-11-04T00:00:00",
          "2022-11-07T00:00:00",
          "2022-11-08T00:00:00",
          "2022-11-09T00:00:00",
          "2022-11-10T00:00:00",
          "2022-11-11T00:00:00",
          "2022-11-14T00:00:00",
          "2022-11-15T00:00:00",
          "2022-11-16T00:00:00",
          "2022-11-17T00:00:00",
          "2022-11-18T00:00:00",
          "2022-11-21T00:00:00",
          "2022-11-22T00:00:00",
          "2022-11-23T00:00:00",
          "2022-11-24T00:00:00",
          "2022-11-25T00:00:00",
          "2022-11-28T00:00:00",
          "2022-11-29T00:00:00",
          "2022-11-30T00:00:00",
          "2022-12-01T00:00:00",
          "2022-12-02T00:00:00",
          "2022-12-05T00:00:00",
          "2022-12-06T00:00:00",
          "2022-12-07T00:00:00",
          "2022-12-08T00:00:00",
          "2022-12-09T00:00:00",
          "2022-12-12T00:00:00",
          "2022-12-13T00:00:00",
          "2022-12-14T00:00:00",
          "2022-12-15T00:00:00",
          "2022-12-16T00:00:00",
          "2022-12-19T00:00:00",
          "2022-12-20T00:00:00",
          "2022-12-21T00:00:00",
          "2022-12-22T00:00:00",
          "2022-12-23T00:00:00",
          "2022-12-27T00:00:00",
          "2022-12-28T00:00:00",
          "2022-12-29T00:00:00",
          "2022-12-30T00:00:00"
         ],
         "y": [
          3181.1298828125,
          3163.43994140625,
          3184.300048828125,
          3205.260009765625,
          3227.050048828125,
          3246.3701171875,
          3254.97998046875,
          3257.300048828125,
          3281.969970703125,
          3287.949951171875,
          3280.0400390625,
          3283.93994140625,
          3294.820068359375,
          3294.860107421875,
          3283.35009765625,
          3247.760009765625,
          3271.570068359375,
          3260.030029296875,
          3246.330078125,
          3249.590087890625,
          3315.989990234375,
          3331.409912109375,
          3366.47998046875,
          3401.739990234375,
          3420.0400390625,
          3428,
          3428.949951171875,
          3421.199951171875,
          3421.3798828125,
          3439.300048828125,
          3441.570068359375,
          3428.89990234375,
          3436.360107421875,
          3400.580078125,
          3393,
          3276.06005859375,
          3294.469970703125,
          3242.239990234375,
          3278.6298828125,
          3244.39990234375,
          3253.64990234375,
          3226.780029296875,
          3187.820068359375,
          3148.860107421875,
          3195.3798828125,
          3240.72998046875,
          3249.659912109375,
          3232.030029296875,
          3236.0400390625,
          3290.89990234375,
          3322.7099609375,
          3330.6298828125,
          3355.510009765625,
          3350.169921875,
          3364.260009765625,
          3399.699951171875,
          3413.68994140625,
          3431.989990234375,
          3433.89990234375,
          3442.610107421875,
          3408.52001953125,
          3419.110107421875,
          3416.969970703125,
          3445.010009765625,
          3422.949951171875,
          3404.22998046875,
          3383.280029296875,
          3363.56005859375,
          3330.25,
          3342.219970703125,
          3335.85009765625,
          3303.070068359375,
          3307.1298828125,
          3335.320068359375,
          3348.4599609375,
          3361.110107421875,
          3339.590087890625,
          3322.050048828125,
          3320.669921875,
          3335.090087890625,
          3356.89990234375,
          3349.27001953125,
          3343.570068359375,
          3291.889892578125,
          3275.070068359375,
          3234.18994140625,
          3226.070068359375,
          3165.179931640625,
          3191.159912109375,
          3201.889892578125,
          3225.35009765625,
          3190.7099609375,
          3240.580078125,
          3213.64990234375,
          3195.0400390625,
          3179.580078125,
          3209.179931640625,
          3230.550048828125,
          3238.919921875,
          3232.489990234375,
          3244,
          3226.719970703125,
          3231.969970703125,
          3226.6298828125,
          3231.5400390625,
          3225.800048828125,
          3209.6201171875,
          3181.72998046875,
          3139.35009765625,
          3108.889892578125,
          3105.85009765625,
          3097.429931640625,
          3098.090087890625,
          3096.39990234375,
          3117.47998046875,
          3093.31005859375,
          3092.800048828125,
          3111.64990234375,
          3137.5400390625,
          3140.2099609375,
          3134.8701171875,
          3102.2099609375,
          3095.590087890625,
          3120.239990234375,
          3104.110107421875,
          3103.659912109375,
          3129.39990234375,
          3131.260009765625,
          3145.77001953125,
          3128.68994140625,
          3090.6298828125,
          3099.14990234375,
          3121.760009765625,
          3117.7900390625,
          3170.2900390625,
          3152.300048828125,
          3181.340087890625,
          3180.469970703125,
          3192.1201171875,
          3205.139892578125,
          3220.64990234375,
          3211.56005859375,
          3238.75,
          3239.14990234375,
          3252.06005859375,
          3269.860107421875,
          3282.8798828125,
          3270.97998046875,
          3286.330078125,
          3301.9599609375,
          3269.27001953125,
          3256.820068359375,
          3253.7900390625,
          3262.760009765625,
          3273.47998046875,
          3246.510009765625,
          3262.570068359375,
          3246.2099609375,
          3233.47998046875,
          3247.800048828125,
          3249.530029296875,
          3222.260009765625,
          3239.330078125,
          3221.669921875,
          3224.080078125,
          3205.68994140625,
          3215.47998046875,
          3224.179931640625,
          3210.830078125,
          3233.610107421875,
          3262.949951171875,
          3274.719970703125,
          3290.080078125,
          3258.02001953125,
          3267.97998046875,
          3268.2900390625,
          3256.31005859375,
          3266.93994140625,
          3261.7900390625,
          3263.070068359375,
          3227.10009765625,
          3181.969970703125,
          3165.5,
          3116.31005859375,
          3115.080078125,
          3130.239990234375,
          3107.090087890625,
          3138.89990234375,
          3153.22998046875,
          3151.56005859375,
          3145.81005859375,
          3107.469970703125,
          3105,
          3083.18994140625,
          3040.449951171875,
          3039.610107421875,
          3015.75,
          3025.8798828125,
          3022.800048828125,
          3022.699951171875,
          2969.949951171875,
          2984.14990234375,
          3008.3798828125,
          3015.239990234375,
          3059.18994140625,
          3093.110107421875,
          3130.5,
          3141.1298828125,
          3102.510009765625,
          3130.110107421875,
          3141.31005859375,
          3145.830078125,
          3165.5,
          3173.179931640625,
          3228.330078125,
          3260.800048828125,
          3275.280029296875,
          3266.169921875,
          3286.0400390625,
          3272.22998046875,
          3250.6201171875,
          3259.56005859375,
          3255.989990234375,
          3252.8798828125,
          3244.550048828125,
          3240.06005859375,
          3276.360107421875,
          3290.489990234375,
          3292.72998046875,
          3259.139892578125,
          3267.5400390625,
          3252.3701171875,
          3225.449951171875,
          3236.080078125,
          3245.969970703125,
          3239.659912109375,
          3271.280029296875,
          3278.570068359375,
          3273.75,
          3240.81005859375,
          3256.610107421875,
          3253.969970703125,
          3256.18994140625,
          3269.530029296875,
          3257.699951171875,
          3266.3798828125,
          3266.969970703125,
          3249.239990234375,
          3251.320068359375
         ]
        }
       ],
       "layout": {
        "font": {
         "size": 18
        },
        "template": {
         "data": {
          "bar": [
           {
            "error_x": {
             "color": "#2a3f5f"
            },
            "error_y": {
             "color": "#2a3f5f"
            },
            "marker": {
             "line": {
              "color": "#E5ECF6",
              "width": 0.5
             },
             "pattern": {
              "fillmode": "overlay",
              "size": 10,
              "solidity": 0.2
             }
            },
            "type": "bar"
           }
          ],
          "barpolar": [
           {
            "marker": {
             "line": {
              "color": "#E5ECF6",
              "width": 0.5
             },
             "pattern": {
              "fillmode": "overlay",
              "size": 10,
              "solidity": 0.2
             }
            },
            "type": "barpolar"
           }
          ],
          "carpet": [
           {
            "aaxis": {
             "endlinecolor": "#2a3f5f",
             "gridcolor": "white",
             "linecolor": "white",
             "minorgridcolor": "white",
             "startlinecolor": "#2a3f5f"
            },
            "baxis": {
             "endlinecolor": "#2a3f5f",
             "gridcolor": "white",
             "linecolor": "white",
             "minorgridcolor": "white",
             "startlinecolor": "#2a3f5f"
            },
            "type": "carpet"
           }
          ],
          "choropleth": [
           {
            "colorbar": {
             "outlinewidth": 0,
             "ticks": ""
            },
            "type": "choropleth"
           }
          ],
          "contour": [
           {
            "colorbar": {
             "outlinewidth": 0,
             "ticks": ""
            },
            "colorscale": [
             [
              0,
              "#0d0887"
             ],
             [
              0.1111111111111111,
              "#46039f"
             ],
             [
              0.2222222222222222,
              "#7201a8"
             ],
             [
              0.3333333333333333,
              "#9c179e"
             ],
             [
              0.4444444444444444,
              "#bd3786"
             ],
             [
              0.5555555555555556,
              "#d8576b"
             ],
             [
              0.6666666666666666,
              "#ed7953"
             ],
             [
              0.7777777777777778,
              "#fb9f3a"
             ],
             [
              0.8888888888888888,
              "#fdca26"
             ],
             [
              1,
              "#f0f921"
             ]
            ],
            "type": "contour"
           }
          ],
          "contourcarpet": [
           {
            "colorbar": {
             "outlinewidth": 0,
             "ticks": ""
            },
            "type": "contourcarpet"
           }
          ],
          "heatmap": [
           {
            "colorbar": {
             "outlinewidth": 0,
             "ticks": ""
            },
            "colorscale": [
             [
              0,
              "#0d0887"
             ],
             [
              0.1111111111111111,
              "#46039f"
             ],
             [
              0.2222222222222222,
              "#7201a8"
             ],
             [
              0.3333333333333333,
              "#9c179e"
             ],
             [
              0.4444444444444444,
              "#bd3786"
             ],
             [
              0.5555555555555556,
              "#d8576b"
             ],
             [
              0.6666666666666666,
              "#ed7953"
             ],
             [
              0.7777777777777778,
              "#fb9f3a"
             ],
             [
              0.8888888888888888,
              "#fdca26"
             ],
             [
              1,
              "#f0f921"
             ]
            ],
            "type": "heatmap"
           }
          ],
          "heatmapgl": [
           {
            "colorbar": {
             "outlinewidth": 0,
             "ticks": ""
            },
            "colorscale": [
             [
              0,
              "#0d0887"
             ],
             [
              0.1111111111111111,
              "#46039f"
             ],
             [
              0.2222222222222222,
              "#7201a8"
             ],
             [
              0.3333333333333333,
              "#9c179e"
             ],
             [
              0.4444444444444444,
              "#bd3786"
             ],
             [
              0.5555555555555556,
              "#d8576b"
             ],
             [
              0.6666666666666666,
              "#ed7953"
             ],
             [
              0.7777777777777778,
              "#fb9f3a"
             ],
             [
              0.8888888888888888,
              "#fdca26"
             ],
             [
              1,
              "#f0f921"
             ]
            ],
            "type": "heatmapgl"
           }
          ],
          "histogram": [
           {
            "marker": {
             "pattern": {
              "fillmode": "overlay",
              "size": 10,
              "solidity": 0.2
             }
            },
            "type": "histogram"
           }
          ],
          "histogram2d": [
           {
            "colorbar": {
             "outlinewidth": 0,
             "ticks": ""
            },
            "colorscale": [
             [
              0,
              "#0d0887"
             ],
             [
              0.1111111111111111,
              "#46039f"
             ],
             [
              0.2222222222222222,
              "#7201a8"
             ],
             [
              0.3333333333333333,
              "#9c179e"
             ],
             [
              0.4444444444444444,
              "#bd3786"
             ],
             [
              0.5555555555555556,
              "#d8576b"
             ],
             [
              0.6666666666666666,
              "#ed7953"
             ],
             [
              0.7777777777777778,
              "#fb9f3a"
             ],
             [
              0.8888888888888888,
              "#fdca26"
             ],
             [
              1,
              "#f0f921"
             ]
            ],
            "type": "histogram2d"
           }
          ],
          "histogram2dcontour": [
           {
            "colorbar": {
             "outlinewidth": 0,
             "ticks": ""
            },
            "colorscale": [
             [
              0,
              "#0d0887"
             ],
             [
              0.1111111111111111,
              "#46039f"
             ],
             [
              0.2222222222222222,
              "#7201a8"
             ],
             [
              0.3333333333333333,
              "#9c179e"
             ],
             [
              0.4444444444444444,
              "#bd3786"
             ],
             [
              0.5555555555555556,
              "#d8576b"
             ],
             [
              0.6666666666666666,
              "#ed7953"
             ],
             [
              0.7777777777777778,
              "#fb9f3a"
             ],
             [
              0.8888888888888888,
              "#fdca26"
             ],
             [
              1,
              "#f0f921"
             ]
            ],
            "type": "histogram2dcontour"
           }
          ],
          "mesh3d": [
           {
            "colorbar": {
             "outlinewidth": 0,
             "ticks": ""
            },
            "type": "mesh3d"
           }
          ],
          "parcoords": [
           {
            "line": {
             "colorbar": {
              "outlinewidth": 0,
              "ticks": ""
             }
            },
            "type": "parcoords"
           }
          ],
          "pie": [
           {
            "automargin": true,
            "type": "pie"
           }
          ],
          "scatter": [
           {
            "fillpattern": {
             "fillmode": "overlay",
             "size": 10,
             "solidity": 0.2
            },
            "type": "scatter"
           }
          ],
          "scatter3d": [
           {
            "line": {
             "colorbar": {
              "outlinewidth": 0,
              "ticks": ""
             }
            },
            "marker": {
             "colorbar": {
              "outlinewidth": 0,
              "ticks": ""
             }
            },
            "type": "scatter3d"
           }
          ],
          "scattercarpet": [
           {
            "marker": {
             "colorbar": {
              "outlinewidth": 0,
              "ticks": ""
             }
            },
            "type": "scattercarpet"
           }
          ],
          "scattergeo": [
           {
            "marker": {
             "colorbar": {
              "outlinewidth": 0,
              "ticks": ""
             }
            },
            "type": "scattergeo"
           }
          ],
          "scattergl": [
           {
            "marker": {
             "colorbar": {
              "outlinewidth": 0,
              "ticks": ""
             }
            },
            "type": "scattergl"
           }
          ],
          "scattermapbox": [
           {
            "marker": {
             "colorbar": {
              "outlinewidth": 0,
              "ticks": ""
             }
            },
            "type": "scattermapbox"
           }
          ],
          "scatterpolar": [
           {
            "marker": {
             "colorbar": {
              "outlinewidth": 0,
              "ticks": ""
             }
            },
            "type": "scatterpolar"
           }
          ],
          "scatterpolargl": [
           {
            "marker": {
             "colorbar": {
              "outlinewidth": 0,
              "ticks": ""
             }
            },
            "type": "scatterpolargl"
           }
          ],
          "scatterternary": [
           {
            "marker": {
             "colorbar": {
              "outlinewidth": 0,
              "ticks": ""
             }
            },
            "type": "scatterternary"
           }
          ],
          "surface": [
           {
            "colorbar": {
             "outlinewidth": 0,
             "ticks": ""
            },
            "colorscale": [
             [
              0,
              "#0d0887"
             ],
             [
              0.1111111111111111,
              "#46039f"
             ],
             [
              0.2222222222222222,
              "#7201a8"
             ],
             [
              0.3333333333333333,
              "#9c179e"
             ],
             [
              0.4444444444444444,
              "#bd3786"
             ],
             [
              0.5555555555555556,
              "#d8576b"
             ],
             [
              0.6666666666666666,
              "#ed7953"
             ],
             [
              0.7777777777777778,
              "#fb9f3a"
             ],
             [
              0.8888888888888888,
              "#fdca26"
             ],
             [
              1,
              "#f0f921"
             ]
            ],
            "type": "surface"
           }
          ],
          "table": [
           {
            "cells": {
             "fill": {
              "color": "#EBF0F8"
             },
             "line": {
              "color": "white"
             }
            },
            "header": {
             "fill": {
              "color": "#C8D4E3"
             },
             "line": {
              "color": "white"
             }
            },
            "type": "table"
           }
          ]
         },
         "layout": {
          "annotationdefaults": {
           "arrowcolor": "#2a3f5f",
           "arrowhead": 0,
           "arrowwidth": 1
          },
          "autotypenumbers": "strict",
          "coloraxis": {
           "colorbar": {
            "outlinewidth": 0,
            "ticks": ""
           }
          },
          "colorscale": {
           "diverging": [
            [
             0,
             "#8e0152"
            ],
            [
             0.1,
             "#c51b7d"
            ],
            [
             0.2,
             "#de77ae"
            ],
            [
             0.3,
             "#f1b6da"
            ],
            [
             0.4,
             "#fde0ef"
            ],
            [
             0.5,
             "#f7f7f7"
            ],
            [
             0.6,
             "#e6f5d0"
            ],
            [
             0.7,
             "#b8e186"
            ],
            [
             0.8,
             "#7fbc41"
            ],
            [
             0.9,
             "#4d9221"
            ],
            [
             1,
             "#276419"
            ]
           ],
           "sequential": [
            [
             0,
             "#0d0887"
            ],
            [
             0.1111111111111111,
             "#46039f"
            ],
            [
             0.2222222222222222,
             "#7201a8"
            ],
            [
             0.3333333333333333,
             "#9c179e"
            ],
            [
             0.4444444444444444,
             "#bd3786"
            ],
            [
             0.5555555555555556,
             "#d8576b"
            ],
            [
             0.6666666666666666,
             "#ed7953"
            ],
            [
             0.7777777777777778,
             "#fb9f3a"
            ],
            [
             0.8888888888888888,
             "#fdca26"
            ],
            [
             1,
             "#f0f921"
            ]
           ],
           "sequentialminus": [
            [
             0,
             "#0d0887"
            ],
            [
             0.1111111111111111,
             "#46039f"
            ],
            [
             0.2222222222222222,
             "#7201a8"
            ],
            [
             0.3333333333333333,
             "#9c179e"
            ],
            [
             0.4444444444444444,
             "#bd3786"
            ],
            [
             0.5555555555555556,
             "#d8576b"
            ],
            [
             0.6666666666666666,
             "#ed7953"
            ],
            [
             0.7777777777777778,
             "#fb9f3a"
            ],
            [
             0.8888888888888888,
             "#fdca26"
            ],
            [
             1,
             "#f0f921"
            ]
           ]
          },
          "colorway": [
           "#636efa",
           "#EF553B",
           "#00cc96",
           "#ab63fa",
           "#FFA15A",
           "#19d3f3",
           "#FF6692",
           "#B6E880",
           "#FF97FF",
           "#FECB52"
          ],
          "font": {
           "color": "#2a3f5f"
          },
          "geo": {
           "bgcolor": "white",
           "lakecolor": "white",
           "landcolor": "#E5ECF6",
           "showlakes": true,
           "showland": true,
           "subunitcolor": "white"
          },
          "hoverlabel": {
           "align": "left"
          },
          "hovermode": "closest",
          "mapbox": {
           "style": "light"
          },
          "paper_bgcolor": "white",
          "plot_bgcolor": "#E5ECF6",
          "polar": {
           "angularaxis": {
            "gridcolor": "white",
            "linecolor": "white",
            "ticks": ""
           },
           "bgcolor": "#E5ECF6",
           "radialaxis": {
            "gridcolor": "white",
            "linecolor": "white",
            "ticks": ""
           }
          },
          "scene": {
           "xaxis": {
            "backgroundcolor": "#E5ECF6",
            "gridcolor": "white",
            "gridwidth": 2,
            "linecolor": "white",
            "showbackground": true,
            "ticks": "",
            "zerolinecolor": "white"
           },
           "yaxis": {
            "backgroundcolor": "#E5ECF6",
            "gridcolor": "white",
            "gridwidth": 2,
            "linecolor": "white",
            "showbackground": true,
            "ticks": "",
            "zerolinecolor": "white"
           },
           "zaxis": {
            "backgroundcolor": "#E5ECF6",
            "gridcolor": "white",
            "gridwidth": 2,
            "linecolor": "white",
            "showbackground": true,
            "ticks": "",
            "zerolinecolor": "white"
           }
          },
          "shapedefaults": {
           "line": {
            "color": "#2a3f5f"
           }
          },
          "ternary": {
           "aaxis": {
            "gridcolor": "white",
            "linecolor": "white",
            "ticks": ""
           },
           "baxis": {
            "gridcolor": "white",
            "linecolor": "white",
            "ticks": ""
           },
           "bgcolor": "#E5ECF6",
           "caxis": {
            "gridcolor": "white",
            "linecolor": "white",
            "ticks": ""
           }
          },
          "title": {
           "x": 0.05
          },
          "xaxis": {
           "automargin": true,
           "gridcolor": "white",
           "linecolor": "white",
           "ticks": "",
           "title": {
            "standoff": 15
           },
           "zerolinecolor": "white",
           "zerolinewidth": 2
          },
          "yaxis": {
           "automargin": true,
           "gridcolor": "white",
           "linecolor": "white",
           "ticks": "",
           "title": {
            "standoff": 15
           },
           "zerolinecolor": "white",
           "zerolinewidth": 2
          }
         }
        },
        "title": {
         "text": "Trading simulation plot of Classification + Univariate predictions"
        },
        "xaxis": {
         "title": {
          "text": "Date"
         }
        },
        "yaxis": {
         "title": {
          "text": "Price"
         }
        }
       }
      }
     },
     "metadata": {},
     "output_type": "display_data"
    },
    {
     "data": {
      "application/vnd.plotly.v1+json": {
       "config": {
        "linkText": "Export to plotly.com",
        "plotlyServerURL": "https://plotly.com",
        "showLink": false
       },
       "data": [
        {
         "line": {
          "color": "red",
          "width": 2
         },
         "name": "Short positions",
         "type": "scatter",
         "x": [
          "2022-01-25T00:00:00",
          "2022-02-03T00:00:00",
          null,
          "2022-02-23T00:00:00",
          "2022-03-10T00:00:00",
          null,
          "2022-04-07T00:00:00",
          "2022-04-20T00:00:00",
          null,
          "2022-04-26T00:00:00",
          "2022-04-29T00:00:00",
          null,
          "2022-05-06T00:00:00",
          "2022-05-27T00:00:00",
          null,
          "2022-06-03T00:00:00",
          "2022-06-27T00:00:00",
          null,
          "2022-06-30T00:00:00",
          "2022-07-05T00:00:00",
          null,
          "2022-07-14T00:00:00",
          "2022-07-18T00:00:00",
          null,
          "2022-08-15T00:00:00",
          "2022-08-26T00:00:00",
          null,
          "2022-09-02T00:00:00",
          "2022-09-09T00:00:00",
          null,
          "2022-09-19T00:00:00",
          "2022-10-05T00:00:00",
          null,
          "2022-10-10T00:00:00",
          "2022-10-26T00:00:00",
          null,
          "2022-11-21T00:00:00",
          "2022-11-30T00:00:00",
          null,
          "2022-12-05T00:00:00",
          "2022-12-09T00:00:00",
          null,
          "2022-12-16T00:00:00",
          "2022-12-22T00:00:00",
          null,
          "2022-12-27T00:00:00"
         ],
         "y": [
          3247.760009765625,
          3315.989990234375,
          null,
          3393,
          3240.72998046875,
          null,
          3404.22998046875,
          3335.320068359375,
          null,
          3322.050048828125,
          3356.89990234375,
          null,
          3291.889892578125,
          3230.550048828125,
          null,
          3231.969970703125,
          3137.5400390625,
          null,
          3102.2099609375,
          3104.110107421875,
          null,
          3090.6298828125,
          3121.760009765625,
          null,
          3256.820068359375,
          3249.530029296875,
          null,
          3205.68994140625,
          3262.949951171875,
          null,
          3256.31005859375,
          3153.22998046875,
          null,
          3107.469970703125,
          3008.3798828125,
          null,
          3250.6201171875,
          3290.489990234375,
          null,
          3267.5400390625,
          3245.969970703125,
          null,
          3240.81005859375,
          3269.530029296875,
          null,
          3266.3798828125
         ]
        },
        {
         "line": {
          "color": "blue",
          "width": 2
         },
         "name": "Long positions",
         "type": "scatter",
         "x": [
          "2022-01-04T00:00:00",
          "2022-01-25T00:00:00",
          null,
          "2022-02-03T00:00:00",
          "2022-02-23T00:00:00",
          null,
          "2022-03-10T00:00:00",
          "2022-04-07T00:00:00",
          null,
          "2022-04-20T00:00:00",
          "2022-04-26T00:00:00",
          null,
          "2022-04-29T00:00:00",
          "2022-05-06T00:00:00",
          null,
          "2022-05-27T00:00:00",
          "2022-06-03T00:00:00",
          null,
          "2022-06-27T00:00:00",
          "2022-06-30T00:00:00",
          null,
          "2022-07-05T00:00:00",
          "2022-07-14T00:00:00",
          null,
          "2022-07-18T00:00:00",
          "2022-08-15T00:00:00",
          null,
          "2022-08-26T00:00:00",
          "2022-09-02T00:00:00",
          null,
          "2022-09-09T00:00:00",
          "2022-09-19T00:00:00",
          null,
          "2022-10-05T00:00:00",
          "2022-10-10T00:00:00",
          null,
          "2022-10-26T00:00:00",
          "2022-11-21T00:00:00",
          null,
          "2022-11-30T00:00:00",
          "2022-12-05T00:00:00",
          null,
          "2022-12-09T00:00:00",
          "2022-12-16T00:00:00",
          null,
          "2022-12-22T00:00:00",
          "2022-12-27T00:00:00",
          null
         ],
         "y": [
          3181.1298828125,
          3247.760009765625,
          null,
          3315.989990234375,
          3393,
          null,
          3240.72998046875,
          3404.22998046875,
          null,
          3335.320068359375,
          3322.050048828125,
          null,
          3356.89990234375,
          3291.889892578125,
          null,
          3230.550048828125,
          3231.969970703125,
          null,
          3137.5400390625,
          3102.2099609375,
          null,
          3104.110107421875,
          3090.6298828125,
          null,
          3121.760009765625,
          3256.820068359375,
          null,
          3249.530029296875,
          3205.68994140625,
          null,
          3262.949951171875,
          3256.31005859375,
          null,
          3153.22998046875,
          3107.469970703125,
          null,
          3008.3798828125,
          3250.6201171875,
          null,
          3290.489990234375,
          3267.5400390625,
          null,
          3245.969970703125,
          3240.81005859375,
          null,
          3269.530029296875,
          3266.3798828125,
          null
         ]
        },
        {
         "line": {
          "color": "green",
          "width": 1
         },
         "name": "Closing price",
         "type": "scatter",
         "x": [
          "2022-01-04T00:00:00",
          "2022-01-05T00:00:00",
          "2022-01-06T00:00:00",
          "2022-01-07T00:00:00",
          "2022-01-10T00:00:00",
          "2022-01-11T00:00:00",
          "2022-01-12T00:00:00",
          "2022-01-13T00:00:00",
          "2022-01-14T00:00:00",
          "2022-01-17T00:00:00",
          "2022-01-18T00:00:00",
          "2022-01-19T00:00:00",
          "2022-01-20T00:00:00",
          "2022-01-21T00:00:00",
          "2022-01-24T00:00:00",
          "2022-01-25T00:00:00",
          "2022-01-26T00:00:00",
          "2022-01-27T00:00:00",
          "2022-01-28T00:00:00",
          "2022-01-31T00:00:00",
          "2022-02-03T00:00:00",
          "2022-02-04T00:00:00",
          "2022-02-07T00:00:00",
          "2022-02-08T00:00:00",
          "2022-02-09T00:00:00",
          "2022-02-10T00:00:00",
          "2022-02-11T00:00:00",
          "2022-02-14T00:00:00",
          "2022-02-15T00:00:00",
          "2022-02-16T00:00:00",
          "2022-02-17T00:00:00",
          "2022-02-18T00:00:00",
          "2022-02-21T00:00:00",
          "2022-02-22T00:00:00",
          "2022-02-23T00:00:00",
          "2022-02-24T00:00:00",
          "2022-02-25T00:00:00",
          "2022-02-28T00:00:00",
          "2022-03-01T00:00:00",
          "2022-03-02T00:00:00",
          "2022-03-03T00:00:00",
          "2022-03-04T00:00:00",
          "2022-03-07T00:00:00",
          "2022-03-08T00:00:00",
          "2022-03-09T00:00:00",
          "2022-03-10T00:00:00",
          "2022-03-11T00:00:00",
          "2022-03-14T00:00:00",
          "2022-03-15T00:00:00",
          "2022-03-16T00:00:00",
          "2022-03-17T00:00:00",
          "2022-03-18T00:00:00",
          "2022-03-21T00:00:00",
          "2022-03-22T00:00:00",
          "2022-03-23T00:00:00",
          "2022-03-24T00:00:00",
          "2022-03-25T00:00:00",
          "2022-03-28T00:00:00",
          "2022-03-29T00:00:00",
          "2022-03-30T00:00:00",
          "2022-03-31T00:00:00",
          "2022-04-01T00:00:00",
          "2022-04-04T00:00:00",
          "2022-04-05T00:00:00",
          "2022-04-06T00:00:00",
          "2022-04-07T00:00:00",
          "2022-04-08T00:00:00",
          "2022-04-11T00:00:00",
          "2022-04-12T00:00:00",
          "2022-04-13T00:00:00",
          "2022-04-14T00:00:00",
          "2022-04-18T00:00:00",
          "2022-04-19T00:00:00",
          "2022-04-20T00:00:00",
          "2022-04-21T00:00:00",
          "2022-04-22T00:00:00",
          "2022-04-25T00:00:00",
          "2022-04-26T00:00:00",
          "2022-04-27T00:00:00",
          "2022-04-28T00:00:00",
          "2022-04-29T00:00:00",
          "2022-05-04T00:00:00",
          "2022-05-05T00:00:00",
          "2022-05-06T00:00:00",
          "2022-05-09T00:00:00",
          "2022-05-10T00:00:00",
          "2022-05-11T00:00:00",
          "2022-05-12T00:00:00",
          "2022-05-13T00:00:00",
          "2022-05-17T00:00:00",
          "2022-05-18T00:00:00",
          "2022-05-19T00:00:00",
          "2022-05-20T00:00:00",
          "2022-05-23T00:00:00",
          "2022-05-24T00:00:00",
          "2022-05-25T00:00:00",
          "2022-05-26T00:00:00",
          "2022-05-27T00:00:00",
          "2022-05-30T00:00:00",
          "2022-05-31T00:00:00",
          "2022-06-01T00:00:00",
          "2022-06-02T00:00:00",
          "2022-06-03T00:00:00",
          "2022-06-06T00:00:00",
          "2022-06-07T00:00:00",
          "2022-06-08T00:00:00",
          "2022-06-09T00:00:00",
          "2022-06-10T00:00:00",
          "2022-06-13T00:00:00",
          "2022-06-14T00:00:00",
          "2022-06-15T00:00:00",
          "2022-06-16T00:00:00",
          "2022-06-17T00:00:00",
          "2022-06-20T00:00:00",
          "2022-06-21T00:00:00",
          "2022-06-22T00:00:00",
          "2022-06-23T00:00:00",
          "2022-06-24T00:00:00",
          "2022-06-27T00:00:00",
          "2022-06-28T00:00:00",
          "2022-06-29T00:00:00",
          "2022-06-30T00:00:00",
          "2022-07-01T00:00:00",
          "2022-07-04T00:00:00",
          "2022-07-05T00:00:00",
          "2022-07-06T00:00:00",
          "2022-07-07T00:00:00",
          "2022-07-08T00:00:00",
          "2022-07-12T00:00:00",
          "2022-07-13T00:00:00",
          "2022-07-14T00:00:00",
          "2022-07-15T00:00:00",
          "2022-07-18T00:00:00",
          "2022-07-19T00:00:00",
          "2022-07-20T00:00:00",
          "2022-07-21T00:00:00",
          "2022-07-22T00:00:00",
          "2022-07-25T00:00:00",
          "2022-07-26T00:00:00",
          "2022-07-27T00:00:00",
          "2022-07-28T00:00:00",
          "2022-07-29T00:00:00",
          "2022-08-01T00:00:00",
          "2022-08-02T00:00:00",
          "2022-08-03T00:00:00",
          "2022-08-04T00:00:00",
          "2022-08-05T00:00:00",
          "2022-08-08T00:00:00",
          "2022-08-10T00:00:00",
          "2022-08-11T00:00:00",
          "2022-08-12T00:00:00",
          "2022-08-15T00:00:00",
          "2022-08-16T00:00:00",
          "2022-08-17T00:00:00",
          "2022-08-18T00:00:00",
          "2022-08-19T00:00:00",
          "2022-08-22T00:00:00",
          "2022-08-23T00:00:00",
          "2022-08-24T00:00:00",
          "2022-08-25T00:00:00",
          "2022-08-26T00:00:00",
          "2022-08-29T00:00:00",
          "2022-08-30T00:00:00",
          "2022-08-31T00:00:00",
          "2022-09-01T00:00:00",
          "2022-09-02T00:00:00",
          "2022-09-05T00:00:00",
          "2022-09-06T00:00:00",
          "2022-09-07T00:00:00",
          "2022-09-08T00:00:00",
          "2022-09-09T00:00:00",
          "2022-09-12T00:00:00",
          "2022-09-13T00:00:00",
          "2022-09-14T00:00:00",
          "2022-09-15T00:00:00",
          "2022-09-16T00:00:00",
          "2022-09-19T00:00:00",
          "2022-09-20T00:00:00",
          "2022-09-21T00:00:00",
          "2022-09-22T00:00:00",
          "2022-09-23T00:00:00",
          "2022-09-26T00:00:00",
          "2022-09-27T00:00:00",
          "2022-09-28T00:00:00",
          "2022-09-29T00:00:00",
          "2022-09-30T00:00:00",
          "2022-10-03T00:00:00",
          "2022-10-04T00:00:00",
          "2022-10-05T00:00:00",
          "2022-10-06T00:00:00",
          "2022-10-07T00:00:00",
          "2022-10-10T00:00:00",
          "2022-10-11T00:00:00",
          "2022-10-12T00:00:00",
          "2022-10-13T00:00:00",
          "2022-10-14T00:00:00",
          "2022-10-17T00:00:00",
          "2022-10-18T00:00:00",
          "2022-10-19T00:00:00",
          "2022-10-20T00:00:00",
          "2022-10-21T00:00:00",
          "2022-10-25T00:00:00",
          "2022-10-26T00:00:00",
          "2022-10-27T00:00:00",
          "2022-10-28T00:00:00",
          "2022-10-31T00:00:00",
          "2022-11-01T00:00:00",
          "2022-11-02T00:00:00",
          "2022-11-03T00:00:00",
          "2022-11-04T00:00:00",
          "2022-11-07T00:00:00",
          "2022-11-08T00:00:00",
          "2022-11-09T00:00:00",
          "2022-11-10T00:00:00",
          "2022-11-11T00:00:00",
          "2022-11-14T00:00:00",
          "2022-11-15T00:00:00",
          "2022-11-16T00:00:00",
          "2022-11-17T00:00:00",
          "2022-11-18T00:00:00",
          "2022-11-21T00:00:00",
          "2022-11-22T00:00:00",
          "2022-11-23T00:00:00",
          "2022-11-24T00:00:00",
          "2022-11-25T00:00:00",
          "2022-11-28T00:00:00",
          "2022-11-29T00:00:00",
          "2022-11-30T00:00:00",
          "2022-12-01T00:00:00",
          "2022-12-02T00:00:00",
          "2022-12-05T00:00:00",
          "2022-12-06T00:00:00",
          "2022-12-07T00:00:00",
          "2022-12-08T00:00:00",
          "2022-12-09T00:00:00",
          "2022-12-12T00:00:00",
          "2022-12-13T00:00:00",
          "2022-12-14T00:00:00",
          "2022-12-15T00:00:00",
          "2022-12-16T00:00:00",
          "2022-12-19T00:00:00",
          "2022-12-20T00:00:00",
          "2022-12-21T00:00:00",
          "2022-12-22T00:00:00",
          "2022-12-23T00:00:00",
          "2022-12-27T00:00:00",
          "2022-12-28T00:00:00",
          "2022-12-29T00:00:00",
          "2022-12-30T00:00:00"
         ],
         "y": [
          3181.1298828125,
          3163.43994140625,
          3184.300048828125,
          3205.260009765625,
          3227.050048828125,
          3246.3701171875,
          3254.97998046875,
          3257.300048828125,
          3281.969970703125,
          3287.949951171875,
          3280.0400390625,
          3283.93994140625,
          3294.820068359375,
          3294.860107421875,
          3283.35009765625,
          3247.760009765625,
          3271.570068359375,
          3260.030029296875,
          3246.330078125,
          3249.590087890625,
          3315.989990234375,
          3331.409912109375,
          3366.47998046875,
          3401.739990234375,
          3420.0400390625,
          3428,
          3428.949951171875,
          3421.199951171875,
          3421.3798828125,
          3439.300048828125,
          3441.570068359375,
          3428.89990234375,
          3436.360107421875,
          3400.580078125,
          3393,
          3276.06005859375,
          3294.469970703125,
          3242.239990234375,
          3278.6298828125,
          3244.39990234375,
          3253.64990234375,
          3226.780029296875,
          3187.820068359375,
          3148.860107421875,
          3195.3798828125,
          3240.72998046875,
          3249.659912109375,
          3232.030029296875,
          3236.0400390625,
          3290.89990234375,
          3322.7099609375,
          3330.6298828125,
          3355.510009765625,
          3350.169921875,
          3364.260009765625,
          3399.699951171875,
          3413.68994140625,
          3431.989990234375,
          3433.89990234375,
          3442.610107421875,
          3408.52001953125,
          3419.110107421875,
          3416.969970703125,
          3445.010009765625,
          3422.949951171875,
          3404.22998046875,
          3383.280029296875,
          3363.56005859375,
          3330.25,
          3342.219970703125,
          3335.85009765625,
          3303.070068359375,
          3307.1298828125,
          3335.320068359375,
          3348.4599609375,
          3361.110107421875,
          3339.590087890625,
          3322.050048828125,
          3320.669921875,
          3335.090087890625,
          3356.89990234375,
          3349.27001953125,
          3343.570068359375,
          3291.889892578125,
          3275.070068359375,
          3234.18994140625,
          3226.070068359375,
          3165.179931640625,
          3191.159912109375,
          3201.889892578125,
          3225.35009765625,
          3190.7099609375,
          3240.580078125,
          3213.64990234375,
          3195.0400390625,
          3179.580078125,
          3209.179931640625,
          3230.550048828125,
          3238.919921875,
          3232.489990234375,
          3244,
          3226.719970703125,
          3231.969970703125,
          3226.6298828125,
          3231.5400390625,
          3225.800048828125,
          3209.6201171875,
          3181.72998046875,
          3139.35009765625,
          3108.889892578125,
          3105.85009765625,
          3097.429931640625,
          3098.090087890625,
          3096.39990234375,
          3117.47998046875,
          3093.31005859375,
          3092.800048828125,
          3111.64990234375,
          3137.5400390625,
          3140.2099609375,
          3134.8701171875,
          3102.2099609375,
          3095.590087890625,
          3120.239990234375,
          3104.110107421875,
          3103.659912109375,
          3129.39990234375,
          3131.260009765625,
          3145.77001953125,
          3128.68994140625,
          3090.6298828125,
          3099.14990234375,
          3121.760009765625,
          3117.7900390625,
          3170.2900390625,
          3152.300048828125,
          3181.340087890625,
          3180.469970703125,
          3192.1201171875,
          3205.139892578125,
          3220.64990234375,
          3211.56005859375,
          3238.75,
          3239.14990234375,
          3252.06005859375,
          3269.860107421875,
          3282.8798828125,
          3270.97998046875,
          3286.330078125,
          3301.9599609375,
          3269.27001953125,
          3256.820068359375,
          3253.7900390625,
          3262.760009765625,
          3273.47998046875,
          3246.510009765625,
          3262.570068359375,
          3246.2099609375,
          3233.47998046875,
          3247.800048828125,
          3249.530029296875,
          3222.260009765625,
          3239.330078125,
          3221.669921875,
          3224.080078125,
          3205.68994140625,
          3215.47998046875,
          3224.179931640625,
          3210.830078125,
          3233.610107421875,
          3262.949951171875,
          3274.719970703125,
          3290.080078125,
          3258.02001953125,
          3267.97998046875,
          3268.2900390625,
          3256.31005859375,
          3266.93994140625,
          3261.7900390625,
          3263.070068359375,
          3227.10009765625,
          3181.969970703125,
          3165.5,
          3116.31005859375,
          3115.080078125,
          3130.239990234375,
          3107.090087890625,
          3138.89990234375,
          3153.22998046875,
          3151.56005859375,
          3145.81005859375,
          3107.469970703125,
          3105,
          3083.18994140625,
          3040.449951171875,
          3039.610107421875,
          3015.75,
          3025.8798828125,
          3022.800048828125,
          3022.699951171875,
          2969.949951171875,
          2984.14990234375,
          3008.3798828125,
          3015.239990234375,
          3059.18994140625,
          3093.110107421875,
          3130.5,
          3141.1298828125,
          3102.510009765625,
          3130.110107421875,
          3141.31005859375,
          3145.830078125,
          3165.5,
          3173.179931640625,
          3228.330078125,
          3260.800048828125,
          3275.280029296875,
          3266.169921875,
          3286.0400390625,
          3272.22998046875,
          3250.6201171875,
          3259.56005859375,
          3255.989990234375,
          3252.8798828125,
          3244.550048828125,
          3240.06005859375,
          3276.360107421875,
          3290.489990234375,
          3292.72998046875,
          3259.139892578125,
          3267.5400390625,
          3252.3701171875,
          3225.449951171875,
          3236.080078125,
          3245.969970703125,
          3239.659912109375,
          3271.280029296875,
          3278.570068359375,
          3273.75,
          3240.81005859375,
          3256.610107421875,
          3253.969970703125,
          3256.18994140625,
          3269.530029296875,
          3257.699951171875,
          3266.3798828125,
          3266.969970703125,
          3249.239990234375,
          3251.320068359375
         ]
        }
       ],
       "layout": {
        "font": {
         "size": 18
        },
        "template": {
         "data": {
          "bar": [
           {
            "error_x": {
             "color": "#2a3f5f"
            },
            "error_y": {
             "color": "#2a3f5f"
            },
            "marker": {
             "line": {
              "color": "#E5ECF6",
              "width": 0.5
             },
             "pattern": {
              "fillmode": "overlay",
              "size": 10,
              "solidity": 0.2
             }
            },
            "type": "bar"
           }
          ],
          "barpolar": [
           {
            "marker": {
             "line": {
              "color": "#E5ECF6",
              "width": 0.5
             },
             "pattern": {
              "fillmode": "overlay",
              "size": 10,
              "solidity": 0.2
             }
            },
            "type": "barpolar"
           }
          ],
          "carpet": [
           {
            "aaxis": {
             "endlinecolor": "#2a3f5f",
             "gridcolor": "white",
             "linecolor": "white",
             "minorgridcolor": "white",
             "startlinecolor": "#2a3f5f"
            },
            "baxis": {
             "endlinecolor": "#2a3f5f",
             "gridcolor": "white",
             "linecolor": "white",
             "minorgridcolor": "white",
             "startlinecolor": "#2a3f5f"
            },
            "type": "carpet"
           }
          ],
          "choropleth": [
           {
            "colorbar": {
             "outlinewidth": 0,
             "ticks": ""
            },
            "type": "choropleth"
           }
          ],
          "contour": [
           {
            "colorbar": {
             "outlinewidth": 0,
             "ticks": ""
            },
            "colorscale": [
             [
              0,
              "#0d0887"
             ],
             [
              0.1111111111111111,
              "#46039f"
             ],
             [
              0.2222222222222222,
              "#7201a8"
             ],
             [
              0.3333333333333333,
              "#9c179e"
             ],
             [
              0.4444444444444444,
              "#bd3786"
             ],
             [
              0.5555555555555556,
              "#d8576b"
             ],
             [
              0.6666666666666666,
              "#ed7953"
             ],
             [
              0.7777777777777778,
              "#fb9f3a"
             ],
             [
              0.8888888888888888,
              "#fdca26"
             ],
             [
              1,
              "#f0f921"
             ]
            ],
            "type": "contour"
           }
          ],
          "contourcarpet": [
           {
            "colorbar": {
             "outlinewidth": 0,
             "ticks": ""
            },
            "type": "contourcarpet"
           }
          ],
          "heatmap": [
           {
            "colorbar": {
             "outlinewidth": 0,
             "ticks": ""
            },
            "colorscale": [
             [
              0,
              "#0d0887"
             ],
             [
              0.1111111111111111,
              "#46039f"
             ],
             [
              0.2222222222222222,
              "#7201a8"
             ],
             [
              0.3333333333333333,
              "#9c179e"
             ],
             [
              0.4444444444444444,
              "#bd3786"
             ],
             [
              0.5555555555555556,
              "#d8576b"
             ],
             [
              0.6666666666666666,
              "#ed7953"
             ],
             [
              0.7777777777777778,
              "#fb9f3a"
             ],
             [
              0.8888888888888888,
              "#fdca26"
             ],
             [
              1,
              "#f0f921"
             ]
            ],
            "type": "heatmap"
           }
          ],
          "heatmapgl": [
           {
            "colorbar": {
             "outlinewidth": 0,
             "ticks": ""
            },
            "colorscale": [
             [
              0,
              "#0d0887"
             ],
             [
              0.1111111111111111,
              "#46039f"
             ],
             [
              0.2222222222222222,
              "#7201a8"
             ],
             [
              0.3333333333333333,
              "#9c179e"
             ],
             [
              0.4444444444444444,
              "#bd3786"
             ],
             [
              0.5555555555555556,
              "#d8576b"
             ],
             [
              0.6666666666666666,
              "#ed7953"
             ],
             [
              0.7777777777777778,
              "#fb9f3a"
             ],
             [
              0.8888888888888888,
              "#fdca26"
             ],
             [
              1,
              "#f0f921"
             ]
            ],
            "type": "heatmapgl"
           }
          ],
          "histogram": [
           {
            "marker": {
             "pattern": {
              "fillmode": "overlay",
              "size": 10,
              "solidity": 0.2
             }
            },
            "type": "histogram"
           }
          ],
          "histogram2d": [
           {
            "colorbar": {
             "outlinewidth": 0,
             "ticks": ""
            },
            "colorscale": [
             [
              0,
              "#0d0887"
             ],
             [
              0.1111111111111111,
              "#46039f"
             ],
             [
              0.2222222222222222,
              "#7201a8"
             ],
             [
              0.3333333333333333,
              "#9c179e"
             ],
             [
              0.4444444444444444,
              "#bd3786"
             ],
             [
              0.5555555555555556,
              "#d8576b"
             ],
             [
              0.6666666666666666,
              "#ed7953"
             ],
             [
              0.7777777777777778,
              "#fb9f3a"
             ],
             [
              0.8888888888888888,
              "#fdca26"
             ],
             [
              1,
              "#f0f921"
             ]
            ],
            "type": "histogram2d"
           }
          ],
          "histogram2dcontour": [
           {
            "colorbar": {
             "outlinewidth": 0,
             "ticks": ""
            },
            "colorscale": [
             [
              0,
              "#0d0887"
             ],
             [
              0.1111111111111111,
              "#46039f"
             ],
             [
              0.2222222222222222,
              "#7201a8"
             ],
             [
              0.3333333333333333,
              "#9c179e"
             ],
             [
              0.4444444444444444,
              "#bd3786"
             ],
             [
              0.5555555555555556,
              "#d8576b"
             ],
             [
              0.6666666666666666,
              "#ed7953"
             ],
             [
              0.7777777777777778,
              "#fb9f3a"
             ],
             [
              0.8888888888888888,
              "#fdca26"
             ],
             [
              1,
              "#f0f921"
             ]
            ],
            "type": "histogram2dcontour"
           }
          ],
          "mesh3d": [
           {
            "colorbar": {
             "outlinewidth": 0,
             "ticks": ""
            },
            "type": "mesh3d"
           }
          ],
          "parcoords": [
           {
            "line": {
             "colorbar": {
              "outlinewidth": 0,
              "ticks": ""
             }
            },
            "type": "parcoords"
           }
          ],
          "pie": [
           {
            "automargin": true,
            "type": "pie"
           }
          ],
          "scatter": [
           {
            "fillpattern": {
             "fillmode": "overlay",
             "size": 10,
             "solidity": 0.2
            },
            "type": "scatter"
           }
          ],
          "scatter3d": [
           {
            "line": {
             "colorbar": {
              "outlinewidth": 0,
              "ticks": ""
             }
            },
            "marker": {
             "colorbar": {
              "outlinewidth": 0,
              "ticks": ""
             }
            },
            "type": "scatter3d"
           }
          ],
          "scattercarpet": [
           {
            "marker": {
             "colorbar": {
              "outlinewidth": 0,
              "ticks": ""
             }
            },
            "type": "scattercarpet"
           }
          ],
          "scattergeo": [
           {
            "marker": {
             "colorbar": {
              "outlinewidth": 0,
              "ticks": ""
             }
            },
            "type": "scattergeo"
           }
          ],
          "scattergl": [
           {
            "marker": {
             "colorbar": {
              "outlinewidth": 0,
              "ticks": ""
             }
            },
            "type": "scattergl"
           }
          ],
          "scattermapbox": [
           {
            "marker": {
             "colorbar": {
              "outlinewidth": 0,
              "ticks": ""
             }
            },
            "type": "scattermapbox"
           }
          ],
          "scatterpolar": [
           {
            "marker": {
             "colorbar": {
              "outlinewidth": 0,
              "ticks": ""
             }
            },
            "type": "scatterpolar"
           }
          ],
          "scatterpolargl": [
           {
            "marker": {
             "colorbar": {
              "outlinewidth": 0,
              "ticks": ""
             }
            },
            "type": "scatterpolargl"
           }
          ],
          "scatterternary": [
           {
            "marker": {
             "colorbar": {
              "outlinewidth": 0,
              "ticks": ""
             }
            },
            "type": "scatterternary"
           }
          ],
          "surface": [
           {
            "colorbar": {
             "outlinewidth": 0,
             "ticks": ""
            },
            "colorscale": [
             [
              0,
              "#0d0887"
             ],
             [
              0.1111111111111111,
              "#46039f"
             ],
             [
              0.2222222222222222,
              "#7201a8"
             ],
             [
              0.3333333333333333,
              "#9c179e"
             ],
             [
              0.4444444444444444,
              "#bd3786"
             ],
             [
              0.5555555555555556,
              "#d8576b"
             ],
             [
              0.6666666666666666,
              "#ed7953"
             ],
             [
              0.7777777777777778,
              "#fb9f3a"
             ],
             [
              0.8888888888888888,
              "#fdca26"
             ],
             [
              1,
              "#f0f921"
             ]
            ],
            "type": "surface"
           }
          ],
          "table": [
           {
            "cells": {
             "fill": {
              "color": "#EBF0F8"
             },
             "line": {
              "color": "white"
             }
            },
            "header": {
             "fill": {
              "color": "#C8D4E3"
             },
             "line": {
              "color": "white"
             }
            },
            "type": "table"
           }
          ]
         },
         "layout": {
          "annotationdefaults": {
           "arrowcolor": "#2a3f5f",
           "arrowhead": 0,
           "arrowwidth": 1
          },
          "autotypenumbers": "strict",
          "coloraxis": {
           "colorbar": {
            "outlinewidth": 0,
            "ticks": ""
           }
          },
          "colorscale": {
           "diverging": [
            [
             0,
             "#8e0152"
            ],
            [
             0.1,
             "#c51b7d"
            ],
            [
             0.2,
             "#de77ae"
            ],
            [
             0.3,
             "#f1b6da"
            ],
            [
             0.4,
             "#fde0ef"
            ],
            [
             0.5,
             "#f7f7f7"
            ],
            [
             0.6,
             "#e6f5d0"
            ],
            [
             0.7,
             "#b8e186"
            ],
            [
             0.8,
             "#7fbc41"
            ],
            [
             0.9,
             "#4d9221"
            ],
            [
             1,
             "#276419"
            ]
           ],
           "sequential": [
            [
             0,
             "#0d0887"
            ],
            [
             0.1111111111111111,
             "#46039f"
            ],
            [
             0.2222222222222222,
             "#7201a8"
            ],
            [
             0.3333333333333333,
             "#9c179e"
            ],
            [
             0.4444444444444444,
             "#bd3786"
            ],
            [
             0.5555555555555556,
             "#d8576b"
            ],
            [
             0.6666666666666666,
             "#ed7953"
            ],
            [
             0.7777777777777778,
             "#fb9f3a"
            ],
            [
             0.8888888888888888,
             "#fdca26"
            ],
            [
             1,
             "#f0f921"
            ]
           ],
           "sequentialminus": [
            [
             0,
             "#0d0887"
            ],
            [
             0.1111111111111111,
             "#46039f"
            ],
            [
             0.2222222222222222,
             "#7201a8"
            ],
            [
             0.3333333333333333,
             "#9c179e"
            ],
            [
             0.4444444444444444,
             "#bd3786"
            ],
            [
             0.5555555555555556,
             "#d8576b"
            ],
            [
             0.6666666666666666,
             "#ed7953"
            ],
            [
             0.7777777777777778,
             "#fb9f3a"
            ],
            [
             0.8888888888888888,
             "#fdca26"
            ],
            [
             1,
             "#f0f921"
            ]
           ]
          },
          "colorway": [
           "#636efa",
           "#EF553B",
           "#00cc96",
           "#ab63fa",
           "#FFA15A",
           "#19d3f3",
           "#FF6692",
           "#B6E880",
           "#FF97FF",
           "#FECB52"
          ],
          "font": {
           "color": "#2a3f5f"
          },
          "geo": {
           "bgcolor": "white",
           "lakecolor": "white",
           "landcolor": "#E5ECF6",
           "showlakes": true,
           "showland": true,
           "subunitcolor": "white"
          },
          "hoverlabel": {
           "align": "left"
          },
          "hovermode": "closest",
          "mapbox": {
           "style": "light"
          },
          "paper_bgcolor": "white",
          "plot_bgcolor": "#E5ECF6",
          "polar": {
           "angularaxis": {
            "gridcolor": "white",
            "linecolor": "white",
            "ticks": ""
           },
           "bgcolor": "#E5ECF6",
           "radialaxis": {
            "gridcolor": "white",
            "linecolor": "white",
            "ticks": ""
           }
          },
          "scene": {
           "xaxis": {
            "backgroundcolor": "#E5ECF6",
            "gridcolor": "white",
            "gridwidth": 2,
            "linecolor": "white",
            "showbackground": true,
            "ticks": "",
            "zerolinecolor": "white"
           },
           "yaxis": {
            "backgroundcolor": "#E5ECF6",
            "gridcolor": "white",
            "gridwidth": 2,
            "linecolor": "white",
            "showbackground": true,
            "ticks": "",
            "zerolinecolor": "white"
           },
           "zaxis": {
            "backgroundcolor": "#E5ECF6",
            "gridcolor": "white",
            "gridwidth": 2,
            "linecolor": "white",
            "showbackground": true,
            "ticks": "",
            "zerolinecolor": "white"
           }
          },
          "shapedefaults": {
           "line": {
            "color": "#2a3f5f"
           }
          },
          "ternary": {
           "aaxis": {
            "gridcolor": "white",
            "linecolor": "white",
            "ticks": ""
           },
           "baxis": {
            "gridcolor": "white",
            "linecolor": "white",
            "ticks": ""
           },
           "bgcolor": "#E5ECF6",
           "caxis": {
            "gridcolor": "white",
            "linecolor": "white",
            "ticks": ""
           }
          },
          "title": {
           "x": 0.05
          },
          "xaxis": {
           "automargin": true,
           "gridcolor": "white",
           "linecolor": "white",
           "ticks": "",
           "title": {
            "standoff": 15
           },
           "zerolinecolor": "white",
           "zerolinewidth": 2
          },
          "yaxis": {
           "automargin": true,
           "gridcolor": "white",
           "linecolor": "white",
           "ticks": "",
           "title": {
            "standoff": 15
           },
           "zerolinecolor": "white",
           "zerolinewidth": 2
          }
         }
        },
        "title": {
         "text": "Trading simulation plot of Classification + Multivariate predictions"
        },
        "xaxis": {
         "title": {
          "text": "Date"
         }
        },
        "yaxis": {
         "title": {
          "text": "Price"
         }
        }
       }
      }
     },
     "metadata": {},
     "output_type": "display_data"
    },
    {
     "data": {
      "application/vnd.plotly.v1+json": {
       "config": {
        "linkText": "Export to plotly.com",
        "plotlyServerURL": "https://plotly.com",
        "showLink": false
       },
       "data": [
        {
         "line": {
          "color": "red",
          "width": 2
         },
         "name": "Short positions",
         "type": "scatter",
         "x": [
          "2022-01-25T00:00:00",
          "2022-02-03T00:00:00",
          null,
          "2022-02-23T00:00:00",
          "2022-03-10T00:00:00",
          null,
          "2022-04-07T00:00:00",
          "2022-04-20T00:00:00",
          null,
          "2022-04-26T00:00:00",
          "2022-04-29T00:00:00",
          null,
          "2022-05-06T00:00:00",
          "2022-05-27T00:00:00",
          null,
          "2022-06-03T00:00:00",
          "2022-06-27T00:00:00",
          null,
          "2022-06-30T00:00:00",
          "2022-07-05T00:00:00",
          null,
          "2022-07-14T00:00:00",
          "2022-07-18T00:00:00",
          null,
          "2022-08-15T00:00:00",
          "2022-08-26T00:00:00",
          null,
          "2022-09-05T00:00:00",
          "2022-09-09T00:00:00",
          null,
          "2022-09-20T00:00:00",
          "2022-10-05T00:00:00",
          null,
          "2022-10-10T00:00:00",
          "2022-10-26T00:00:00",
          null,
          "2022-11-21T00:00:00",
          "2022-11-30T00:00:00",
          null,
          "2022-12-05T00:00:00",
          "2022-12-09T00:00:00",
          null,
          "2022-12-16T00:00:00",
          "2022-12-22T00:00:00",
          null,
          "2022-12-27T00:00:00"
         ],
         "y": [
          3247.760009765625,
          3315.989990234375,
          null,
          3393,
          3240.72998046875,
          null,
          3404.22998046875,
          3335.320068359375,
          null,
          3322.050048828125,
          3356.89990234375,
          null,
          3291.889892578125,
          3230.550048828125,
          null,
          3231.969970703125,
          3137.5400390625,
          null,
          3102.2099609375,
          3104.110107421875,
          null,
          3090.6298828125,
          3121.760009765625,
          null,
          3256.820068359375,
          3249.530029296875,
          null,
          3215.47998046875,
          3262.949951171875,
          null,
          3266.93994140625,
          3153.22998046875,
          null,
          3107.469970703125,
          3008.3798828125,
          null,
          3250.6201171875,
          3290.489990234375,
          null,
          3267.5400390625,
          3245.969970703125,
          null,
          3240.81005859375,
          3269.530029296875,
          null,
          3266.3798828125
         ]
        },
        {
         "line": {
          "color": "blue",
          "width": 2
         },
         "name": "Long positions",
         "type": "scatter",
         "x": [
          "2022-01-04T00:00:00",
          "2022-01-25T00:00:00",
          null,
          "2022-02-03T00:00:00",
          "2022-02-23T00:00:00",
          null,
          "2022-03-10T00:00:00",
          "2022-04-07T00:00:00",
          null,
          "2022-04-20T00:00:00",
          "2022-04-26T00:00:00",
          null,
          "2022-04-29T00:00:00",
          "2022-05-06T00:00:00",
          null,
          "2022-05-27T00:00:00",
          "2022-06-03T00:00:00",
          null,
          "2022-06-27T00:00:00",
          "2022-06-30T00:00:00",
          null,
          "2022-07-05T00:00:00",
          "2022-07-14T00:00:00",
          null,
          "2022-07-18T00:00:00",
          "2022-08-15T00:00:00",
          null,
          "2022-08-26T00:00:00",
          "2022-09-05T00:00:00",
          null,
          "2022-09-09T00:00:00",
          "2022-09-20T00:00:00",
          null,
          "2022-10-05T00:00:00",
          "2022-10-10T00:00:00",
          null,
          "2022-10-26T00:00:00",
          "2022-11-21T00:00:00",
          null,
          "2022-11-30T00:00:00",
          "2022-12-05T00:00:00",
          null,
          "2022-12-09T00:00:00",
          "2022-12-16T00:00:00",
          null,
          "2022-12-22T00:00:00",
          "2022-12-27T00:00:00",
          null
         ],
         "y": [
          3181.1298828125,
          3247.760009765625,
          null,
          3315.989990234375,
          3393,
          null,
          3240.72998046875,
          3404.22998046875,
          null,
          3335.320068359375,
          3322.050048828125,
          null,
          3356.89990234375,
          3291.889892578125,
          null,
          3230.550048828125,
          3231.969970703125,
          null,
          3137.5400390625,
          3102.2099609375,
          null,
          3104.110107421875,
          3090.6298828125,
          null,
          3121.760009765625,
          3256.820068359375,
          null,
          3249.530029296875,
          3215.47998046875,
          null,
          3262.949951171875,
          3266.93994140625,
          null,
          3153.22998046875,
          3107.469970703125,
          null,
          3008.3798828125,
          3250.6201171875,
          null,
          3290.489990234375,
          3267.5400390625,
          null,
          3245.969970703125,
          3240.81005859375,
          null,
          3269.530029296875,
          3266.3798828125,
          null
         ]
        },
        {
         "line": {
          "color": "green",
          "width": 1
         },
         "name": "Closing price",
         "type": "scatter",
         "x": [
          "2022-01-04T00:00:00",
          "2022-01-05T00:00:00",
          "2022-01-06T00:00:00",
          "2022-01-07T00:00:00",
          "2022-01-10T00:00:00",
          "2022-01-11T00:00:00",
          "2022-01-12T00:00:00",
          "2022-01-13T00:00:00",
          "2022-01-14T00:00:00",
          "2022-01-17T00:00:00",
          "2022-01-18T00:00:00",
          "2022-01-19T00:00:00",
          "2022-01-20T00:00:00",
          "2022-01-21T00:00:00",
          "2022-01-24T00:00:00",
          "2022-01-25T00:00:00",
          "2022-01-26T00:00:00",
          "2022-01-27T00:00:00",
          "2022-01-28T00:00:00",
          "2022-01-31T00:00:00",
          "2022-02-03T00:00:00",
          "2022-02-04T00:00:00",
          "2022-02-07T00:00:00",
          "2022-02-08T00:00:00",
          "2022-02-09T00:00:00",
          "2022-02-10T00:00:00",
          "2022-02-11T00:00:00",
          "2022-02-14T00:00:00",
          "2022-02-15T00:00:00",
          "2022-02-16T00:00:00",
          "2022-02-17T00:00:00",
          "2022-02-18T00:00:00",
          "2022-02-21T00:00:00",
          "2022-02-22T00:00:00",
          "2022-02-23T00:00:00",
          "2022-02-24T00:00:00",
          "2022-02-25T00:00:00",
          "2022-02-28T00:00:00",
          "2022-03-01T00:00:00",
          "2022-03-02T00:00:00",
          "2022-03-03T00:00:00",
          "2022-03-04T00:00:00",
          "2022-03-07T00:00:00",
          "2022-03-08T00:00:00",
          "2022-03-09T00:00:00",
          "2022-03-10T00:00:00",
          "2022-03-11T00:00:00",
          "2022-03-14T00:00:00",
          "2022-03-15T00:00:00",
          "2022-03-16T00:00:00",
          "2022-03-17T00:00:00",
          "2022-03-18T00:00:00",
          "2022-03-21T00:00:00",
          "2022-03-22T00:00:00",
          "2022-03-23T00:00:00",
          "2022-03-24T00:00:00",
          "2022-03-25T00:00:00",
          "2022-03-28T00:00:00",
          "2022-03-29T00:00:00",
          "2022-03-30T00:00:00",
          "2022-03-31T00:00:00",
          "2022-04-01T00:00:00",
          "2022-04-04T00:00:00",
          "2022-04-05T00:00:00",
          "2022-04-06T00:00:00",
          "2022-04-07T00:00:00",
          "2022-04-08T00:00:00",
          "2022-04-11T00:00:00",
          "2022-04-12T00:00:00",
          "2022-04-13T00:00:00",
          "2022-04-14T00:00:00",
          "2022-04-18T00:00:00",
          "2022-04-19T00:00:00",
          "2022-04-20T00:00:00",
          "2022-04-21T00:00:00",
          "2022-04-22T00:00:00",
          "2022-04-25T00:00:00",
          "2022-04-26T00:00:00",
          "2022-04-27T00:00:00",
          "2022-04-28T00:00:00",
          "2022-04-29T00:00:00",
          "2022-05-04T00:00:00",
          "2022-05-05T00:00:00",
          "2022-05-06T00:00:00",
          "2022-05-09T00:00:00",
          "2022-05-10T00:00:00",
          "2022-05-11T00:00:00",
          "2022-05-12T00:00:00",
          "2022-05-13T00:00:00",
          "2022-05-17T00:00:00",
          "2022-05-18T00:00:00",
          "2022-05-19T00:00:00",
          "2022-05-20T00:00:00",
          "2022-05-23T00:00:00",
          "2022-05-24T00:00:00",
          "2022-05-25T00:00:00",
          "2022-05-26T00:00:00",
          "2022-05-27T00:00:00",
          "2022-05-30T00:00:00",
          "2022-05-31T00:00:00",
          "2022-06-01T00:00:00",
          "2022-06-02T00:00:00",
          "2022-06-03T00:00:00",
          "2022-06-06T00:00:00",
          "2022-06-07T00:00:00",
          "2022-06-08T00:00:00",
          "2022-06-09T00:00:00",
          "2022-06-10T00:00:00",
          "2022-06-13T00:00:00",
          "2022-06-14T00:00:00",
          "2022-06-15T00:00:00",
          "2022-06-16T00:00:00",
          "2022-06-17T00:00:00",
          "2022-06-20T00:00:00",
          "2022-06-21T00:00:00",
          "2022-06-22T00:00:00",
          "2022-06-23T00:00:00",
          "2022-06-24T00:00:00",
          "2022-06-27T00:00:00",
          "2022-06-28T00:00:00",
          "2022-06-29T00:00:00",
          "2022-06-30T00:00:00",
          "2022-07-01T00:00:00",
          "2022-07-04T00:00:00",
          "2022-07-05T00:00:00",
          "2022-07-06T00:00:00",
          "2022-07-07T00:00:00",
          "2022-07-08T00:00:00",
          "2022-07-12T00:00:00",
          "2022-07-13T00:00:00",
          "2022-07-14T00:00:00",
          "2022-07-15T00:00:00",
          "2022-07-18T00:00:00",
          "2022-07-19T00:00:00",
          "2022-07-20T00:00:00",
          "2022-07-21T00:00:00",
          "2022-07-22T00:00:00",
          "2022-07-25T00:00:00",
          "2022-07-26T00:00:00",
          "2022-07-27T00:00:00",
          "2022-07-28T00:00:00",
          "2022-07-29T00:00:00",
          "2022-08-01T00:00:00",
          "2022-08-02T00:00:00",
          "2022-08-03T00:00:00",
          "2022-08-04T00:00:00",
          "2022-08-05T00:00:00",
          "2022-08-08T00:00:00",
          "2022-08-10T00:00:00",
          "2022-08-11T00:00:00",
          "2022-08-12T00:00:00",
          "2022-08-15T00:00:00",
          "2022-08-16T00:00:00",
          "2022-08-17T00:00:00",
          "2022-08-18T00:00:00",
          "2022-08-19T00:00:00",
          "2022-08-22T00:00:00",
          "2022-08-23T00:00:00",
          "2022-08-24T00:00:00",
          "2022-08-25T00:00:00",
          "2022-08-26T00:00:00",
          "2022-08-29T00:00:00",
          "2022-08-30T00:00:00",
          "2022-08-31T00:00:00",
          "2022-09-01T00:00:00",
          "2022-09-02T00:00:00",
          "2022-09-05T00:00:00",
          "2022-09-06T00:00:00",
          "2022-09-07T00:00:00",
          "2022-09-08T00:00:00",
          "2022-09-09T00:00:00",
          "2022-09-12T00:00:00",
          "2022-09-13T00:00:00",
          "2022-09-14T00:00:00",
          "2022-09-15T00:00:00",
          "2022-09-16T00:00:00",
          "2022-09-19T00:00:00",
          "2022-09-20T00:00:00",
          "2022-09-21T00:00:00",
          "2022-09-22T00:00:00",
          "2022-09-23T00:00:00",
          "2022-09-26T00:00:00",
          "2022-09-27T00:00:00",
          "2022-09-28T00:00:00",
          "2022-09-29T00:00:00",
          "2022-09-30T00:00:00",
          "2022-10-03T00:00:00",
          "2022-10-04T00:00:00",
          "2022-10-05T00:00:00",
          "2022-10-06T00:00:00",
          "2022-10-07T00:00:00",
          "2022-10-10T00:00:00",
          "2022-10-11T00:00:00",
          "2022-10-12T00:00:00",
          "2022-10-13T00:00:00",
          "2022-10-14T00:00:00",
          "2022-10-17T00:00:00",
          "2022-10-18T00:00:00",
          "2022-10-19T00:00:00",
          "2022-10-20T00:00:00",
          "2022-10-21T00:00:00",
          "2022-10-25T00:00:00",
          "2022-10-26T00:00:00",
          "2022-10-27T00:00:00",
          "2022-10-28T00:00:00",
          "2022-10-31T00:00:00",
          "2022-11-01T00:00:00",
          "2022-11-02T00:00:00",
          "2022-11-03T00:00:00",
          "2022-11-04T00:00:00",
          "2022-11-07T00:00:00",
          "2022-11-08T00:00:00",
          "2022-11-09T00:00:00",
          "2022-11-10T00:00:00",
          "2022-11-11T00:00:00",
          "2022-11-14T00:00:00",
          "2022-11-15T00:00:00",
          "2022-11-16T00:00:00",
          "2022-11-17T00:00:00",
          "2022-11-18T00:00:00",
          "2022-11-21T00:00:00",
          "2022-11-22T00:00:00",
          "2022-11-23T00:00:00",
          "2022-11-24T00:00:00",
          "2022-11-25T00:00:00",
          "2022-11-28T00:00:00",
          "2022-11-29T00:00:00",
          "2022-11-30T00:00:00",
          "2022-12-01T00:00:00",
          "2022-12-02T00:00:00",
          "2022-12-05T00:00:00",
          "2022-12-06T00:00:00",
          "2022-12-07T00:00:00",
          "2022-12-08T00:00:00",
          "2022-12-09T00:00:00",
          "2022-12-12T00:00:00",
          "2022-12-13T00:00:00",
          "2022-12-14T00:00:00",
          "2022-12-15T00:00:00",
          "2022-12-16T00:00:00",
          "2022-12-19T00:00:00",
          "2022-12-20T00:00:00",
          "2022-12-21T00:00:00",
          "2022-12-22T00:00:00",
          "2022-12-23T00:00:00",
          "2022-12-27T00:00:00",
          "2022-12-28T00:00:00",
          "2022-12-29T00:00:00",
          "2022-12-30T00:00:00"
         ],
         "y": [
          3181.1298828125,
          3163.43994140625,
          3184.300048828125,
          3205.260009765625,
          3227.050048828125,
          3246.3701171875,
          3254.97998046875,
          3257.300048828125,
          3281.969970703125,
          3287.949951171875,
          3280.0400390625,
          3283.93994140625,
          3294.820068359375,
          3294.860107421875,
          3283.35009765625,
          3247.760009765625,
          3271.570068359375,
          3260.030029296875,
          3246.330078125,
          3249.590087890625,
          3315.989990234375,
          3331.409912109375,
          3366.47998046875,
          3401.739990234375,
          3420.0400390625,
          3428,
          3428.949951171875,
          3421.199951171875,
          3421.3798828125,
          3439.300048828125,
          3441.570068359375,
          3428.89990234375,
          3436.360107421875,
          3400.580078125,
          3393,
          3276.06005859375,
          3294.469970703125,
          3242.239990234375,
          3278.6298828125,
          3244.39990234375,
          3253.64990234375,
          3226.780029296875,
          3187.820068359375,
          3148.860107421875,
          3195.3798828125,
          3240.72998046875,
          3249.659912109375,
          3232.030029296875,
          3236.0400390625,
          3290.89990234375,
          3322.7099609375,
          3330.6298828125,
          3355.510009765625,
          3350.169921875,
          3364.260009765625,
          3399.699951171875,
          3413.68994140625,
          3431.989990234375,
          3433.89990234375,
          3442.610107421875,
          3408.52001953125,
          3419.110107421875,
          3416.969970703125,
          3445.010009765625,
          3422.949951171875,
          3404.22998046875,
          3383.280029296875,
          3363.56005859375,
          3330.25,
          3342.219970703125,
          3335.85009765625,
          3303.070068359375,
          3307.1298828125,
          3335.320068359375,
          3348.4599609375,
          3361.110107421875,
          3339.590087890625,
          3322.050048828125,
          3320.669921875,
          3335.090087890625,
          3356.89990234375,
          3349.27001953125,
          3343.570068359375,
          3291.889892578125,
          3275.070068359375,
          3234.18994140625,
          3226.070068359375,
          3165.179931640625,
          3191.159912109375,
          3201.889892578125,
          3225.35009765625,
          3190.7099609375,
          3240.580078125,
          3213.64990234375,
          3195.0400390625,
          3179.580078125,
          3209.179931640625,
          3230.550048828125,
          3238.919921875,
          3232.489990234375,
          3244,
          3226.719970703125,
          3231.969970703125,
          3226.6298828125,
          3231.5400390625,
          3225.800048828125,
          3209.6201171875,
          3181.72998046875,
          3139.35009765625,
          3108.889892578125,
          3105.85009765625,
          3097.429931640625,
          3098.090087890625,
          3096.39990234375,
          3117.47998046875,
          3093.31005859375,
          3092.800048828125,
          3111.64990234375,
          3137.5400390625,
          3140.2099609375,
          3134.8701171875,
          3102.2099609375,
          3095.590087890625,
          3120.239990234375,
          3104.110107421875,
          3103.659912109375,
          3129.39990234375,
          3131.260009765625,
          3145.77001953125,
          3128.68994140625,
          3090.6298828125,
          3099.14990234375,
          3121.760009765625,
          3117.7900390625,
          3170.2900390625,
          3152.300048828125,
          3181.340087890625,
          3180.469970703125,
          3192.1201171875,
          3205.139892578125,
          3220.64990234375,
          3211.56005859375,
          3238.75,
          3239.14990234375,
          3252.06005859375,
          3269.860107421875,
          3282.8798828125,
          3270.97998046875,
          3286.330078125,
          3301.9599609375,
          3269.27001953125,
          3256.820068359375,
          3253.7900390625,
          3262.760009765625,
          3273.47998046875,
          3246.510009765625,
          3262.570068359375,
          3246.2099609375,
          3233.47998046875,
          3247.800048828125,
          3249.530029296875,
          3222.260009765625,
          3239.330078125,
          3221.669921875,
          3224.080078125,
          3205.68994140625,
          3215.47998046875,
          3224.179931640625,
          3210.830078125,
          3233.610107421875,
          3262.949951171875,
          3274.719970703125,
          3290.080078125,
          3258.02001953125,
          3267.97998046875,
          3268.2900390625,
          3256.31005859375,
          3266.93994140625,
          3261.7900390625,
          3263.070068359375,
          3227.10009765625,
          3181.969970703125,
          3165.5,
          3116.31005859375,
          3115.080078125,
          3130.239990234375,
          3107.090087890625,
          3138.89990234375,
          3153.22998046875,
          3151.56005859375,
          3145.81005859375,
          3107.469970703125,
          3105,
          3083.18994140625,
          3040.449951171875,
          3039.610107421875,
          3015.75,
          3025.8798828125,
          3022.800048828125,
          3022.699951171875,
          2969.949951171875,
          2984.14990234375,
          3008.3798828125,
          3015.239990234375,
          3059.18994140625,
          3093.110107421875,
          3130.5,
          3141.1298828125,
          3102.510009765625,
          3130.110107421875,
          3141.31005859375,
          3145.830078125,
          3165.5,
          3173.179931640625,
          3228.330078125,
          3260.800048828125,
          3275.280029296875,
          3266.169921875,
          3286.0400390625,
          3272.22998046875,
          3250.6201171875,
          3259.56005859375,
          3255.989990234375,
          3252.8798828125,
          3244.550048828125,
          3240.06005859375,
          3276.360107421875,
          3290.489990234375,
          3292.72998046875,
          3259.139892578125,
          3267.5400390625,
          3252.3701171875,
          3225.449951171875,
          3236.080078125,
          3245.969970703125,
          3239.659912109375,
          3271.280029296875,
          3278.570068359375,
          3273.75,
          3240.81005859375,
          3256.610107421875,
          3253.969970703125,
          3256.18994140625,
          3269.530029296875,
          3257.699951171875,
          3266.3798828125,
          3266.969970703125,
          3249.239990234375,
          3251.320068359375
         ]
        }
       ],
       "layout": {
        "font": {
         "size": 18
        },
        "template": {
         "data": {
          "bar": [
           {
            "error_x": {
             "color": "#2a3f5f"
            },
            "error_y": {
             "color": "#2a3f5f"
            },
            "marker": {
             "line": {
              "color": "#E5ECF6",
              "width": 0.5
             },
             "pattern": {
              "fillmode": "overlay",
              "size": 10,
              "solidity": 0.2
             }
            },
            "type": "bar"
           }
          ],
          "barpolar": [
           {
            "marker": {
             "line": {
              "color": "#E5ECF6",
              "width": 0.5
             },
             "pattern": {
              "fillmode": "overlay",
              "size": 10,
              "solidity": 0.2
             }
            },
            "type": "barpolar"
           }
          ],
          "carpet": [
           {
            "aaxis": {
             "endlinecolor": "#2a3f5f",
             "gridcolor": "white",
             "linecolor": "white",
             "minorgridcolor": "white",
             "startlinecolor": "#2a3f5f"
            },
            "baxis": {
             "endlinecolor": "#2a3f5f",
             "gridcolor": "white",
             "linecolor": "white",
             "minorgridcolor": "white",
             "startlinecolor": "#2a3f5f"
            },
            "type": "carpet"
           }
          ],
          "choropleth": [
           {
            "colorbar": {
             "outlinewidth": 0,
             "ticks": ""
            },
            "type": "choropleth"
           }
          ],
          "contour": [
           {
            "colorbar": {
             "outlinewidth": 0,
             "ticks": ""
            },
            "colorscale": [
             [
              0,
              "#0d0887"
             ],
             [
              0.1111111111111111,
              "#46039f"
             ],
             [
              0.2222222222222222,
              "#7201a8"
             ],
             [
              0.3333333333333333,
              "#9c179e"
             ],
             [
              0.4444444444444444,
              "#bd3786"
             ],
             [
              0.5555555555555556,
              "#d8576b"
             ],
             [
              0.6666666666666666,
              "#ed7953"
             ],
             [
              0.7777777777777778,
              "#fb9f3a"
             ],
             [
              0.8888888888888888,
              "#fdca26"
             ],
             [
              1,
              "#f0f921"
             ]
            ],
            "type": "contour"
           }
          ],
          "contourcarpet": [
           {
            "colorbar": {
             "outlinewidth": 0,
             "ticks": ""
            },
            "type": "contourcarpet"
           }
          ],
          "heatmap": [
           {
            "colorbar": {
             "outlinewidth": 0,
             "ticks": ""
            },
            "colorscale": [
             [
              0,
              "#0d0887"
             ],
             [
              0.1111111111111111,
              "#46039f"
             ],
             [
              0.2222222222222222,
              "#7201a8"
             ],
             [
              0.3333333333333333,
              "#9c179e"
             ],
             [
              0.4444444444444444,
              "#bd3786"
             ],
             [
              0.5555555555555556,
              "#d8576b"
             ],
             [
              0.6666666666666666,
              "#ed7953"
             ],
             [
              0.7777777777777778,
              "#fb9f3a"
             ],
             [
              0.8888888888888888,
              "#fdca26"
             ],
             [
              1,
              "#f0f921"
             ]
            ],
            "type": "heatmap"
           }
          ],
          "heatmapgl": [
           {
            "colorbar": {
             "outlinewidth": 0,
             "ticks": ""
            },
            "colorscale": [
             [
              0,
              "#0d0887"
             ],
             [
              0.1111111111111111,
              "#46039f"
             ],
             [
              0.2222222222222222,
              "#7201a8"
             ],
             [
              0.3333333333333333,
              "#9c179e"
             ],
             [
              0.4444444444444444,
              "#bd3786"
             ],
             [
              0.5555555555555556,
              "#d8576b"
             ],
             [
              0.6666666666666666,
              "#ed7953"
             ],
             [
              0.7777777777777778,
              "#fb9f3a"
             ],
             [
              0.8888888888888888,
              "#fdca26"
             ],
             [
              1,
              "#f0f921"
             ]
            ],
            "type": "heatmapgl"
           }
          ],
          "histogram": [
           {
            "marker": {
             "pattern": {
              "fillmode": "overlay",
              "size": 10,
              "solidity": 0.2
             }
            },
            "type": "histogram"
           }
          ],
          "histogram2d": [
           {
            "colorbar": {
             "outlinewidth": 0,
             "ticks": ""
            },
            "colorscale": [
             [
              0,
              "#0d0887"
             ],
             [
              0.1111111111111111,
              "#46039f"
             ],
             [
              0.2222222222222222,
              "#7201a8"
             ],
             [
              0.3333333333333333,
              "#9c179e"
             ],
             [
              0.4444444444444444,
              "#bd3786"
             ],
             [
              0.5555555555555556,
              "#d8576b"
             ],
             [
              0.6666666666666666,
              "#ed7953"
             ],
             [
              0.7777777777777778,
              "#fb9f3a"
             ],
             [
              0.8888888888888888,
              "#fdca26"
             ],
             [
              1,
              "#f0f921"
             ]
            ],
            "type": "histogram2d"
           }
          ],
          "histogram2dcontour": [
           {
            "colorbar": {
             "outlinewidth": 0,
             "ticks": ""
            },
            "colorscale": [
             [
              0,
              "#0d0887"
             ],
             [
              0.1111111111111111,
              "#46039f"
             ],
             [
              0.2222222222222222,
              "#7201a8"
             ],
             [
              0.3333333333333333,
              "#9c179e"
             ],
             [
              0.4444444444444444,
              "#bd3786"
             ],
             [
              0.5555555555555556,
              "#d8576b"
             ],
             [
              0.6666666666666666,
              "#ed7953"
             ],
             [
              0.7777777777777778,
              "#fb9f3a"
             ],
             [
              0.8888888888888888,
              "#fdca26"
             ],
             [
              1,
              "#f0f921"
             ]
            ],
            "type": "histogram2dcontour"
           }
          ],
          "mesh3d": [
           {
            "colorbar": {
             "outlinewidth": 0,
             "ticks": ""
            },
            "type": "mesh3d"
           }
          ],
          "parcoords": [
           {
            "line": {
             "colorbar": {
              "outlinewidth": 0,
              "ticks": ""
             }
            },
            "type": "parcoords"
           }
          ],
          "pie": [
           {
            "automargin": true,
            "type": "pie"
           }
          ],
          "scatter": [
           {
            "fillpattern": {
             "fillmode": "overlay",
             "size": 10,
             "solidity": 0.2
            },
            "type": "scatter"
           }
          ],
          "scatter3d": [
           {
            "line": {
             "colorbar": {
              "outlinewidth": 0,
              "ticks": ""
             }
            },
            "marker": {
             "colorbar": {
              "outlinewidth": 0,
              "ticks": ""
             }
            },
            "type": "scatter3d"
           }
          ],
          "scattercarpet": [
           {
            "marker": {
             "colorbar": {
              "outlinewidth": 0,
              "ticks": ""
             }
            },
            "type": "scattercarpet"
           }
          ],
          "scattergeo": [
           {
            "marker": {
             "colorbar": {
              "outlinewidth": 0,
              "ticks": ""
             }
            },
            "type": "scattergeo"
           }
          ],
          "scattergl": [
           {
            "marker": {
             "colorbar": {
              "outlinewidth": 0,
              "ticks": ""
             }
            },
            "type": "scattergl"
           }
          ],
          "scattermapbox": [
           {
            "marker": {
             "colorbar": {
              "outlinewidth": 0,
              "ticks": ""
             }
            },
            "type": "scattermapbox"
           }
          ],
          "scatterpolar": [
           {
            "marker": {
             "colorbar": {
              "outlinewidth": 0,
              "ticks": ""
             }
            },
            "type": "scatterpolar"
           }
          ],
          "scatterpolargl": [
           {
            "marker": {
             "colorbar": {
              "outlinewidth": 0,
              "ticks": ""
             }
            },
            "type": "scatterpolargl"
           }
          ],
          "scatterternary": [
           {
            "marker": {
             "colorbar": {
              "outlinewidth": 0,
              "ticks": ""
             }
            },
            "type": "scatterternary"
           }
          ],
          "surface": [
           {
            "colorbar": {
             "outlinewidth": 0,
             "ticks": ""
            },
            "colorscale": [
             [
              0,
              "#0d0887"
             ],
             [
              0.1111111111111111,
              "#46039f"
             ],
             [
              0.2222222222222222,
              "#7201a8"
             ],
             [
              0.3333333333333333,
              "#9c179e"
             ],
             [
              0.4444444444444444,
              "#bd3786"
             ],
             [
              0.5555555555555556,
              "#d8576b"
             ],
             [
              0.6666666666666666,
              "#ed7953"
             ],
             [
              0.7777777777777778,
              "#fb9f3a"
             ],
             [
              0.8888888888888888,
              "#fdca26"
             ],
             [
              1,
              "#f0f921"
             ]
            ],
            "type": "surface"
           }
          ],
          "table": [
           {
            "cells": {
             "fill": {
              "color": "#EBF0F8"
             },
             "line": {
              "color": "white"
             }
            },
            "header": {
             "fill": {
              "color": "#C8D4E3"
             },
             "line": {
              "color": "white"
             }
            },
            "type": "table"
           }
          ]
         },
         "layout": {
          "annotationdefaults": {
           "arrowcolor": "#2a3f5f",
           "arrowhead": 0,
           "arrowwidth": 1
          },
          "autotypenumbers": "strict",
          "coloraxis": {
           "colorbar": {
            "outlinewidth": 0,
            "ticks": ""
           }
          },
          "colorscale": {
           "diverging": [
            [
             0,
             "#8e0152"
            ],
            [
             0.1,
             "#c51b7d"
            ],
            [
             0.2,
             "#de77ae"
            ],
            [
             0.3,
             "#f1b6da"
            ],
            [
             0.4,
             "#fde0ef"
            ],
            [
             0.5,
             "#f7f7f7"
            ],
            [
             0.6,
             "#e6f5d0"
            ],
            [
             0.7,
             "#b8e186"
            ],
            [
             0.8,
             "#7fbc41"
            ],
            [
             0.9,
             "#4d9221"
            ],
            [
             1,
             "#276419"
            ]
           ],
           "sequential": [
            [
             0,
             "#0d0887"
            ],
            [
             0.1111111111111111,
             "#46039f"
            ],
            [
             0.2222222222222222,
             "#7201a8"
            ],
            [
             0.3333333333333333,
             "#9c179e"
            ],
            [
             0.4444444444444444,
             "#bd3786"
            ],
            [
             0.5555555555555556,
             "#d8576b"
            ],
            [
             0.6666666666666666,
             "#ed7953"
            ],
            [
             0.7777777777777778,
             "#fb9f3a"
            ],
            [
             0.8888888888888888,
             "#fdca26"
            ],
            [
             1,
             "#f0f921"
            ]
           ],
           "sequentialminus": [
            [
             0,
             "#0d0887"
            ],
            [
             0.1111111111111111,
             "#46039f"
            ],
            [
             0.2222222222222222,
             "#7201a8"
            ],
            [
             0.3333333333333333,
             "#9c179e"
            ],
            [
             0.4444444444444444,
             "#bd3786"
            ],
            [
             0.5555555555555556,
             "#d8576b"
            ],
            [
             0.6666666666666666,
             "#ed7953"
            ],
            [
             0.7777777777777778,
             "#fb9f3a"
            ],
            [
             0.8888888888888888,
             "#fdca26"
            ],
            [
             1,
             "#f0f921"
            ]
           ]
          },
          "colorway": [
           "#636efa",
           "#EF553B",
           "#00cc96",
           "#ab63fa",
           "#FFA15A",
           "#19d3f3",
           "#FF6692",
           "#B6E880",
           "#FF97FF",
           "#FECB52"
          ],
          "font": {
           "color": "#2a3f5f"
          },
          "geo": {
           "bgcolor": "white",
           "lakecolor": "white",
           "landcolor": "#E5ECF6",
           "showlakes": true,
           "showland": true,
           "subunitcolor": "white"
          },
          "hoverlabel": {
           "align": "left"
          },
          "hovermode": "closest",
          "mapbox": {
           "style": "light"
          },
          "paper_bgcolor": "white",
          "plot_bgcolor": "#E5ECF6",
          "polar": {
           "angularaxis": {
            "gridcolor": "white",
            "linecolor": "white",
            "ticks": ""
           },
           "bgcolor": "#E5ECF6",
           "radialaxis": {
            "gridcolor": "white",
            "linecolor": "white",
            "ticks": ""
           }
          },
          "scene": {
           "xaxis": {
            "backgroundcolor": "#E5ECF6",
            "gridcolor": "white",
            "gridwidth": 2,
            "linecolor": "white",
            "showbackground": true,
            "ticks": "",
            "zerolinecolor": "white"
           },
           "yaxis": {
            "backgroundcolor": "#E5ECF6",
            "gridcolor": "white",
            "gridwidth": 2,
            "linecolor": "white",
            "showbackground": true,
            "ticks": "",
            "zerolinecolor": "white"
           },
           "zaxis": {
            "backgroundcolor": "#E5ECF6",
            "gridcolor": "white",
            "gridwidth": 2,
            "linecolor": "white",
            "showbackground": true,
            "ticks": "",
            "zerolinecolor": "white"
           }
          },
          "shapedefaults": {
           "line": {
            "color": "#2a3f5f"
           }
          },
          "ternary": {
           "aaxis": {
            "gridcolor": "white",
            "linecolor": "white",
            "ticks": ""
           },
           "baxis": {
            "gridcolor": "white",
            "linecolor": "white",
            "ticks": ""
           },
           "bgcolor": "#E5ECF6",
           "caxis": {
            "gridcolor": "white",
            "linecolor": "white",
            "ticks": ""
           }
          },
          "title": {
           "x": 0.05
          },
          "xaxis": {
           "automargin": true,
           "gridcolor": "white",
           "linecolor": "white",
           "ticks": "",
           "title": {
            "standoff": 15
           },
           "zerolinecolor": "white",
           "zerolinewidth": 2
          },
          "yaxis": {
           "automargin": true,
           "gridcolor": "white",
           "linecolor": "white",
           "ticks": "",
           "title": {
            "standoff": 15
           },
           "zerolinecolor": "white",
           "zerolinewidth": 2
          }
         }
        },
        "title": {
         "text": "Trading simulation plot of Combine predictions"
        },
        "xaxis": {
         "title": {
          "text": "Date"
         }
        },
        "yaxis": {
         "title": {
          "text": "Price"
         }
        }
       }
      }
     },
     "metadata": {},
     "output_type": "display_data"
    }
   ],
   "source": [
    "# Plotting for each different predictions\n",
    "for prediction in back_test_df.columns[2:]:\n",
    "    long_position, short_position = trading_simulation(back_test_df, prediction)\n",
    "    trading_simulation_plot(back_test_df, long_position, short_position, prediction)"
   ]
  },
  {
   "cell_type": "code",
   "execution_count": 67,
   "metadata": {},
   "outputs": [
    {
     "data": {
      "text/html": [
       "<div>\n",
       "<style scoped>\n",
       "    .dataframe tbody tr th:only-of-type {\n",
       "        vertical-align: middle;\n",
       "    }\n",
       "\n",
       "    .dataframe tbody tr th {\n",
       "        vertical-align: top;\n",
       "    }\n",
       "\n",
       "    .dataframe thead th {\n",
       "        text-align: right;\n",
       "    }\n",
       "</style>\n",
       "<table border=\"1\" class=\"dataframe\">\n",
       "  <thead>\n",
       "    <tr style=\"text-align: right;\">\n",
       "      <th></th>\n",
       "      <th>Classification</th>\n",
       "      <th>Univariate</th>\n",
       "      <th>Multivariate</th>\n",
       "      <th>Univariate + Multivariate</th>\n",
       "      <th>Classification + Univariate</th>\n",
       "      <th>Classification + Multivariate</th>\n",
       "      <th>Combine</th>\n",
       "    </tr>\n",
       "  </thead>\n",
       "  <tbody>\n",
       "    <tr>\n",
       "      <th>Number of trades</th>\n",
       "      <td>63.00</td>\n",
       "      <td>113.00</td>\n",
       "      <td>115.00</td>\n",
       "      <td>107.00</td>\n",
       "      <td>31.00</td>\n",
       "      <td>31.00</td>\n",
       "      <td>31.00</td>\n",
       "    </tr>\n",
       "    <tr>\n",
       "      <th>Number of buy trades</th>\n",
       "      <td>32.00</td>\n",
       "      <td>57.00</td>\n",
       "      <td>58.00</td>\n",
       "      <td>54.00</td>\n",
       "      <td>16.00</td>\n",
       "      <td>16.00</td>\n",
       "      <td>16.00</td>\n",
       "    </tr>\n",
       "    <tr>\n",
       "      <th>Number of sell trades</th>\n",
       "      <td>31.00</td>\n",
       "      <td>56.00</td>\n",
       "      <td>57.00</td>\n",
       "      <td>53.00</td>\n",
       "      <td>15.00</td>\n",
       "      <td>15.00</td>\n",
       "      <td>15.00</td>\n",
       "    </tr>\n",
       "    <tr>\n",
       "      <th>Long positions profit</th>\n",
       "      <td>327.40</td>\n",
       "      <td>383.89</td>\n",
       "      <td>354.46</td>\n",
       "      <td>360.63</td>\n",
       "      <td>451.69</td>\n",
       "      <td>431.27</td>\n",
       "      <td>451.69</td>\n",
       "    </tr>\n",
       "    <tr>\n",
       "      <th>Short positions profit</th>\n",
       "      <td>250.83</td>\n",
       "      <td>313.70</td>\n",
       "      <td>284.27</td>\n",
       "      <td>290.44</td>\n",
       "      <td>366.44</td>\n",
       "      <td>346.02</td>\n",
       "      <td>366.44</td>\n",
       "    </tr>\n",
       "    <tr>\n",
       "      <th>Total profit</th>\n",
       "      <td>578.23</td>\n",
       "      <td>697.59</td>\n",
       "      <td>638.73</td>\n",
       "      <td>651.07</td>\n",
       "      <td>818.13</td>\n",
       "      <td>777.29</td>\n",
       "      <td>818.13</td>\n",
       "    </tr>\n",
       "  </tbody>\n",
       "</table>\n",
       "</div>"
      ],
      "text/plain": [
       "                        Classification  Univariate  Multivariate  \\\n",
       "Number of trades                 63.00      113.00        115.00   \n",
       "Number of buy trades             32.00       57.00         58.00   \n",
       "Number of sell trades            31.00       56.00         57.00   \n",
       "Long positions profit           327.40      383.89        354.46   \n",
       "Short positions profit          250.83      313.70        284.27   \n",
       "Total profit                    578.23      697.59        638.73   \n",
       "\n",
       "                        Univariate + Multivariate  \\\n",
       "Number of trades                           107.00   \n",
       "Number of buy trades                        54.00   \n",
       "Number of sell trades                       53.00   \n",
       "Long positions profit                      360.63   \n",
       "Short positions profit                     290.44   \n",
       "Total profit                               651.07   \n",
       "\n",
       "                        Classification + Univariate  \\\n",
       "Number of trades                              31.00   \n",
       "Number of buy trades                          16.00   \n",
       "Number of sell trades                         15.00   \n",
       "Long positions profit                        451.69   \n",
       "Short positions profit                       366.44   \n",
       "Total profit                                 818.13   \n",
       "\n",
       "                        Classification + Multivariate  Combine  \n",
       "Number of trades                                31.00    31.00  \n",
       "Number of buy trades                            16.00    16.00  \n",
       "Number of sell trades                           15.00    15.00  \n",
       "Long positions profit                          431.27   451.69  \n",
       "Short positions profit                         346.02   366.44  \n",
       "Total profit                                   777.29   818.13  "
      ]
     },
     "execution_count": 67,
     "metadata": {},
     "output_type": "execute_result"
    }
   ],
   "source": [
    "# Compiling different trading simulations results\n",
    "columns_for_results = [\"Number of trades\", \"Number of buy trades\", \"Number of sell trades\", \"Long positions profit\", \"Short positions profit\", \"Total profit\"]\n",
    "trading_simulations_results = pd.DataFrame(index = columns_for_results)\n",
    "for prediction in back_test_df.columns[2:]:\n",
    "    long_position, short_position = trading_simulation(back_test_df, prediction)\n",
    "    buy = long_position[\"Price\"].diff().dropna()\n",
    "    sell = short_position[\"Price\"].diff().dropna()*-1 # Change profit to a positive number as it is shorting trades\n",
    "    trading_simulations_results[prediction] = [(len(buy)+len(sell)) , len(buy), len(sell), round(buy.sum(),2), round(sell.sum(),2), round((buy.sum() + sell.sum()),2)]\n",
    "\n",
    "trading_simulations_results"
   ]
  },
  {
   "cell_type": "code",
   "execution_count": 68,
   "metadata": {},
   "outputs": [
    {
     "data": {
      "text/html": [
       "<div>\n",
       "<style scoped>\n",
       "    .dataframe tbody tr th:only-of-type {\n",
       "        vertical-align: middle;\n",
       "    }\n",
       "\n",
       "    .dataframe tbody tr th {\n",
       "        vertical-align: top;\n",
       "    }\n",
       "\n",
       "    .dataframe thead th {\n",
       "        text-align: right;\n",
       "    }\n",
       "</style>\n",
       "<table border=\"1\" class=\"dataframe\">\n",
       "  <thead>\n",
       "    <tr style=\"text-align: right;\">\n",
       "      <th></th>\n",
       "      <th>Number of buy trades</th>\n",
       "      <th>Number of sell trades</th>\n",
       "    </tr>\n",
       "  </thead>\n",
       "  <tbody>\n",
       "    <tr>\n",
       "      <th>Classification</th>\n",
       "      <td>32.0</td>\n",
       "      <td>31.0</td>\n",
       "    </tr>\n",
       "    <tr>\n",
       "      <th>Univariate</th>\n",
       "      <td>57.0</td>\n",
       "      <td>56.0</td>\n",
       "    </tr>\n",
       "    <tr>\n",
       "      <th>Multivariate</th>\n",
       "      <td>58.0</td>\n",
       "      <td>57.0</td>\n",
       "    </tr>\n",
       "    <tr>\n",
       "      <th>Univariate + Multivariate</th>\n",
       "      <td>54.0</td>\n",
       "      <td>53.0</td>\n",
       "    </tr>\n",
       "    <tr>\n",
       "      <th>Classification + Univariate</th>\n",
       "      <td>16.0</td>\n",
       "      <td>15.0</td>\n",
       "    </tr>\n",
       "    <tr>\n",
       "      <th>Classification + Multivariate</th>\n",
       "      <td>16.0</td>\n",
       "      <td>15.0</td>\n",
       "    </tr>\n",
       "    <tr>\n",
       "      <th>Combine</th>\n",
       "      <td>16.0</td>\n",
       "      <td>15.0</td>\n",
       "    </tr>\n",
       "  </tbody>\n",
       "</table>\n",
       "</div>"
      ],
      "text/plain": [
       "                               Number of buy trades  Number of sell trades\n",
       "Classification                                 32.0                   31.0\n",
       "Univariate                                     57.0                   56.0\n",
       "Multivariate                                   58.0                   57.0\n",
       "Univariate + Multivariate                      54.0                   53.0\n",
       "Classification + Univariate                    16.0                   15.0\n",
       "Classification + Multivariate                  16.0                   15.0\n",
       "Combine                                        16.0                   15.0"
      ]
     },
     "execution_count": 68,
     "metadata": {},
     "output_type": "execute_result"
    }
   ],
   "source": [
    "trading_simulations_results.T[[\"Number of buy trades\",\"Number of sell trades\"]]"
   ]
  },
  {
   "cell_type": "code",
   "execution_count": 69,
   "metadata": {},
   "outputs": [
    {
     "data": {
      "text/plain": [
       "[Text(0, 0, '31'),\n",
       " Text(0, 0, '56'),\n",
       " Text(0, 0, '57'),\n",
       " Text(0, 0, '53'),\n",
       " Text(0, 0, '15'),\n",
       " Text(0, 0, '15'),\n",
       " Text(0, 0, '15')]"
      ]
     },
     "execution_count": 69,
     "metadata": {},
     "output_type": "execute_result"
    },
    {
     "data": {
      "image/png": "[encoded data removed]",
      "text/plain": [
       "<Figure size 1000x700 with 1 Axes>"
      ]
     },
     "metadata": {},
     "output_type": "display_data"
    }
   ],
   "source": [
    "# Plotting of number of trades\n",
    "xlabels=[\"Classification\", \"Univariate\", \"Multivariate\", \"Univariate + Multivariate\", \"Classification + Univariate\", \"Classification + Multivariate\", \"Combine\"]\n",
    "fig, ax = plt.subplots(figsize=(10,7))\n",
    "bar_plot = trading_simulations_results.T[[\"Number of buy trades\",\"Number of sell trades\"]].plot(kind=\"bar\", stacked=True, colormap=\"coolwarm\", fontsize=15 ,ax=ax)\n",
    "ax.set_xticklabels(xlabels, rotation=45, ha='right')\n",
    "plt.title(\"Number of trades taken by each model\")\n",
    "plt.bar_label(bar_plot.containers[0], size=16, label_type=\"center\")\n",
    "plt.bar_label(bar_plot.containers[1], size=16, label_type=\"center\")\n"
   ]
  },
  {
   "cell_type": "code",
   "execution_count": 70,
   "metadata": {},
   "outputs": [
    {
     "data": {
      "text/plain": [
       "[Text(0, 0, '250.83'),\n",
       " Text(0, 0, '313.7'),\n",
       " Text(0, 0, '284.27'),\n",
       " Text(0, 0, '290.44'),\n",
       " Text(0, 0, '366.44'),\n",
       " Text(0, 0, '346.02'),\n",
       " Text(0, 0, '366.44')]"
      ]
     },
     "execution_count": 70,
     "metadata": {},
     "output_type": "execute_result"
    },
    {
     "data": {
      "image/png": "[encoded data removed]",
      "text/plain": [
       "<Figure size 1000x700 with 1 Axes>"
      ]
     },
     "metadata": {},
     "output_type": "display_data"
    }
   ],
   "source": [
    "# Plotting of profit for each model\n",
    "fig, ax = plt.subplots(figsize=(10,7))\n",
    "bar_plot = trading_simulations_results.T[[\"Long positions profit\",\"Short positions profit\"]].plot(kind=\"bar\", stacked=True, fontsize=15, colormap='RdYlGn',ax=ax)\n",
    "ax.set_xticklabels(xlabels, rotation=45, ha='right')\n",
    "plt.title(\"Profit from each model\")\n",
    "plt.bar_label(bar_plot.containers[0], size=11, label_type=\"center\")\n",
    "plt.bar_label(bar_plot.containers[1], size=11, label_type=\"center\")"
   ]
  }
 ],
 "metadata": {
  "kernelspec": {
   "display_name": "mages",
   "language": "python",
   "name": "python3"
  },
  "language_info": {
   "codemirror_mode": {
    "name": "ipython",
    "version": 3
   },
   "file_extension": ".py",
   "mimetype": "text/x-python",
   "name": "python",
   "nbconvert_exporter": "python",
   "pygments_lexer": "ipython3",
   "version": "3.10.4"
  },
  "orig_nbformat": 4,
  "vscode": {
   "interpreter": {
    "hash": "81e19f9b470b02458b24c42aaa76c128fc4f599a17bf0001519e13778e9988da"
   }
  }
 },
 "nbformat": 4,
 "nbformat_minor": 2
}
